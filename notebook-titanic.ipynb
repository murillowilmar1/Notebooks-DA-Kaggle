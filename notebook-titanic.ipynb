{
 "cells": [
  {
   "cell_type": "markdown",
   "id": "f7b37cff",
   "metadata": {
    "papermill": {
     "duration": 0.010799,
     "end_time": "2022-12-30T12:21:18.716123",
     "exception": false,
     "start_time": "2022-12-30T12:21:18.705324",
     "status": "completed"
    },
    "tags": []
   },
   "source": [
    "\n",
    "# **Análisis base de datos Titanic**\n",
    "\n",
    "\n",
    "\n",
    "\n",
    "##### *Wilmar Murillo Carmona*\n",
    "\n",
    "   \n"
   ]
  },
  {
   "cell_type": "markdown",
   "id": "317955fa",
   "metadata": {
    "papermill": {
     "duration": 0.009304,
     "end_time": "2022-12-30T12:21:18.737691",
     "exception": false,
     "start_time": "2022-12-30T12:21:18.728387",
     "status": "completed"
    },
    "tags": []
   },
   "source": [
    "# Importación de librerias "
   ]
  },
  {
   "cell_type": "code",
   "execution_count": 1,
   "id": "ef52ec5a",
   "metadata": {
    "execution": {
     "iopub.execute_input": "2022-12-30T12:21:18.758347Z",
     "iopub.status.busy": "2022-12-30T12:21:18.757917Z",
     "iopub.status.idle": "2022-12-30T12:21:19.970948Z",
     "shell.execute_reply": "2022-12-30T12:21:19.969817Z"
    },
    "papermill": {
     "duration": 1.227299,
     "end_time": "2022-12-30T12:21:19.974463",
     "exception": false,
     "start_time": "2022-12-30T12:21:18.747164",
     "status": "completed"
    },
    "tags": []
   },
   "outputs": [],
   "source": [
    "import pandas as pd \n",
    "import numpy as np \n",
    "import matplotlib.pyplot as plt\n",
    "import seaborn as sns "
   ]
  },
  {
   "cell_type": "code",
   "execution_count": 2,
   "id": "a830aee2",
   "metadata": {
    "execution": {
     "iopub.execute_input": "2022-12-30T12:21:20.004047Z",
     "iopub.status.busy": "2022-12-30T12:21:20.003235Z",
     "iopub.status.idle": "2022-12-30T12:21:20.008737Z",
     "shell.execute_reply": "2022-12-30T12:21:20.007703Z"
    },
    "papermill": {
     "duration": 0.022112,
     "end_time": "2022-12-30T12:21:20.011449",
     "exception": false,
     "start_time": "2022-12-30T12:21:19.989337",
     "status": "completed"
    },
    "tags": []
   },
   "outputs": [],
   "source": [
    "url = \"/kaggle/input/titanic/train.csv\"\n",
    "url1= \"/kaggle/input/titanic/test.csv\""
   ]
  },
  {
   "cell_type": "markdown",
   "id": "cd314b72",
   "metadata": {
    "papermill": {
     "duration": 0.010821,
     "end_time": "2022-12-30T12:21:20.035462",
     "exception": false,
     "start_time": "2022-12-30T12:21:20.024641",
     "status": "completed"
    },
    "tags": []
   },
   "source": [
    "# Importación de datos "
   ]
  },
  {
   "cell_type": "code",
   "execution_count": 3,
   "id": "9bd3d854",
   "metadata": {
    "execution": {
     "iopub.execute_input": "2022-12-30T12:21:20.067651Z",
     "iopub.status.busy": "2022-12-30T12:21:20.067225Z",
     "iopub.status.idle": "2022-12-30T12:21:20.098329Z",
     "shell.execute_reply": "2022-12-30T12:21:20.097217Z"
    },
    "papermill": {
     "duration": 0.050221,
     "end_time": "2022-12-30T12:21:20.101433",
     "exception": false,
     "start_time": "2022-12-30T12:21:20.051212",
     "status": "completed"
    },
    "tags": []
   },
   "outputs": [],
   "source": [
    "df_train = pd.read_csv(url)\n",
    "df_test = pd.read_csv(url1)"
   ]
  },
  {
   "cell_type": "markdown",
   "id": "a856c98e",
   "metadata": {
    "papermill": {
     "duration": 0.010369,
     "end_time": "2022-12-30T12:21:20.122787",
     "exception": false,
     "start_time": "2022-12-30T12:21:20.112418",
     "status": "completed"
    },
    "tags": []
   },
   "source": [
    "# Visualización datos "
   ]
  },
  {
   "cell_type": "code",
   "execution_count": 4,
   "id": "d0c795c7",
   "metadata": {
    "execution": {
     "iopub.execute_input": "2022-12-30T12:21:20.144907Z",
     "iopub.status.busy": "2022-12-30T12:21:20.143561Z",
     "iopub.status.idle": "2022-12-30T12:21:20.179629Z",
     "shell.execute_reply": "2022-12-30T12:21:20.178734Z"
    },
    "papermill": {
     "duration": 0.051155,
     "end_time": "2022-12-30T12:21:20.183684",
     "exception": false,
     "start_time": "2022-12-30T12:21:20.132529",
     "status": "completed"
    },
    "tags": []
   },
   "outputs": [
    {
     "data": {
      "text/html": [
       "<div>\n",
       "<style scoped>\n",
       "    .dataframe tbody tr th:only-of-type {\n",
       "        vertical-align: middle;\n",
       "    }\n",
       "\n",
       "    .dataframe tbody tr th {\n",
       "        vertical-align: top;\n",
       "    }\n",
       "\n",
       "    .dataframe thead th {\n",
       "        text-align: right;\n",
       "    }\n",
       "</style>\n",
       "<table border=\"1\" class=\"dataframe\">\n",
       "  <thead>\n",
       "    <tr style=\"text-align: right;\">\n",
       "      <th></th>\n",
       "      <th>PassengerId</th>\n",
       "      <th>Survived</th>\n",
       "      <th>Pclass</th>\n",
       "      <th>Name</th>\n",
       "      <th>Sex</th>\n",
       "      <th>Age</th>\n",
       "      <th>SibSp</th>\n",
       "      <th>Parch</th>\n",
       "      <th>Ticket</th>\n",
       "      <th>Fare</th>\n",
       "      <th>Cabin</th>\n",
       "      <th>Embarked</th>\n",
       "    </tr>\n",
       "  </thead>\n",
       "  <tbody>\n",
       "    <tr>\n",
       "      <th>0</th>\n",
       "      <td>1</td>\n",
       "      <td>0</td>\n",
       "      <td>3</td>\n",
       "      <td>Braund, Mr. Owen Harris</td>\n",
       "      <td>male</td>\n",
       "      <td>22.0</td>\n",
       "      <td>1</td>\n",
       "      <td>0</td>\n",
       "      <td>A/5 21171</td>\n",
       "      <td>7.2500</td>\n",
       "      <td>NaN</td>\n",
       "      <td>S</td>\n",
       "    </tr>\n",
       "    <tr>\n",
       "      <th>1</th>\n",
       "      <td>2</td>\n",
       "      <td>1</td>\n",
       "      <td>1</td>\n",
       "      <td>Cumings, Mrs. John Bradley (Florence Briggs Th...</td>\n",
       "      <td>female</td>\n",
       "      <td>38.0</td>\n",
       "      <td>1</td>\n",
       "      <td>0</td>\n",
       "      <td>PC 17599</td>\n",
       "      <td>71.2833</td>\n",
       "      <td>C85</td>\n",
       "      <td>C</td>\n",
       "    </tr>\n",
       "    <tr>\n",
       "      <th>2</th>\n",
       "      <td>3</td>\n",
       "      <td>1</td>\n",
       "      <td>3</td>\n",
       "      <td>Heikkinen, Miss. Laina</td>\n",
       "      <td>female</td>\n",
       "      <td>26.0</td>\n",
       "      <td>0</td>\n",
       "      <td>0</td>\n",
       "      <td>STON/O2. 3101282</td>\n",
       "      <td>7.9250</td>\n",
       "      <td>NaN</td>\n",
       "      <td>S</td>\n",
       "    </tr>\n",
       "    <tr>\n",
       "      <th>3</th>\n",
       "      <td>4</td>\n",
       "      <td>1</td>\n",
       "      <td>1</td>\n",
       "      <td>Futrelle, Mrs. Jacques Heath (Lily May Peel)</td>\n",
       "      <td>female</td>\n",
       "      <td>35.0</td>\n",
       "      <td>1</td>\n",
       "      <td>0</td>\n",
       "      <td>113803</td>\n",
       "      <td>53.1000</td>\n",
       "      <td>C123</td>\n",
       "      <td>S</td>\n",
       "    </tr>\n",
       "    <tr>\n",
       "      <th>4</th>\n",
       "      <td>5</td>\n",
       "      <td>0</td>\n",
       "      <td>3</td>\n",
       "      <td>Allen, Mr. William Henry</td>\n",
       "      <td>male</td>\n",
       "      <td>35.0</td>\n",
       "      <td>0</td>\n",
       "      <td>0</td>\n",
       "      <td>373450</td>\n",
       "      <td>8.0500</td>\n",
       "      <td>NaN</td>\n",
       "      <td>S</td>\n",
       "    </tr>\n",
       "    <tr>\n",
       "      <th>...</th>\n",
       "      <td>...</td>\n",
       "      <td>...</td>\n",
       "      <td>...</td>\n",
       "      <td>...</td>\n",
       "      <td>...</td>\n",
       "      <td>...</td>\n",
       "      <td>...</td>\n",
       "      <td>...</td>\n",
       "      <td>...</td>\n",
       "      <td>...</td>\n",
       "      <td>...</td>\n",
       "      <td>...</td>\n",
       "    </tr>\n",
       "    <tr>\n",
       "      <th>886</th>\n",
       "      <td>887</td>\n",
       "      <td>0</td>\n",
       "      <td>2</td>\n",
       "      <td>Montvila, Rev. Juozas</td>\n",
       "      <td>male</td>\n",
       "      <td>27.0</td>\n",
       "      <td>0</td>\n",
       "      <td>0</td>\n",
       "      <td>211536</td>\n",
       "      <td>13.0000</td>\n",
       "      <td>NaN</td>\n",
       "      <td>S</td>\n",
       "    </tr>\n",
       "    <tr>\n",
       "      <th>887</th>\n",
       "      <td>888</td>\n",
       "      <td>1</td>\n",
       "      <td>1</td>\n",
       "      <td>Graham, Miss. Margaret Edith</td>\n",
       "      <td>female</td>\n",
       "      <td>19.0</td>\n",
       "      <td>0</td>\n",
       "      <td>0</td>\n",
       "      <td>112053</td>\n",
       "      <td>30.0000</td>\n",
       "      <td>B42</td>\n",
       "      <td>S</td>\n",
       "    </tr>\n",
       "    <tr>\n",
       "      <th>888</th>\n",
       "      <td>889</td>\n",
       "      <td>0</td>\n",
       "      <td>3</td>\n",
       "      <td>Johnston, Miss. Catherine Helen \"Carrie\"</td>\n",
       "      <td>female</td>\n",
       "      <td>NaN</td>\n",
       "      <td>1</td>\n",
       "      <td>2</td>\n",
       "      <td>W./C. 6607</td>\n",
       "      <td>23.4500</td>\n",
       "      <td>NaN</td>\n",
       "      <td>S</td>\n",
       "    </tr>\n",
       "    <tr>\n",
       "      <th>889</th>\n",
       "      <td>890</td>\n",
       "      <td>1</td>\n",
       "      <td>1</td>\n",
       "      <td>Behr, Mr. Karl Howell</td>\n",
       "      <td>male</td>\n",
       "      <td>26.0</td>\n",
       "      <td>0</td>\n",
       "      <td>0</td>\n",
       "      <td>111369</td>\n",
       "      <td>30.0000</td>\n",
       "      <td>C148</td>\n",
       "      <td>C</td>\n",
       "    </tr>\n",
       "    <tr>\n",
       "      <th>890</th>\n",
       "      <td>891</td>\n",
       "      <td>0</td>\n",
       "      <td>3</td>\n",
       "      <td>Dooley, Mr. Patrick</td>\n",
       "      <td>male</td>\n",
       "      <td>32.0</td>\n",
       "      <td>0</td>\n",
       "      <td>0</td>\n",
       "      <td>370376</td>\n",
       "      <td>7.7500</td>\n",
       "      <td>NaN</td>\n",
       "      <td>Q</td>\n",
       "    </tr>\n",
       "  </tbody>\n",
       "</table>\n",
       "<p>891 rows × 12 columns</p>\n",
       "</div>"
      ],
      "text/plain": [
       "     PassengerId  Survived  Pclass  \\\n",
       "0              1         0       3   \n",
       "1              2         1       1   \n",
       "2              3         1       3   \n",
       "3              4         1       1   \n",
       "4              5         0       3   \n",
       "..           ...       ...     ...   \n",
       "886          887         0       2   \n",
       "887          888         1       1   \n",
       "888          889         0       3   \n",
       "889          890         1       1   \n",
       "890          891         0       3   \n",
       "\n",
       "                                                  Name     Sex   Age  SibSp  \\\n",
       "0                              Braund, Mr. Owen Harris    male  22.0      1   \n",
       "1    Cumings, Mrs. John Bradley (Florence Briggs Th...  female  38.0      1   \n",
       "2                               Heikkinen, Miss. Laina  female  26.0      0   \n",
       "3         Futrelle, Mrs. Jacques Heath (Lily May Peel)  female  35.0      1   \n",
       "4                             Allen, Mr. William Henry    male  35.0      0   \n",
       "..                                                 ...     ...   ...    ...   \n",
       "886                              Montvila, Rev. Juozas    male  27.0      0   \n",
       "887                       Graham, Miss. Margaret Edith  female  19.0      0   \n",
       "888           Johnston, Miss. Catherine Helen \"Carrie\"  female   NaN      1   \n",
       "889                              Behr, Mr. Karl Howell    male  26.0      0   \n",
       "890                                Dooley, Mr. Patrick    male  32.0      0   \n",
       "\n",
       "     Parch            Ticket     Fare Cabin Embarked  \n",
       "0        0         A/5 21171   7.2500   NaN        S  \n",
       "1        0          PC 17599  71.2833   C85        C  \n",
       "2        0  STON/O2. 3101282   7.9250   NaN        S  \n",
       "3        0            113803  53.1000  C123        S  \n",
       "4        0            373450   8.0500   NaN        S  \n",
       "..     ...               ...      ...   ...      ...  \n",
       "886      0            211536  13.0000   NaN        S  \n",
       "887      0            112053  30.0000   B42        S  \n",
       "888      2        W./C. 6607  23.4500   NaN        S  \n",
       "889      0            111369  30.0000  C148        C  \n",
       "890      0            370376   7.7500   NaN        Q  \n",
       "\n",
       "[891 rows x 12 columns]"
      ]
     },
     "execution_count": 4,
     "metadata": {},
     "output_type": "execute_result"
    }
   ],
   "source": [
    "df_train"
   ]
  },
  {
   "cell_type": "code",
   "execution_count": 5,
   "id": "8dbc1383",
   "metadata": {
    "execution": {
     "iopub.execute_input": "2022-12-30T12:21:20.212007Z",
     "iopub.status.busy": "2022-12-30T12:21:20.210864Z",
     "iopub.status.idle": "2022-12-30T12:21:20.239020Z",
     "shell.execute_reply": "2022-12-30T12:21:20.238010Z"
    },
    "papermill": {
     "duration": 0.042557,
     "end_time": "2022-12-30T12:21:20.241800",
     "exception": false,
     "start_time": "2022-12-30T12:21:20.199243",
     "status": "completed"
    },
    "tags": []
   },
   "outputs": [
    {
     "data": {
      "text/html": [
       "<div>\n",
       "<style scoped>\n",
       "    .dataframe tbody tr th:only-of-type {\n",
       "        vertical-align: middle;\n",
       "    }\n",
       "\n",
       "    .dataframe tbody tr th {\n",
       "        vertical-align: top;\n",
       "    }\n",
       "\n",
       "    .dataframe thead th {\n",
       "        text-align: right;\n",
       "    }\n",
       "</style>\n",
       "<table border=\"1\" class=\"dataframe\">\n",
       "  <thead>\n",
       "    <tr style=\"text-align: right;\">\n",
       "      <th></th>\n",
       "      <th>PassengerId</th>\n",
       "      <th>Pclass</th>\n",
       "      <th>Name</th>\n",
       "      <th>Sex</th>\n",
       "      <th>Age</th>\n",
       "      <th>SibSp</th>\n",
       "      <th>Parch</th>\n",
       "      <th>Ticket</th>\n",
       "      <th>Fare</th>\n",
       "      <th>Cabin</th>\n",
       "      <th>Embarked</th>\n",
       "    </tr>\n",
       "  </thead>\n",
       "  <tbody>\n",
       "    <tr>\n",
       "      <th>0</th>\n",
       "      <td>892</td>\n",
       "      <td>3</td>\n",
       "      <td>Kelly, Mr. James</td>\n",
       "      <td>male</td>\n",
       "      <td>34.5</td>\n",
       "      <td>0</td>\n",
       "      <td>0</td>\n",
       "      <td>330911</td>\n",
       "      <td>7.8292</td>\n",
       "      <td>NaN</td>\n",
       "      <td>Q</td>\n",
       "    </tr>\n",
       "    <tr>\n",
       "      <th>1</th>\n",
       "      <td>893</td>\n",
       "      <td>3</td>\n",
       "      <td>Wilkes, Mrs. James (Ellen Needs)</td>\n",
       "      <td>female</td>\n",
       "      <td>47.0</td>\n",
       "      <td>1</td>\n",
       "      <td>0</td>\n",
       "      <td>363272</td>\n",
       "      <td>7.0000</td>\n",
       "      <td>NaN</td>\n",
       "      <td>S</td>\n",
       "    </tr>\n",
       "    <tr>\n",
       "      <th>2</th>\n",
       "      <td>894</td>\n",
       "      <td>2</td>\n",
       "      <td>Myles, Mr. Thomas Francis</td>\n",
       "      <td>male</td>\n",
       "      <td>62.0</td>\n",
       "      <td>0</td>\n",
       "      <td>0</td>\n",
       "      <td>240276</td>\n",
       "      <td>9.6875</td>\n",
       "      <td>NaN</td>\n",
       "      <td>Q</td>\n",
       "    </tr>\n",
       "    <tr>\n",
       "      <th>3</th>\n",
       "      <td>895</td>\n",
       "      <td>3</td>\n",
       "      <td>Wirz, Mr. Albert</td>\n",
       "      <td>male</td>\n",
       "      <td>27.0</td>\n",
       "      <td>0</td>\n",
       "      <td>0</td>\n",
       "      <td>315154</td>\n",
       "      <td>8.6625</td>\n",
       "      <td>NaN</td>\n",
       "      <td>S</td>\n",
       "    </tr>\n",
       "    <tr>\n",
       "      <th>4</th>\n",
       "      <td>896</td>\n",
       "      <td>3</td>\n",
       "      <td>Hirvonen, Mrs. Alexander (Helga E Lindqvist)</td>\n",
       "      <td>female</td>\n",
       "      <td>22.0</td>\n",
       "      <td>1</td>\n",
       "      <td>1</td>\n",
       "      <td>3101298</td>\n",
       "      <td>12.2875</td>\n",
       "      <td>NaN</td>\n",
       "      <td>S</td>\n",
       "    </tr>\n",
       "    <tr>\n",
       "      <th>...</th>\n",
       "      <td>...</td>\n",
       "      <td>...</td>\n",
       "      <td>...</td>\n",
       "      <td>...</td>\n",
       "      <td>...</td>\n",
       "      <td>...</td>\n",
       "      <td>...</td>\n",
       "      <td>...</td>\n",
       "      <td>...</td>\n",
       "      <td>...</td>\n",
       "      <td>...</td>\n",
       "    </tr>\n",
       "    <tr>\n",
       "      <th>413</th>\n",
       "      <td>1305</td>\n",
       "      <td>3</td>\n",
       "      <td>Spector, Mr. Woolf</td>\n",
       "      <td>male</td>\n",
       "      <td>NaN</td>\n",
       "      <td>0</td>\n",
       "      <td>0</td>\n",
       "      <td>A.5. 3236</td>\n",
       "      <td>8.0500</td>\n",
       "      <td>NaN</td>\n",
       "      <td>S</td>\n",
       "    </tr>\n",
       "    <tr>\n",
       "      <th>414</th>\n",
       "      <td>1306</td>\n",
       "      <td>1</td>\n",
       "      <td>Oliva y Ocana, Dona. Fermina</td>\n",
       "      <td>female</td>\n",
       "      <td>39.0</td>\n",
       "      <td>0</td>\n",
       "      <td>0</td>\n",
       "      <td>PC 17758</td>\n",
       "      <td>108.9000</td>\n",
       "      <td>C105</td>\n",
       "      <td>C</td>\n",
       "    </tr>\n",
       "    <tr>\n",
       "      <th>415</th>\n",
       "      <td>1307</td>\n",
       "      <td>3</td>\n",
       "      <td>Saether, Mr. Simon Sivertsen</td>\n",
       "      <td>male</td>\n",
       "      <td>38.5</td>\n",
       "      <td>0</td>\n",
       "      <td>0</td>\n",
       "      <td>SOTON/O.Q. 3101262</td>\n",
       "      <td>7.2500</td>\n",
       "      <td>NaN</td>\n",
       "      <td>S</td>\n",
       "    </tr>\n",
       "    <tr>\n",
       "      <th>416</th>\n",
       "      <td>1308</td>\n",
       "      <td>3</td>\n",
       "      <td>Ware, Mr. Frederick</td>\n",
       "      <td>male</td>\n",
       "      <td>NaN</td>\n",
       "      <td>0</td>\n",
       "      <td>0</td>\n",
       "      <td>359309</td>\n",
       "      <td>8.0500</td>\n",
       "      <td>NaN</td>\n",
       "      <td>S</td>\n",
       "    </tr>\n",
       "    <tr>\n",
       "      <th>417</th>\n",
       "      <td>1309</td>\n",
       "      <td>3</td>\n",
       "      <td>Peter, Master. Michael J</td>\n",
       "      <td>male</td>\n",
       "      <td>NaN</td>\n",
       "      <td>1</td>\n",
       "      <td>1</td>\n",
       "      <td>2668</td>\n",
       "      <td>22.3583</td>\n",
       "      <td>NaN</td>\n",
       "      <td>C</td>\n",
       "    </tr>\n",
       "  </tbody>\n",
       "</table>\n",
       "<p>418 rows × 11 columns</p>\n",
       "</div>"
      ],
      "text/plain": [
       "     PassengerId  Pclass                                          Name  \\\n",
       "0            892       3                              Kelly, Mr. James   \n",
       "1            893       3              Wilkes, Mrs. James (Ellen Needs)   \n",
       "2            894       2                     Myles, Mr. Thomas Francis   \n",
       "3            895       3                              Wirz, Mr. Albert   \n",
       "4            896       3  Hirvonen, Mrs. Alexander (Helga E Lindqvist)   \n",
       "..           ...     ...                                           ...   \n",
       "413         1305       3                            Spector, Mr. Woolf   \n",
       "414         1306       1                  Oliva y Ocana, Dona. Fermina   \n",
       "415         1307       3                  Saether, Mr. Simon Sivertsen   \n",
       "416         1308       3                           Ware, Mr. Frederick   \n",
       "417         1309       3                      Peter, Master. Michael J   \n",
       "\n",
       "        Sex   Age  SibSp  Parch              Ticket      Fare Cabin Embarked  \n",
       "0      male  34.5      0      0              330911    7.8292   NaN        Q  \n",
       "1    female  47.0      1      0              363272    7.0000   NaN        S  \n",
       "2      male  62.0      0      0              240276    9.6875   NaN        Q  \n",
       "3      male  27.0      0      0              315154    8.6625   NaN        S  \n",
       "4    female  22.0      1      1             3101298   12.2875   NaN        S  \n",
       "..      ...   ...    ...    ...                 ...       ...   ...      ...  \n",
       "413    male   NaN      0      0           A.5. 3236    8.0500   NaN        S  \n",
       "414  female  39.0      0      0            PC 17758  108.9000  C105        C  \n",
       "415    male  38.5      0      0  SOTON/O.Q. 3101262    7.2500   NaN        S  \n",
       "416    male   NaN      0      0              359309    8.0500   NaN        S  \n",
       "417    male   NaN      1      1                2668   22.3583   NaN        C  \n",
       "\n",
       "[418 rows x 11 columns]"
      ]
     },
     "execution_count": 5,
     "metadata": {},
     "output_type": "execute_result"
    }
   ],
   "source": [
    "df_test"
   ]
  },
  {
   "cell_type": "code",
   "execution_count": 6,
   "id": "0ed83d10",
   "metadata": {
    "execution": {
     "iopub.execute_input": "2022-12-30T12:21:20.274942Z",
     "iopub.status.busy": "2022-12-30T12:21:20.274168Z",
     "iopub.status.idle": "2022-12-30T12:21:20.307211Z",
     "shell.execute_reply": "2022-12-30T12:21:20.306028Z"
    },
    "papermill": {
     "duration": 0.052814,
     "end_time": "2022-12-30T12:21:20.310065",
     "exception": false,
     "start_time": "2022-12-30T12:21:20.257251",
     "status": "completed"
    },
    "tags": []
   },
   "outputs": [
    {
     "name": "stdout",
     "output_type": "stream",
     "text": [
      "<class 'pandas.core.frame.DataFrame'>\n",
      "RangeIndex: 891 entries, 0 to 890\n",
      "Data columns (total 12 columns):\n",
      " #   Column       Non-Null Count  Dtype  \n",
      "---  ------       --------------  -----  \n",
      " 0   PassengerId  891 non-null    int64  \n",
      " 1   Survived     891 non-null    int64  \n",
      " 2   Pclass       891 non-null    int64  \n",
      " 3   Name         891 non-null    object \n",
      " 4   Sex          891 non-null    object \n",
      " 5   Age          714 non-null    float64\n",
      " 6   SibSp        891 non-null    int64  \n",
      " 7   Parch        891 non-null    int64  \n",
      " 8   Ticket       891 non-null    object \n",
      " 9   Fare         891 non-null    float64\n",
      " 10  Cabin        204 non-null    object \n",
      " 11  Embarked     889 non-null    object \n",
      "dtypes: float64(2), int64(5), object(5)\n",
      "memory usage: 83.7+ KB\n",
      "________________________________________\n",
      "<class 'pandas.core.frame.DataFrame'>\n",
      "RangeIndex: 418 entries, 0 to 417\n",
      "Data columns (total 11 columns):\n",
      " #   Column       Non-Null Count  Dtype  \n",
      "---  ------       --------------  -----  \n",
      " 0   PassengerId  418 non-null    int64  \n",
      " 1   Pclass       418 non-null    int64  \n",
      " 2   Name         418 non-null    object \n",
      " 3   Sex          418 non-null    object \n",
      " 4   Age          332 non-null    float64\n",
      " 5   SibSp        418 non-null    int64  \n",
      " 6   Parch        418 non-null    int64  \n",
      " 7   Ticket       418 non-null    object \n",
      " 8   Fare         417 non-null    float64\n",
      " 9   Cabin        91 non-null     object \n",
      " 10  Embarked     418 non-null    object \n",
      "dtypes: float64(2), int64(4), object(5)\n",
      "memory usage: 36.0+ KB\n"
     ]
    }
   ],
   "source": [
    "df_train.info()\n",
    "print('_'*40)\n",
    "df_test.info()"
   ]
  },
  {
   "cell_type": "markdown",
   "id": "dc136118",
   "metadata": {
    "papermill": {
     "duration": 0.010177,
     "end_time": "2022-12-30T12:21:20.331134",
     "exception": false,
     "start_time": "2022-12-30T12:21:20.320957",
     "status": "completed"
    },
    "tags": []
   },
   "source": [
    "# Normalización de datos \n",
    "\n",
    "### Conjunto de datos df_train "
   ]
  },
  {
   "cell_type": "code",
   "execution_count": 7,
   "id": "699a5701",
   "metadata": {
    "execution": {
     "iopub.execute_input": "2022-12-30T12:21:20.354469Z",
     "iopub.status.busy": "2022-12-30T12:21:20.353681Z",
     "iopub.status.idle": "2022-12-30T12:21:20.360328Z",
     "shell.execute_reply": "2022-12-30T12:21:20.358831Z"
    },
    "papermill": {
     "duration": 0.022101,
     "end_time": "2022-12-30T12:21:20.363572",
     "exception": false,
     "start_time": "2022-12-30T12:21:20.341471",
     "status": "completed"
    },
    "tags": []
   },
   "outputs": [
    {
     "name": "stdout",
     "output_type": "stream",
     "text": [
      "['PassengerId' 'Survived' 'Pclass' 'Name' 'Sex' 'Age' 'SibSp' 'Parch'\n",
      " 'Ticket' 'Fare' 'Cabin' 'Embarked']\n"
     ]
    }
   ],
   "source": [
    " # Verificación de  columnas \n",
    "print(df_train.columns.values)"
   ]
  },
  {
   "cell_type": "code",
   "execution_count": 8,
   "id": "ee9d3cae",
   "metadata": {
    "execution": {
     "iopub.execute_input": "2022-12-30T12:21:20.387354Z",
     "iopub.status.busy": "2022-12-30T12:21:20.386517Z",
     "iopub.status.idle": "2022-12-30T12:21:20.396394Z",
     "shell.execute_reply": "2022-12-30T12:21:20.395380Z"
    },
    "papermill": {
     "duration": 0.024243,
     "end_time": "2022-12-30T12:21:20.398759",
     "exception": false,
     "start_time": "2022-12-30T12:21:20.374516",
     "status": "completed"
    },
    "tags": []
   },
   "outputs": [
    {
     "data": {
      "text/plain": [
       "PassengerId      0\n",
       "Survived         0\n",
       "Pclass           0\n",
       "Name             0\n",
       "Sex              0\n",
       "Age            177\n",
       "SibSp            0\n",
       "Parch            0\n",
       "Ticket           0\n",
       "Fare             0\n",
       "Cabin          687\n",
       "Embarked         2\n",
       "dtype: int64"
      ]
     },
     "execution_count": 8,
     "metadata": {},
     "output_type": "execute_result"
    }
   ],
   "source": [
    "# Verificar valores nulos \n",
    "pd.isnull(df_train).sum()"
   ]
  },
  {
   "cell_type": "code",
   "execution_count": 9,
   "id": "bf2ab30b",
   "metadata": {
    "execution": {
     "iopub.execute_input": "2022-12-30T12:21:20.422263Z",
     "iopub.status.busy": "2022-12-30T12:21:20.421225Z",
     "iopub.status.idle": "2022-12-30T12:21:20.748248Z",
     "shell.execute_reply": "2022-12-30T12:21:20.747080Z"
    },
    "papermill": {
     "duration": 0.34156,
     "end_time": "2022-12-30T12:21:20.750818",
     "exception": false,
     "start_time": "2022-12-30T12:21:20.409258",
     "status": "completed"
    },
    "tags": []
   },
   "outputs": [
    {
     "data": {
      "text/html": [
       "<div>\n",
       "<style scoped>\n",
       "    .dataframe tbody tr th:only-of-type {\n",
       "        vertical-align: middle;\n",
       "    }\n",
       "\n",
       "    .dataframe tbody tr th {\n",
       "        vertical-align: top;\n",
       "    }\n",
       "\n",
       "    .dataframe thead th {\n",
       "        text-align: right;\n",
       "    }\n",
       "</style>\n",
       "<table border=\"1\" class=\"dataframe\">\n",
       "  <thead>\n",
       "    <tr style=\"text-align: right;\">\n",
       "      <th></th>\n",
       "      <th>0</th>\n",
       "    </tr>\n",
       "  </thead>\n",
       "  <tbody>\n",
       "    <tr>\n",
       "      <th>mean</th>\n",
       "      <td>29.699118</td>\n",
       "    </tr>\n",
       "    <tr>\n",
       "      <th>Median</th>\n",
       "      <td>28.0</td>\n",
       "    </tr>\n",
       "    <tr>\n",
       "      <th>Mode</th>\n",
       "      <td>0    24.0\n",
       "dtype: float64</td>\n",
       "    </tr>\n",
       "  </tbody>\n",
       "</table>\n",
       "</div>"
      ],
      "text/plain": [
       "                               0\n",
       "mean                   29.699118\n",
       "Median                      28.0\n",
       "Mode    0    24.0\n",
       "dtype: float64"
      ]
     },
     "execution_count": 9,
     "metadata": {},
     "output_type": "execute_result"
    },
    {
     "data": {
      "image/png": "[encoded data removed]",
      "text/plain": [
       "<Figure size 432x288 with 1 Axes>"
      ]
     },
     "metadata": {
      "needs_background": "light"
     },
     "output_type": "display_data"
    }
   ],
   "source": [
    "# Verificación del sesgo para reemplazar por medidas de tendencia central \n",
    "x = df_train.Age\n",
    "plt.hist(x)\n",
    "plt.show\n",
    "mean =df_train.Age.mean()\n",
    "median =df_train.Age.median()\n",
    "mode = df_train.Age.mode()\n",
    "\n",
    "Columns = [\"mean\",\"Median\",\"Mode\"]\n",
    "rows = [mean, median, mode]\n",
    "data_f = pd.DataFrame(rows, Columns)\n",
    "data_f\n"
   ]
  },
  {
   "cell_type": "markdown",
   "id": "7fb17811",
   "metadata": {
    "papermill": {
     "duration": 0.010412,
     "end_time": "2022-12-30T12:21:20.771954",
     "exception": false,
     "start_time": "2022-12-30T12:21:20.761542",
     "status": "completed"
    },
    "tags": []
   },
   "source": [
    "####  Embarked,Sex y Age   "
   ]
  },
  {
   "cell_type": "code",
   "execution_count": 10,
   "id": "f9c51398",
   "metadata": {
    "execution": {
     "iopub.execute_input": "2022-12-30T12:21:20.796386Z",
     "iopub.status.busy": "2022-12-30T12:21:20.795579Z",
     "iopub.status.idle": "2022-12-30T12:21:20.803536Z",
     "shell.execute_reply": "2022-12-30T12:21:20.802726Z"
    },
    "papermill": {
     "duration": 0.023371,
     "end_time": "2022-12-30T12:21:20.805976",
     "exception": false,
     "start_time": "2022-12-30T12:21:20.782605",
     "status": "completed"
    },
    "tags": []
   },
   "outputs": [],
   "source": [
    "# Reemplazo de variable Age por la mediana \n",
    "median =df_train.Age.median()\n",
    "df_train[\"Age\"]= df_train[\"Age\"].replace(np.nan, median)\n",
    "#Convertir vaariabele Age a int\n",
    "df_train[\"Age\"]=df_train[\"Age\"].apply(int)"
   ]
  },
  {
   "cell_type": "code",
   "execution_count": 11,
   "id": "da077219",
   "metadata": {
    "execution": {
     "iopub.execute_input": "2022-12-30T12:21:20.831734Z",
     "iopub.status.busy": "2022-12-30T12:21:20.831031Z",
     "iopub.status.idle": "2022-12-30T12:21:20.839533Z",
     "shell.execute_reply": "2022-12-30T12:21:20.838295Z"
    },
    "papermill": {
     "duration": 0.024211,
     "end_time": "2022-12-30T12:21:20.841971",
     "exception": false,
     "start_time": "2022-12-30T12:21:20.817760",
     "status": "completed"
    },
    "tags": []
   },
   "outputs": [
    {
     "name": "stdout",
     "output_type": "stream",
     "text": [
      "Embarked: ['S' 'C' 'Q' nan] \n",
      "\n",
      "________________________________________\n",
      "Sex: ['male' 'female'] \n",
      "\n"
     ]
    }
   ],
   "source": [
    "# Verificación de variables categoricas  para pasar a variables numericas \n",
    "print('Embarked:',  df_train['Embarked'].unique(),  '\\n')\n",
    "print('_'*40)\n",
    "print('Sex:',  df_train['Sex'].unique(),  '\\n')"
   ]
  },
  {
   "cell_type": "code",
   "execution_count": 12,
   "id": "b1fea2d0",
   "metadata": {
    "execution": {
     "iopub.execute_input": "2022-12-30T12:21:20.866443Z",
     "iopub.status.busy": "2022-12-30T12:21:20.865400Z",
     "iopub.status.idle": "2022-12-30T12:21:20.877779Z",
     "shell.execute_reply": "2022-12-30T12:21:20.876818Z"
    },
    "papermill": {
     "duration": 0.027238,
     "end_time": "2022-12-30T12:21:20.880286",
     "exception": false,
     "start_time": "2022-12-30T12:21:20.853048",
     "status": "completed"
    },
    "tags": []
   },
   "outputs": [],
   "source": [
    "\n",
    "#Sex\n",
    "df_train[\"Sex\"].replace([\"female\",\"male\"], [0,1 ], inplace=True)\n",
    "\n",
    "#Embarked\n",
    "df_train[\"Embarked\"].replace([\"S\",\"C\",\"Q\"], [0,1,2], inplace=True)\n",
    "modian=df_train.Embarked.median()\n",
    "df_train[\"Embarked\"]= df_train[\"Embarked\"].replace(np.nan, median)\n",
    "df_train[\"Embarked\"]=df_train[\"Embarked\"].apply(int)"
   ]
  },
  {
   "cell_type": "code",
   "execution_count": 13,
   "id": "b3f3750a",
   "metadata": {
    "execution": {
     "iopub.execute_input": "2022-12-30T12:21:20.903518Z",
     "iopub.status.busy": "2022-12-30T12:21:20.903111Z",
     "iopub.status.idle": "2022-12-30T12:21:20.924587Z",
     "shell.execute_reply": "2022-12-30T12:21:20.923398Z"
    },
    "papermill": {
     "duration": 0.036046,
     "end_time": "2022-12-30T12:21:20.927172",
     "exception": false,
     "start_time": "2022-12-30T12:21:20.891126",
     "status": "completed"
    },
    "tags": []
   },
   "outputs": [
    {
     "data": {
      "text/html": [
       "<div>\n",
       "<style scoped>\n",
       "    .dataframe tbody tr th:only-of-type {\n",
       "        vertical-align: middle;\n",
       "    }\n",
       "\n",
       "    .dataframe tbody tr th {\n",
       "        vertical-align: top;\n",
       "    }\n",
       "\n",
       "    .dataframe thead th {\n",
       "        text-align: right;\n",
       "    }\n",
       "</style>\n",
       "<table border=\"1\" class=\"dataframe\">\n",
       "  <thead>\n",
       "    <tr style=\"text-align: right;\">\n",
       "      <th></th>\n",
       "      <th>PassengerId</th>\n",
       "      <th>Survived</th>\n",
       "      <th>Pclass</th>\n",
       "      <th>Name</th>\n",
       "      <th>Sex</th>\n",
       "      <th>Age</th>\n",
       "      <th>SibSp</th>\n",
       "      <th>Parch</th>\n",
       "      <th>Ticket</th>\n",
       "      <th>Fare</th>\n",
       "      <th>Cabin</th>\n",
       "      <th>Embarked</th>\n",
       "    </tr>\n",
       "  </thead>\n",
       "  <tbody>\n",
       "    <tr>\n",
       "      <th>0</th>\n",
       "      <td>1</td>\n",
       "      <td>0</td>\n",
       "      <td>3</td>\n",
       "      <td>Braund, Mr. Owen Harris</td>\n",
       "      <td>1</td>\n",
       "      <td>22</td>\n",
       "      <td>1</td>\n",
       "      <td>0</td>\n",
       "      <td>A/5 21171</td>\n",
       "      <td>7.2500</td>\n",
       "      <td>NaN</td>\n",
       "      <td>0</td>\n",
       "    </tr>\n",
       "    <tr>\n",
       "      <th>1</th>\n",
       "      <td>2</td>\n",
       "      <td>1</td>\n",
       "      <td>1</td>\n",
       "      <td>Cumings, Mrs. John Bradley (Florence Briggs Th...</td>\n",
       "      <td>0</td>\n",
       "      <td>38</td>\n",
       "      <td>1</td>\n",
       "      <td>0</td>\n",
       "      <td>PC 17599</td>\n",
       "      <td>71.2833</td>\n",
       "      <td>C85</td>\n",
       "      <td>1</td>\n",
       "    </tr>\n",
       "    <tr>\n",
       "      <th>2</th>\n",
       "      <td>3</td>\n",
       "      <td>1</td>\n",
       "      <td>3</td>\n",
       "      <td>Heikkinen, Miss. Laina</td>\n",
       "      <td>0</td>\n",
       "      <td>26</td>\n",
       "      <td>0</td>\n",
       "      <td>0</td>\n",
       "      <td>STON/O2. 3101282</td>\n",
       "      <td>7.9250</td>\n",
       "      <td>NaN</td>\n",
       "      <td>0</td>\n",
       "    </tr>\n",
       "    <tr>\n",
       "      <th>3</th>\n",
       "      <td>4</td>\n",
       "      <td>1</td>\n",
       "      <td>1</td>\n",
       "      <td>Futrelle, Mrs. Jacques Heath (Lily May Peel)</td>\n",
       "      <td>0</td>\n",
       "      <td>35</td>\n",
       "      <td>1</td>\n",
       "      <td>0</td>\n",
       "      <td>113803</td>\n",
       "      <td>53.1000</td>\n",
       "      <td>C123</td>\n",
       "      <td>0</td>\n",
       "    </tr>\n",
       "    <tr>\n",
       "      <th>4</th>\n",
       "      <td>5</td>\n",
       "      <td>0</td>\n",
       "      <td>3</td>\n",
       "      <td>Allen, Mr. William Henry</td>\n",
       "      <td>1</td>\n",
       "      <td>35</td>\n",
       "      <td>0</td>\n",
       "      <td>0</td>\n",
       "      <td>373450</td>\n",
       "      <td>8.0500</td>\n",
       "      <td>NaN</td>\n",
       "      <td>0</td>\n",
       "    </tr>\n",
       "    <tr>\n",
       "      <th>...</th>\n",
       "      <td>...</td>\n",
       "      <td>...</td>\n",
       "      <td>...</td>\n",
       "      <td>...</td>\n",
       "      <td>...</td>\n",
       "      <td>...</td>\n",
       "      <td>...</td>\n",
       "      <td>...</td>\n",
       "      <td>...</td>\n",
       "      <td>...</td>\n",
       "      <td>...</td>\n",
       "      <td>...</td>\n",
       "    </tr>\n",
       "    <tr>\n",
       "      <th>886</th>\n",
       "      <td>887</td>\n",
       "      <td>0</td>\n",
       "      <td>2</td>\n",
       "      <td>Montvila, Rev. Juozas</td>\n",
       "      <td>1</td>\n",
       "      <td>27</td>\n",
       "      <td>0</td>\n",
       "      <td>0</td>\n",
       "      <td>211536</td>\n",
       "      <td>13.0000</td>\n",
       "      <td>NaN</td>\n",
       "      <td>0</td>\n",
       "    </tr>\n",
       "    <tr>\n",
       "      <th>887</th>\n",
       "      <td>888</td>\n",
       "      <td>1</td>\n",
       "      <td>1</td>\n",
       "      <td>Graham, Miss. Margaret Edith</td>\n",
       "      <td>0</td>\n",
       "      <td>19</td>\n",
       "      <td>0</td>\n",
       "      <td>0</td>\n",
       "      <td>112053</td>\n",
       "      <td>30.0000</td>\n",
       "      <td>B42</td>\n",
       "      <td>0</td>\n",
       "    </tr>\n",
       "    <tr>\n",
       "      <th>888</th>\n",
       "      <td>889</td>\n",
       "      <td>0</td>\n",
       "      <td>3</td>\n",
       "      <td>Johnston, Miss. Catherine Helen \"Carrie\"</td>\n",
       "      <td>0</td>\n",
       "      <td>28</td>\n",
       "      <td>1</td>\n",
       "      <td>2</td>\n",
       "      <td>W./C. 6607</td>\n",
       "      <td>23.4500</td>\n",
       "      <td>NaN</td>\n",
       "      <td>0</td>\n",
       "    </tr>\n",
       "    <tr>\n",
       "      <th>889</th>\n",
       "      <td>890</td>\n",
       "      <td>1</td>\n",
       "      <td>1</td>\n",
       "      <td>Behr, Mr. Karl Howell</td>\n",
       "      <td>1</td>\n",
       "      <td>26</td>\n",
       "      <td>0</td>\n",
       "      <td>0</td>\n",
       "      <td>111369</td>\n",
       "      <td>30.0000</td>\n",
       "      <td>C148</td>\n",
       "      <td>1</td>\n",
       "    </tr>\n",
       "    <tr>\n",
       "      <th>890</th>\n",
       "      <td>891</td>\n",
       "      <td>0</td>\n",
       "      <td>3</td>\n",
       "      <td>Dooley, Mr. Patrick</td>\n",
       "      <td>1</td>\n",
       "      <td>32</td>\n",
       "      <td>0</td>\n",
       "      <td>0</td>\n",
       "      <td>370376</td>\n",
       "      <td>7.7500</td>\n",
       "      <td>NaN</td>\n",
       "      <td>2</td>\n",
       "    </tr>\n",
       "  </tbody>\n",
       "</table>\n",
       "<p>891 rows × 12 columns</p>\n",
       "</div>"
      ],
      "text/plain": [
       "     PassengerId  Survived  Pclass  \\\n",
       "0              1         0       3   \n",
       "1              2         1       1   \n",
       "2              3         1       3   \n",
       "3              4         1       1   \n",
       "4              5         0       3   \n",
       "..           ...       ...     ...   \n",
       "886          887         0       2   \n",
       "887          888         1       1   \n",
       "888          889         0       3   \n",
       "889          890         1       1   \n",
       "890          891         0       3   \n",
       "\n",
       "                                                  Name  Sex  Age  SibSp  \\\n",
       "0                              Braund, Mr. Owen Harris    1   22      1   \n",
       "1    Cumings, Mrs. John Bradley (Florence Briggs Th...    0   38      1   \n",
       "2                               Heikkinen, Miss. Laina    0   26      0   \n",
       "3         Futrelle, Mrs. Jacques Heath (Lily May Peel)    0   35      1   \n",
       "4                             Allen, Mr. William Henry    1   35      0   \n",
       "..                                                 ...  ...  ...    ...   \n",
       "886                              Montvila, Rev. Juozas    1   27      0   \n",
       "887                       Graham, Miss. Margaret Edith    0   19      0   \n",
       "888           Johnston, Miss. Catherine Helen \"Carrie\"    0   28      1   \n",
       "889                              Behr, Mr. Karl Howell    1   26      0   \n",
       "890                                Dooley, Mr. Patrick    1   32      0   \n",
       "\n",
       "     Parch            Ticket     Fare Cabin  Embarked  \n",
       "0        0         A/5 21171   7.2500   NaN         0  \n",
       "1        0          PC 17599  71.2833   C85         1  \n",
       "2        0  STON/O2. 3101282   7.9250   NaN         0  \n",
       "3        0            113803  53.1000  C123         0  \n",
       "4        0            373450   8.0500   NaN         0  \n",
       "..     ...               ...      ...   ...       ...  \n",
       "886      0            211536  13.0000   NaN         0  \n",
       "887      0            112053  30.0000   B42         0  \n",
       "888      2        W./C. 6607  23.4500   NaN         0  \n",
       "889      0            111369  30.0000  C148         1  \n",
       "890      0            370376   7.7500   NaN         2  \n",
       "\n",
       "[891 rows x 12 columns]"
      ]
     },
     "execution_count": 13,
     "metadata": {},
     "output_type": "execute_result"
    }
   ],
   "source": [
    "df_train"
   ]
  },
  {
   "cell_type": "code",
   "execution_count": 14,
   "id": "da3772b2",
   "metadata": {
    "execution": {
     "iopub.execute_input": "2022-12-30T12:21:20.951533Z",
     "iopub.status.busy": "2022-12-30T12:21:20.951068Z",
     "iopub.status.idle": "2022-12-30T12:21:20.961075Z",
     "shell.execute_reply": "2022-12-30T12:21:20.959883Z"
    },
    "papermill": {
     "duration": 0.024928,
     "end_time": "2022-12-30T12:21:20.963434",
     "exception": false,
     "start_time": "2022-12-30T12:21:20.938506",
     "status": "completed"
    },
    "tags": []
   },
   "outputs": [
    {
     "data": {
      "text/plain": [
       "PassengerId      0\n",
       "Survived         0\n",
       "Pclass           0\n",
       "Name             0\n",
       "Sex              0\n",
       "Age              0\n",
       "SibSp            0\n",
       "Parch            0\n",
       "Ticket           0\n",
       "Fare             0\n",
       "Cabin          687\n",
       "Embarked         0\n",
       "dtype: int64"
      ]
     },
     "execution_count": 14,
     "metadata": {},
     "output_type": "execute_result"
    }
   ],
   "source": [
    "# Verificar valores nulos nuevamente \n",
    "pd.isnull(df_train).sum()"
   ]
  },
  {
   "cell_type": "code",
   "execution_count": 15,
   "id": "71da603c",
   "metadata": {
    "execution": {
     "iopub.execute_input": "2022-12-30T12:21:20.988883Z",
     "iopub.status.busy": "2022-12-30T12:21:20.988500Z",
     "iopub.status.idle": "2022-12-30T12:21:21.006998Z",
     "shell.execute_reply": "2022-12-30T12:21:21.006142Z"
    },
    "papermill": {
     "duration": 0.033969,
     "end_time": "2022-12-30T12:21:21.009337",
     "exception": false,
     "start_time": "2022-12-30T12:21:20.975368",
     "status": "completed"
    },
    "tags": []
   },
   "outputs": [
    {
     "data": {
      "text/html": [
       "<div>\n",
       "<style scoped>\n",
       "    .dataframe tbody tr th:only-of-type {\n",
       "        vertical-align: middle;\n",
       "    }\n",
       "\n",
       "    .dataframe tbody tr th {\n",
       "        vertical-align: top;\n",
       "    }\n",
       "\n",
       "    .dataframe thead th {\n",
       "        text-align: right;\n",
       "    }\n",
       "</style>\n",
       "<table border=\"1\" class=\"dataframe\">\n",
       "  <thead>\n",
       "    <tr style=\"text-align: right;\">\n",
       "      <th></th>\n",
       "      <th>PassengerId</th>\n",
       "      <th>Survived</th>\n",
       "      <th>Pclass</th>\n",
       "      <th>Sex</th>\n",
       "      <th>Age</th>\n",
       "      <th>SibSp</th>\n",
       "      <th>Parch</th>\n",
       "      <th>Fare</th>\n",
       "      <th>Embarked</th>\n",
       "    </tr>\n",
       "  </thead>\n",
       "  <tbody>\n",
       "    <tr>\n",
       "      <th>PassengerId</th>\n",
       "      <td>1.000000</td>\n",
       "      <td>-0.005007</td>\n",
       "      <td>-0.035144</td>\n",
       "      <td>0.042939</td>\n",
       "      <td>0.034322</td>\n",
       "      <td>-0.057527</td>\n",
       "      <td>-0.001652</td>\n",
       "      <td>0.012658</td>\n",
       "      <td>-0.013313</td>\n",
       "    </tr>\n",
       "    <tr>\n",
       "      <th>Survived</th>\n",
       "      <td>-0.005007</td>\n",
       "      <td>1.000000</td>\n",
       "      <td>-0.338481</td>\n",
       "      <td>-0.543351</td>\n",
       "      <td>-0.064909</td>\n",
       "      <td>-0.035322</td>\n",
       "      <td>0.081629</td>\n",
       "      <td>0.257307</td>\n",
       "      <td>0.101439</td>\n",
       "    </tr>\n",
       "    <tr>\n",
       "      <th>Pclass</th>\n",
       "      <td>-0.035144</td>\n",
       "      <td>-0.338481</td>\n",
       "      <td>1.000000</td>\n",
       "      <td>0.131900</td>\n",
       "      <td>-0.339999</td>\n",
       "      <td>0.083081</td>\n",
       "      <td>0.018443</td>\n",
       "      <td>-0.549500</td>\n",
       "      <td>-0.047728</td>\n",
       "    </tr>\n",
       "    <tr>\n",
       "      <th>Sex</th>\n",
       "      <td>0.042939</td>\n",
       "      <td>-0.543351</td>\n",
       "      <td>0.131900</td>\n",
       "      <td>1.000000</td>\n",
       "      <td>0.080750</td>\n",
       "      <td>-0.114631</td>\n",
       "      <td>-0.245489</td>\n",
       "      <td>-0.182333</td>\n",
       "      <td>-0.109532</td>\n",
       "    </tr>\n",
       "    <tr>\n",
       "      <th>Age</th>\n",
       "      <td>0.034322</td>\n",
       "      <td>-0.064909</td>\n",
       "      <td>-0.339999</td>\n",
       "      <td>0.080750</td>\n",
       "      <td>1.000000</td>\n",
       "      <td>-0.233066</td>\n",
       "      <td>-0.172745</td>\n",
       "      <td>0.096838</td>\n",
       "      <td>0.064400</td>\n",
       "    </tr>\n",
       "    <tr>\n",
       "      <th>SibSp</th>\n",
       "      <td>-0.057527</td>\n",
       "      <td>-0.035322</td>\n",
       "      <td>0.083081</td>\n",
       "      <td>-0.114631</td>\n",
       "      <td>-0.233066</td>\n",
       "      <td>1.000000</td>\n",
       "      <td>0.414838</td>\n",
       "      <td>0.159651</td>\n",
       "      <td>-0.046713</td>\n",
       "    </tr>\n",
       "    <tr>\n",
       "      <th>Parch</th>\n",
       "      <td>-0.001652</td>\n",
       "      <td>0.081629</td>\n",
       "      <td>0.018443</td>\n",
       "      <td>-0.245489</td>\n",
       "      <td>-0.172745</td>\n",
       "      <td>0.414838</td>\n",
       "      <td>1.000000</td>\n",
       "      <td>0.216225</td>\n",
       "      <td>-0.054848</td>\n",
       "    </tr>\n",
       "    <tr>\n",
       "      <th>Fare</th>\n",
       "      <td>0.012658</td>\n",
       "      <td>0.257307</td>\n",
       "      <td>-0.549500</td>\n",
       "      <td>-0.182333</td>\n",
       "      <td>0.096838</td>\n",
       "      <td>0.159651</td>\n",
       "      <td>0.216225</td>\n",
       "      <td>1.000000</td>\n",
       "      <td>0.068752</td>\n",
       "    </tr>\n",
       "    <tr>\n",
       "      <th>Embarked</th>\n",
       "      <td>-0.013313</td>\n",
       "      <td>0.101439</td>\n",
       "      <td>-0.047728</td>\n",
       "      <td>-0.109532</td>\n",
       "      <td>0.064400</td>\n",
       "      <td>-0.046713</td>\n",
       "      <td>-0.054848</td>\n",
       "      <td>0.068752</td>\n",
       "      <td>1.000000</td>\n",
       "    </tr>\n",
       "  </tbody>\n",
       "</table>\n",
       "</div>"
      ],
      "text/plain": [
       "             PassengerId  Survived    Pclass       Sex       Age     SibSp  \\\n",
       "PassengerId     1.000000 -0.005007 -0.035144  0.042939  0.034322 -0.057527   \n",
       "Survived       -0.005007  1.000000 -0.338481 -0.543351 -0.064909 -0.035322   \n",
       "Pclass         -0.035144 -0.338481  1.000000  0.131900 -0.339999  0.083081   \n",
       "Sex             0.042939 -0.543351  0.131900  1.000000  0.080750 -0.114631   \n",
       "Age             0.034322 -0.064909 -0.339999  0.080750  1.000000 -0.233066   \n",
       "SibSp          -0.057527 -0.035322  0.083081 -0.114631 -0.233066  1.000000   \n",
       "Parch          -0.001652  0.081629  0.018443 -0.245489 -0.172745  0.414838   \n",
       "Fare            0.012658  0.257307 -0.549500 -0.182333  0.096838  0.159651   \n",
       "Embarked       -0.013313  0.101439 -0.047728 -0.109532  0.064400 -0.046713   \n",
       "\n",
       "                Parch      Fare  Embarked  \n",
       "PassengerId -0.001652  0.012658 -0.013313  \n",
       "Survived     0.081629  0.257307  0.101439  \n",
       "Pclass       0.018443 -0.549500 -0.047728  \n",
       "Sex         -0.245489 -0.182333 -0.109532  \n",
       "Age         -0.172745  0.096838  0.064400  \n",
       "SibSp        0.414838  0.159651 -0.046713  \n",
       "Parch        1.000000  0.216225 -0.054848  \n",
       "Fare         0.216225  1.000000  0.068752  \n",
       "Embarked    -0.054848  0.068752  1.000000  "
      ]
     },
     "execution_count": 15,
     "metadata": {},
     "output_type": "execute_result"
    }
   ],
   "source": [
    "df_train.corr()"
   ]
  },
  {
   "cell_type": "code",
   "execution_count": 16,
   "id": "45014ca4",
   "metadata": {
    "execution": {
     "iopub.execute_input": "2022-12-30T12:21:21.035217Z",
     "iopub.status.busy": "2022-12-30T12:21:21.034263Z",
     "iopub.status.idle": "2022-12-30T12:21:21.815935Z",
     "shell.execute_reply": "2022-12-30T12:21:21.814715Z"
    },
    "papermill": {
     "duration": 0.797348,
     "end_time": "2022-12-30T12:21:21.818601",
     "exception": false,
     "start_time": "2022-12-30T12:21:21.021253",
     "status": "completed"
    },
    "tags": []
   },
   "outputs": [
    {
     "data": {
      "text/plain": [
       "<AxesSubplot:>"
      ]
     },
     "execution_count": 16,
     "metadata": {},
     "output_type": "execute_result"
    },
    {
     "data": {
      "image/png": "[encoded data removed]",
      "text/plain": [
       "<Figure size 1440x720 with 2 Axes>"
      ]
     },
     "metadata": {
      "needs_background": "light"
     },
     "output_type": "display_data"
    }
   ],
   "source": [
    "plt.figure(figsize=(20,10))\n",
    "sns.heatmap(df_train.corr(), square=True, annot = True)"
   ]
  },
  {
   "cell_type": "markdown",
   "id": "8c6338f6",
   "metadata": {
    "papermill": {
     "duration": 0.012917,
     "end_time": "2022-12-30T12:21:21.844877",
     "exception": false,
     "start_time": "2022-12-30T12:21:21.831960",
     "status": "completed"
    },
    "tags": []
   },
   "source": [
    "### Conjunto de datos df_test"
   ]
  },
  {
   "cell_type": "code",
   "execution_count": 17,
   "id": "ce01dfd2",
   "metadata": {
    "execution": {
     "iopub.execute_input": "2022-12-30T12:21:21.872441Z",
     "iopub.status.busy": "2022-12-30T12:21:21.872017Z",
     "iopub.status.idle": "2022-12-30T12:21:21.897419Z",
     "shell.execute_reply": "2022-12-30T12:21:21.896553Z"
    },
    "papermill": {
     "duration": 0.041655,
     "end_time": "2022-12-30T12:21:21.899491",
     "exception": false,
     "start_time": "2022-12-30T12:21:21.857836",
     "status": "completed"
    },
    "tags": []
   },
   "outputs": [
    {
     "data": {
      "text/html": [
       "<div>\n",
       "<style scoped>\n",
       "    .dataframe tbody tr th:only-of-type {\n",
       "        vertical-align: middle;\n",
       "    }\n",
       "\n",
       "    .dataframe tbody tr th {\n",
       "        vertical-align: top;\n",
       "    }\n",
       "\n",
       "    .dataframe thead th {\n",
       "        text-align: right;\n",
       "    }\n",
       "</style>\n",
       "<table border=\"1\" class=\"dataframe\">\n",
       "  <thead>\n",
       "    <tr style=\"text-align: right;\">\n",
       "      <th></th>\n",
       "      <th>PassengerId</th>\n",
       "      <th>Pclass</th>\n",
       "      <th>Name</th>\n",
       "      <th>Sex</th>\n",
       "      <th>Age</th>\n",
       "      <th>SibSp</th>\n",
       "      <th>Parch</th>\n",
       "      <th>Ticket</th>\n",
       "      <th>Fare</th>\n",
       "      <th>Cabin</th>\n",
       "      <th>Embarked</th>\n",
       "    </tr>\n",
       "  </thead>\n",
       "  <tbody>\n",
       "    <tr>\n",
       "      <th>0</th>\n",
       "      <td>892</td>\n",
       "      <td>3</td>\n",
       "      <td>Kelly, Mr. James</td>\n",
       "      <td>male</td>\n",
       "      <td>34.5</td>\n",
       "      <td>0</td>\n",
       "      <td>0</td>\n",
       "      <td>330911</td>\n",
       "      <td>7.8292</td>\n",
       "      <td>NaN</td>\n",
       "      <td>Q</td>\n",
       "    </tr>\n",
       "    <tr>\n",
       "      <th>1</th>\n",
       "      <td>893</td>\n",
       "      <td>3</td>\n",
       "      <td>Wilkes, Mrs. James (Ellen Needs)</td>\n",
       "      <td>female</td>\n",
       "      <td>47.0</td>\n",
       "      <td>1</td>\n",
       "      <td>0</td>\n",
       "      <td>363272</td>\n",
       "      <td>7.0000</td>\n",
       "      <td>NaN</td>\n",
       "      <td>S</td>\n",
       "    </tr>\n",
       "    <tr>\n",
       "      <th>2</th>\n",
       "      <td>894</td>\n",
       "      <td>2</td>\n",
       "      <td>Myles, Mr. Thomas Francis</td>\n",
       "      <td>male</td>\n",
       "      <td>62.0</td>\n",
       "      <td>0</td>\n",
       "      <td>0</td>\n",
       "      <td>240276</td>\n",
       "      <td>9.6875</td>\n",
       "      <td>NaN</td>\n",
       "      <td>Q</td>\n",
       "    </tr>\n",
       "    <tr>\n",
       "      <th>3</th>\n",
       "      <td>895</td>\n",
       "      <td>3</td>\n",
       "      <td>Wirz, Mr. Albert</td>\n",
       "      <td>male</td>\n",
       "      <td>27.0</td>\n",
       "      <td>0</td>\n",
       "      <td>0</td>\n",
       "      <td>315154</td>\n",
       "      <td>8.6625</td>\n",
       "      <td>NaN</td>\n",
       "      <td>S</td>\n",
       "    </tr>\n",
       "    <tr>\n",
       "      <th>4</th>\n",
       "      <td>896</td>\n",
       "      <td>3</td>\n",
       "      <td>Hirvonen, Mrs. Alexander (Helga E Lindqvist)</td>\n",
       "      <td>female</td>\n",
       "      <td>22.0</td>\n",
       "      <td>1</td>\n",
       "      <td>1</td>\n",
       "      <td>3101298</td>\n",
       "      <td>12.2875</td>\n",
       "      <td>NaN</td>\n",
       "      <td>S</td>\n",
       "    </tr>\n",
       "    <tr>\n",
       "      <th>...</th>\n",
       "      <td>...</td>\n",
       "      <td>...</td>\n",
       "      <td>...</td>\n",
       "      <td>...</td>\n",
       "      <td>...</td>\n",
       "      <td>...</td>\n",
       "      <td>...</td>\n",
       "      <td>...</td>\n",
       "      <td>...</td>\n",
       "      <td>...</td>\n",
       "      <td>...</td>\n",
       "    </tr>\n",
       "    <tr>\n",
       "      <th>413</th>\n",
       "      <td>1305</td>\n",
       "      <td>3</td>\n",
       "      <td>Spector, Mr. Woolf</td>\n",
       "      <td>male</td>\n",
       "      <td>NaN</td>\n",
       "      <td>0</td>\n",
       "      <td>0</td>\n",
       "      <td>A.5. 3236</td>\n",
       "      <td>8.0500</td>\n",
       "      <td>NaN</td>\n",
       "      <td>S</td>\n",
       "    </tr>\n",
       "    <tr>\n",
       "      <th>414</th>\n",
       "      <td>1306</td>\n",
       "      <td>1</td>\n",
       "      <td>Oliva y Ocana, Dona. Fermina</td>\n",
       "      <td>female</td>\n",
       "      <td>39.0</td>\n",
       "      <td>0</td>\n",
       "      <td>0</td>\n",
       "      <td>PC 17758</td>\n",
       "      <td>108.9000</td>\n",
       "      <td>C105</td>\n",
       "      <td>C</td>\n",
       "    </tr>\n",
       "    <tr>\n",
       "      <th>415</th>\n",
       "      <td>1307</td>\n",
       "      <td>3</td>\n",
       "      <td>Saether, Mr. Simon Sivertsen</td>\n",
       "      <td>male</td>\n",
       "      <td>38.5</td>\n",
       "      <td>0</td>\n",
       "      <td>0</td>\n",
       "      <td>SOTON/O.Q. 3101262</td>\n",
       "      <td>7.2500</td>\n",
       "      <td>NaN</td>\n",
       "      <td>S</td>\n",
       "    </tr>\n",
       "    <tr>\n",
       "      <th>416</th>\n",
       "      <td>1308</td>\n",
       "      <td>3</td>\n",
       "      <td>Ware, Mr. Frederick</td>\n",
       "      <td>male</td>\n",
       "      <td>NaN</td>\n",
       "      <td>0</td>\n",
       "      <td>0</td>\n",
       "      <td>359309</td>\n",
       "      <td>8.0500</td>\n",
       "      <td>NaN</td>\n",
       "      <td>S</td>\n",
       "    </tr>\n",
       "    <tr>\n",
       "      <th>417</th>\n",
       "      <td>1309</td>\n",
       "      <td>3</td>\n",
       "      <td>Peter, Master. Michael J</td>\n",
       "      <td>male</td>\n",
       "      <td>NaN</td>\n",
       "      <td>1</td>\n",
       "      <td>1</td>\n",
       "      <td>2668</td>\n",
       "      <td>22.3583</td>\n",
       "      <td>NaN</td>\n",
       "      <td>C</td>\n",
       "    </tr>\n",
       "  </tbody>\n",
       "</table>\n",
       "<p>418 rows × 11 columns</p>\n",
       "</div>"
      ],
      "text/plain": [
       "     PassengerId  Pclass                                          Name  \\\n",
       "0            892       3                              Kelly, Mr. James   \n",
       "1            893       3              Wilkes, Mrs. James (Ellen Needs)   \n",
       "2            894       2                     Myles, Mr. Thomas Francis   \n",
       "3            895       3                              Wirz, Mr. Albert   \n",
       "4            896       3  Hirvonen, Mrs. Alexander (Helga E Lindqvist)   \n",
       "..           ...     ...                                           ...   \n",
       "413         1305       3                            Spector, Mr. Woolf   \n",
       "414         1306       1                  Oliva y Ocana, Dona. Fermina   \n",
       "415         1307       3                  Saether, Mr. Simon Sivertsen   \n",
       "416         1308       3                           Ware, Mr. Frederick   \n",
       "417         1309       3                      Peter, Master. Michael J   \n",
       "\n",
       "        Sex   Age  SibSp  Parch              Ticket      Fare Cabin Embarked  \n",
       "0      male  34.5      0      0              330911    7.8292   NaN        Q  \n",
       "1    female  47.0      1      0              363272    7.0000   NaN        S  \n",
       "2      male  62.0      0      0              240276    9.6875   NaN        Q  \n",
       "3      male  27.0      0      0              315154    8.6625   NaN        S  \n",
       "4    female  22.0      1      1             3101298   12.2875   NaN        S  \n",
       "..      ...   ...    ...    ...                 ...       ...   ...      ...  \n",
       "413    male   NaN      0      0           A.5. 3236    8.0500   NaN        S  \n",
       "414  female  39.0      0      0            PC 17758  108.9000  C105        C  \n",
       "415    male  38.5      0      0  SOTON/O.Q. 3101262    7.2500   NaN        S  \n",
       "416    male   NaN      0      0              359309    8.0500   NaN        S  \n",
       "417    male   NaN      1      1                2668   22.3583   NaN        C  \n",
       "\n",
       "[418 rows x 11 columns]"
      ]
     },
     "execution_count": 17,
     "metadata": {},
     "output_type": "execute_result"
    }
   ],
   "source": [
    "df_test"
   ]
  },
  {
   "cell_type": "code",
   "execution_count": 18,
   "id": "053c9cb4",
   "metadata": {
    "execution": {
     "iopub.execute_input": "2022-12-30T12:21:21.928431Z",
     "iopub.status.busy": "2022-12-30T12:21:21.927431Z",
     "iopub.status.idle": "2022-12-30T12:21:21.938603Z",
     "shell.execute_reply": "2022-12-30T12:21:21.937421Z"
    },
    "papermill": {
     "duration": 0.028321,
     "end_time": "2022-12-30T12:21:21.941161",
     "exception": false,
     "start_time": "2022-12-30T12:21:21.912840",
     "status": "completed"
    },
    "tags": []
   },
   "outputs": [
    {
     "data": {
      "text/plain": [
       "PassengerId      0\n",
       "Pclass           0\n",
       "Name             0\n",
       "Sex              0\n",
       "Age             86\n",
       "SibSp            0\n",
       "Parch            0\n",
       "Ticket           0\n",
       "Fare             1\n",
       "Cabin          327\n",
       "Embarked         0\n",
       "dtype: int64"
      ]
     },
     "execution_count": 18,
     "metadata": {},
     "output_type": "execute_result"
    }
   ],
   "source": [
    "df_test.isnull().sum()"
   ]
  },
  {
   "cell_type": "code",
   "execution_count": 19,
   "id": "a01b3ce4",
   "metadata": {
    "execution": {
     "iopub.execute_input": "2022-12-30T12:21:21.969554Z",
     "iopub.status.busy": "2022-12-30T12:21:21.969179Z",
     "iopub.status.idle": "2022-12-30T12:21:21.986795Z",
     "shell.execute_reply": "2022-12-30T12:21:21.985778Z"
    },
    "papermill": {
     "duration": 0.034395,
     "end_time": "2022-12-30T12:21:21.988943",
     "exception": false,
     "start_time": "2022-12-30T12:21:21.954548",
     "status": "completed"
    },
    "tags": []
   },
   "outputs": [],
   "source": [
    "# Reemplazo de variable Age por la mediana \n",
    "median =df_train.Age.median()\n",
    "df_test[\"Age\"]= df_test[\"Age\"].replace(np.nan, median)\n",
    "#Convertir vaariabele Age a int\n",
    "df_test[\"Age\"]=df_test[\"Age\"].apply(int)\n",
    "#Sex\n",
    "df_test[\"Sex\"].replace([\"female\",\"male\"], [0,1 ], inplace=True)\n",
    "\n",
    "#Embarked\n",
    "df_test[\"Embarked\"].replace([\"S\",\"C\",\"Q\"], [0,1,2], inplace=True)\n",
    "df_test[\"Embarked\"]=df_test[\"Embarked\"].apply(int)\n",
    "#Cabin\n",
    "df_test.drop([\"Cabin\"], axis=1 , inplace=True)\n",
    "#PassengerId\n",
    "df_test.drop([\"PassengerId\"], axis=1 , inplace=True)\n",
    "#Name\n",
    "df_test.drop([\"Name\"], axis=1 , inplace=True)\n",
    "#Ticket\n",
    "df_test.drop([\"Ticket\"], axis=1 , inplace=True)\n",
    "\n"
   ]
  },
  {
   "cell_type": "code",
   "execution_count": 20,
   "id": "36cbee51",
   "metadata": {
    "execution": {
     "iopub.execute_input": "2022-12-30T12:21:22.019394Z",
     "iopub.status.busy": "2022-12-30T12:21:22.018370Z",
     "iopub.status.idle": "2022-12-30T12:21:22.034641Z",
     "shell.execute_reply": "2022-12-30T12:21:22.033196Z"
    },
    "papermill": {
     "duration": 0.03429,
     "end_time": "2022-12-30T12:21:22.037282",
     "exception": false,
     "start_time": "2022-12-30T12:21:22.002992",
     "status": "completed"
    },
    "tags": []
   },
   "outputs": [
    {
     "data": {
      "text/html": [
       "<div>\n",
       "<style scoped>\n",
       "    .dataframe tbody tr th:only-of-type {\n",
       "        vertical-align: middle;\n",
       "    }\n",
       "\n",
       "    .dataframe tbody tr th {\n",
       "        vertical-align: top;\n",
       "    }\n",
       "\n",
       "    .dataframe thead th {\n",
       "        text-align: right;\n",
       "    }\n",
       "</style>\n",
       "<table border=\"1\" class=\"dataframe\">\n",
       "  <thead>\n",
       "    <tr style=\"text-align: right;\">\n",
       "      <th></th>\n",
       "      <th>Pclass</th>\n",
       "      <th>Sex</th>\n",
       "      <th>Age</th>\n",
       "      <th>SibSp</th>\n",
       "      <th>Parch</th>\n",
       "      <th>Fare</th>\n",
       "      <th>Embarked</th>\n",
       "    </tr>\n",
       "  </thead>\n",
       "  <tbody>\n",
       "    <tr>\n",
       "      <th>0</th>\n",
       "      <td>3</td>\n",
       "      <td>1</td>\n",
       "      <td>34</td>\n",
       "      <td>0</td>\n",
       "      <td>0</td>\n",
       "      <td>7.8292</td>\n",
       "      <td>2</td>\n",
       "    </tr>\n",
       "    <tr>\n",
       "      <th>1</th>\n",
       "      <td>3</td>\n",
       "      <td>0</td>\n",
       "      <td>47</td>\n",
       "      <td>1</td>\n",
       "      <td>0</td>\n",
       "      <td>7.0000</td>\n",
       "      <td>0</td>\n",
       "    </tr>\n",
       "    <tr>\n",
       "      <th>2</th>\n",
       "      <td>2</td>\n",
       "      <td>1</td>\n",
       "      <td>62</td>\n",
       "      <td>0</td>\n",
       "      <td>0</td>\n",
       "      <td>9.6875</td>\n",
       "      <td>2</td>\n",
       "    </tr>\n",
       "    <tr>\n",
       "      <th>3</th>\n",
       "      <td>3</td>\n",
       "      <td>1</td>\n",
       "      <td>27</td>\n",
       "      <td>0</td>\n",
       "      <td>0</td>\n",
       "      <td>8.6625</td>\n",
       "      <td>0</td>\n",
       "    </tr>\n",
       "    <tr>\n",
       "      <th>4</th>\n",
       "      <td>3</td>\n",
       "      <td>0</td>\n",
       "      <td>22</td>\n",
       "      <td>1</td>\n",
       "      <td>1</td>\n",
       "      <td>12.2875</td>\n",
       "      <td>0</td>\n",
       "    </tr>\n",
       "    <tr>\n",
       "      <th>...</th>\n",
       "      <td>...</td>\n",
       "      <td>...</td>\n",
       "      <td>...</td>\n",
       "      <td>...</td>\n",
       "      <td>...</td>\n",
       "      <td>...</td>\n",
       "      <td>...</td>\n",
       "    </tr>\n",
       "    <tr>\n",
       "      <th>413</th>\n",
       "      <td>3</td>\n",
       "      <td>1</td>\n",
       "      <td>28</td>\n",
       "      <td>0</td>\n",
       "      <td>0</td>\n",
       "      <td>8.0500</td>\n",
       "      <td>0</td>\n",
       "    </tr>\n",
       "    <tr>\n",
       "      <th>414</th>\n",
       "      <td>1</td>\n",
       "      <td>0</td>\n",
       "      <td>39</td>\n",
       "      <td>0</td>\n",
       "      <td>0</td>\n",
       "      <td>108.9000</td>\n",
       "      <td>1</td>\n",
       "    </tr>\n",
       "    <tr>\n",
       "      <th>415</th>\n",
       "      <td>3</td>\n",
       "      <td>1</td>\n",
       "      <td>38</td>\n",
       "      <td>0</td>\n",
       "      <td>0</td>\n",
       "      <td>7.2500</td>\n",
       "      <td>0</td>\n",
       "    </tr>\n",
       "    <tr>\n",
       "      <th>416</th>\n",
       "      <td>3</td>\n",
       "      <td>1</td>\n",
       "      <td>28</td>\n",
       "      <td>0</td>\n",
       "      <td>0</td>\n",
       "      <td>8.0500</td>\n",
       "      <td>0</td>\n",
       "    </tr>\n",
       "    <tr>\n",
       "      <th>417</th>\n",
       "      <td>3</td>\n",
       "      <td>1</td>\n",
       "      <td>28</td>\n",
       "      <td>1</td>\n",
       "      <td>1</td>\n",
       "      <td>22.3583</td>\n",
       "      <td>1</td>\n",
       "    </tr>\n",
       "  </tbody>\n",
       "</table>\n",
       "<p>418 rows × 7 columns</p>\n",
       "</div>"
      ],
      "text/plain": [
       "     Pclass  Sex  Age  SibSp  Parch      Fare  Embarked\n",
       "0         3    1   34      0      0    7.8292         2\n",
       "1         3    0   47      1      0    7.0000         0\n",
       "2         2    1   62      0      0    9.6875         2\n",
       "3         3    1   27      0      0    8.6625         0\n",
       "4         3    0   22      1      1   12.2875         0\n",
       "..      ...  ...  ...    ...    ...       ...       ...\n",
       "413       3    1   28      0      0    8.0500         0\n",
       "414       1    0   39      0      0  108.9000         1\n",
       "415       3    1   38      0      0    7.2500         0\n",
       "416       3    1   28      0      0    8.0500         0\n",
       "417       3    1   28      1      1   22.3583         1\n",
       "\n",
       "[418 rows x 7 columns]"
      ]
     },
     "execution_count": 20,
     "metadata": {},
     "output_type": "execute_result"
    }
   ],
   "source": [
    "df_test\n"
   ]
  },
  {
   "cell_type": "markdown",
   "id": "28913dec",
   "metadata": {
    "papermill": {
     "duration": 0.013483,
     "end_time": "2022-12-30T12:21:22.064980",
     "exception": false,
     "start_time": "2022-12-30T12:21:22.051497",
     "status": "completed"
    },
    "tags": []
   },
   "source": [
    "# Selección del modelo ML"
   ]
  },
  {
   "cell_type": "code",
   "execution_count": 21,
   "id": "37f23c1a",
   "metadata": {
    "execution": {
     "iopub.execute_input": "2022-12-30T12:21:22.094661Z",
     "iopub.status.busy": "2022-12-30T12:21:22.093916Z",
     "iopub.status.idle": "2022-12-30T12:21:22.496429Z",
     "shell.execute_reply": "2022-12-30T12:21:22.495398Z"
    },
    "papermill": {
     "duration": 0.420285,
     "end_time": "2022-12-30T12:21:22.499001",
     "exception": false,
     "start_time": "2022-12-30T12:21:22.078716",
     "status": "completed"
    },
    "tags": []
   },
   "outputs": [],
   "source": [
    "from sklearn.svm import SVC\n",
    "from sklearn.tree import DecisionTreeClassifier\n",
    "from sklearn.neighbors import KNeighborsClassifier\n",
    "\n"
   ]
  },
  {
   "cell_type": "code",
   "execution_count": 22,
   "id": "684e4a0b",
   "metadata": {
    "execution": {
     "iopub.execute_input": "2022-12-30T12:21:22.528643Z",
     "iopub.status.busy": "2022-12-30T12:21:22.528149Z",
     "iopub.status.idle": "2022-12-30T12:21:22.533827Z",
     "shell.execute_reply": "2022-12-30T12:21:22.532503Z"
    },
    "papermill": {
     "duration": 0.023567,
     "end_time": "2022-12-30T12:21:22.536461",
     "exception": false,
     "start_time": "2022-12-30T12:21:22.512894",
     "status": "completed"
    },
    "tags": []
   },
   "outputs": [],
   "source": [
    "from sklearn.model_selection import train_test_split"
   ]
  },
  {
   "cell_type": "code",
   "execution_count": 23,
   "id": "5b1bd75d",
   "metadata": {
    "execution": {
     "iopub.execute_input": "2022-12-30T12:21:22.565845Z",
     "iopub.status.busy": "2022-12-30T12:21:22.565155Z",
     "iopub.status.idle": "2022-12-30T12:21:22.572530Z",
     "shell.execute_reply": "2022-12-30T12:21:22.571687Z"
    },
    "papermill": {
     "duration": 0.024639,
     "end_time": "2022-12-30T12:21:22.574798",
     "exception": false,
     "start_time": "2022-12-30T12:21:22.550159",
     "status": "completed"
    },
    "tags": []
   },
   "outputs": [],
   "source": [
    "Caract =[\"Pclass\",\"Sex\",\"Age\",\"SibSp\",\"Parch\",\"Fare\", \"Embarked\"]\n",
    "target = df_train.Survived\n",
    "\n",
    "\n",
    "X =df_train[Caract]\n",
    "y = target\n",
    "\n"
   ]
  },
  {
   "cell_type": "code",
   "execution_count": 24,
   "id": "6650ba51",
   "metadata": {
    "execution": {
     "iopub.execute_input": "2022-12-30T12:21:22.603905Z",
     "iopub.status.busy": "2022-12-30T12:21:22.603495Z",
     "iopub.status.idle": "2022-12-30T12:21:22.610172Z",
     "shell.execute_reply": "2022-12-30T12:21:22.609403Z"
    },
    "papermill": {
     "duration": 0.024154,
     "end_time": "2022-12-30T12:21:22.612506",
     "exception": false,
     "start_time": "2022-12-30T12:21:22.588352",
     "status": "completed"
    },
    "tags": []
   },
   "outputs": [],
   "source": [
    "X_train, X_test, y_test, y_train = train_test_split(X, y, test_size = 0.20, random_state = 42)"
   ]
  },
  {
   "cell_type": "markdown",
   "id": "bb23bb3d",
   "metadata": {
    "papermill": {
     "duration": 0.013565,
     "end_time": "2022-12-30T12:21:22.640075",
     "exception": false,
     "start_time": "2022-12-30T12:21:22.626510",
     "status": "completed"
    },
    "tags": []
   },
   "source": [
    "### KNeighbor_model "
   ]
  },
  {
   "cell_type": "code",
   "execution_count": 25,
   "id": "0392aa10",
   "metadata": {
    "execution": {
     "iopub.execute_input": "2022-12-30T12:21:22.669265Z",
     "iopub.status.busy": "2022-12-30T12:21:22.668116Z",
     "iopub.status.idle": "2022-12-30T12:21:22.680597Z",
     "shell.execute_reply": "2022-12-30T12:21:22.679695Z"
    },
    "papermill": {
     "duration": 0.029397,
     "end_time": "2022-12-30T12:21:22.682998",
     "exception": false,
     "start_time": "2022-12-30T12:21:22.653601",
     "status": "completed"
    },
    "tags": []
   },
   "outputs": [
    {
     "data": {
      "text/plain": [
       "KNeighborsClassifier()"
      ]
     },
     "execution_count": 25,
     "metadata": {},
     "output_type": "execute_result"
    }
   ],
   "source": [
    "KNeig_model=KNeighborsClassifier()\n",
    "KNeig_model.fit(X,y)\n"
   ]
  },
  {
   "cell_type": "code",
   "execution_count": 26,
   "id": "0d952c4c",
   "metadata": {
    "execution": {
     "iopub.execute_input": "2022-12-30T12:21:22.712453Z",
     "iopub.status.busy": "2022-12-30T12:21:22.711747Z",
     "iopub.status.idle": "2022-12-30T12:21:22.722175Z",
     "shell.execute_reply": "2022-12-30T12:21:22.720889Z"
    },
    "papermill": {
     "duration": 0.027871,
     "end_time": "2022-12-30T12:21:22.724574",
     "exception": false,
     "start_time": "2022-12-30T12:21:22.696703",
     "status": "completed"
    },
    "tags": []
   },
   "outputs": [
    {
     "name": "stdout",
     "output_type": "stream",
     "text": [
      "[0 1 1 1 0]\n",
      "0    0\n",
      "1    1\n",
      "2    1\n",
      "3    1\n",
      "4    0\n",
      "Name: Survived, dtype: int64\n"
     ]
    }
   ],
   "source": [
    "print(KNeig_model.predict(X.head()))\n",
    "print(df_train.Survived.head())"
   ]
  },
  {
   "cell_type": "code",
   "execution_count": 27,
   "id": "43bb9a35",
   "metadata": {
    "execution": {
     "iopub.execute_input": "2022-12-30T12:21:22.755239Z",
     "iopub.status.busy": "2022-12-30T12:21:22.754536Z",
     "iopub.status.idle": "2022-12-30T12:21:22.789492Z",
     "shell.execute_reply": "2022-12-30T12:21:22.788647Z"
    },
    "papermill": {
     "duration": 0.052655,
     "end_time": "2022-12-30T12:21:22.791949",
     "exception": false,
     "start_time": "2022-12-30T12:21:22.739294",
     "status": "completed"
    },
    "tags": []
   },
   "outputs": [
    {
     "data": {
      "text/plain": [
       "0.8013468013468014"
      ]
     },
     "execution_count": 27,
     "metadata": {},
     "output_type": "execute_result"
    }
   ],
   "source": [
    "KNeig_model.score(X,y)"
   ]
  },
  {
   "cell_type": "markdown",
   "id": "111bb610",
   "metadata": {
    "papermill": {
     "duration": 0.013989,
     "end_time": "2022-12-30T12:21:22.819917",
     "exception": false,
     "start_time": "2022-12-30T12:21:22.805928",
     "status": "completed"
    },
    "tags": []
   },
   "source": [
    "### SVC_Model"
   ]
  },
  {
   "cell_type": "code",
   "execution_count": 28,
   "id": "80ec50dc",
   "metadata": {
    "execution": {
     "iopub.execute_input": "2022-12-30T12:21:22.849186Z",
     "iopub.status.busy": "2022-12-30T12:21:22.848743Z",
     "iopub.status.idle": "2022-12-30T12:21:22.893675Z",
     "shell.execute_reply": "2022-12-30T12:21:22.892746Z"
    },
    "papermill": {
     "duration": 0.062415,
     "end_time": "2022-12-30T12:21:22.895892",
     "exception": false,
     "start_time": "2022-12-30T12:21:22.833477",
     "status": "completed"
    },
    "tags": []
   },
   "outputs": [
    {
     "data": {
      "text/plain": [
       "SVC()"
      ]
     },
     "execution_count": 28,
     "metadata": {},
     "output_type": "execute_result"
    }
   ],
   "source": [
    "SVC_model=SVC()\n",
    "SVC_model.fit(X,y)\n"
   ]
  },
  {
   "cell_type": "code",
   "execution_count": 29,
   "id": "1e30b758",
   "metadata": {
    "execution": {
     "iopub.execute_input": "2022-12-30T12:21:22.925909Z",
     "iopub.status.busy": "2022-12-30T12:21:22.925144Z",
     "iopub.status.idle": "2022-12-30T12:21:22.934857Z",
     "shell.execute_reply": "2022-12-30T12:21:22.933559Z"
    },
    "papermill": {
     "duration": 0.028626,
     "end_time": "2022-12-30T12:21:22.938665",
     "exception": false,
     "start_time": "2022-12-30T12:21:22.910039",
     "status": "completed"
    },
    "tags": []
   },
   "outputs": [
    {
     "name": "stdout",
     "output_type": "stream",
     "text": [
      "[0 1 0 1 0]\n",
      "0    0\n",
      "1    1\n",
      "2    1\n",
      "3    1\n",
      "4    0\n",
      "Name: Survived, dtype: int64\n"
     ]
    }
   ],
   "source": [
    "print(SVC_model.predict(X.head()))\n",
    "print(df_train.Survived.head())"
   ]
  },
  {
   "cell_type": "code",
   "execution_count": 30,
   "id": "16ba8169",
   "metadata": {
    "execution": {
     "iopub.execute_input": "2022-12-30T12:21:22.969141Z",
     "iopub.status.busy": "2022-12-30T12:21:22.968210Z",
     "iopub.status.idle": "2022-12-30T12:21:23.009576Z",
     "shell.execute_reply": "2022-12-30T12:21:23.008386Z"
    },
    "papermill": {
     "duration": 0.059156,
     "end_time": "2022-12-30T12:21:23.012309",
     "exception": false,
     "start_time": "2022-12-30T12:21:22.953153",
     "status": "completed"
    },
    "tags": []
   },
   "outputs": [
    {
     "data": {
      "text/plain": [
       "0.6857463524130191"
      ]
     },
     "execution_count": 30,
     "metadata": {},
     "output_type": "execute_result"
    }
   ],
   "source": [
    "SVC_model.score(X,y)"
   ]
  },
  {
   "cell_type": "markdown",
   "id": "fe2899ba",
   "metadata": {
    "papermill": {
     "duration": 0.013973,
     "end_time": "2022-12-30T12:21:23.040460",
     "exception": false,
     "start_time": "2022-12-30T12:21:23.026487",
     "status": "completed"
    },
    "tags": []
   },
   "source": [
    "### DecisionTree_model"
   ]
  },
  {
   "cell_type": "code",
   "execution_count": 31,
   "id": "c228393e",
   "metadata": {
    "execution": {
     "iopub.execute_input": "2022-12-30T12:21:23.071273Z",
     "iopub.status.busy": "2022-12-30T12:21:23.070873Z",
     "iopub.status.idle": "2022-12-30T12:21:23.082231Z",
     "shell.execute_reply": "2022-12-30T12:21:23.081138Z"
    },
    "papermill": {
     "duration": 0.029517,
     "end_time": "2022-12-30T12:21:23.084451",
     "exception": false,
     "start_time": "2022-12-30T12:21:23.054934",
     "status": "completed"
    },
    "tags": []
   },
   "outputs": [
    {
     "data": {
      "text/plain": [
       "DecisionTreeClassifier()"
      ]
     },
     "execution_count": 31,
     "metadata": {},
     "output_type": "execute_result"
    }
   ],
   "source": [
    "Dec_model=DecisionTreeClassifier()\n",
    "Dec_model.fit(X,y)"
   ]
  },
  {
   "cell_type": "code",
   "execution_count": 32,
   "id": "a47e8f31",
   "metadata": {
    "execution": {
     "iopub.execute_input": "2022-12-30T12:21:23.114236Z",
     "iopub.status.busy": "2022-12-30T12:21:23.113807Z",
     "iopub.status.idle": "2022-12-30T12:21:23.123467Z",
     "shell.execute_reply": "2022-12-30T12:21:23.121795Z"
    },
    "papermill": {
     "duration": 0.028817,
     "end_time": "2022-12-30T12:21:23.127231",
     "exception": false,
     "start_time": "2022-12-30T12:21:23.098414",
     "status": "completed"
    },
    "tags": []
   },
   "outputs": [
    {
     "name": "stdout",
     "output_type": "stream",
     "text": [
      "[0 1 1 1 0]\n",
      "0    0\n",
      "1    1\n",
      "2    1\n",
      "3    1\n",
      "4    0\n",
      "Name: Survived, dtype: int64\n"
     ]
    }
   ],
   "source": [
    "print(Dec_model.predict(X.head()))\n",
    "print(df_train.Survived.head())"
   ]
  },
  {
   "cell_type": "code",
   "execution_count": 33,
   "id": "41ac7695",
   "metadata": {
    "execution": {
     "iopub.execute_input": "2022-12-30T12:21:23.158186Z",
     "iopub.status.busy": "2022-12-30T12:21:23.157248Z",
     "iopub.status.idle": "2022-12-30T12:21:23.167728Z",
     "shell.execute_reply": "2022-12-30T12:21:23.166347Z"
    },
    "papermill": {
     "duration": 0.028408,
     "end_time": "2022-12-30T12:21:23.170264",
     "exception": false,
     "start_time": "2022-12-30T12:21:23.141856",
     "status": "completed"
    },
    "tags": []
   },
   "outputs": [
    {
     "data": {
      "text/plain": [
       "0.9797979797979798"
      ]
     },
     "execution_count": 33,
     "metadata": {},
     "output_type": "execute_result"
    }
   ],
   "source": [
    "Dec_model.score(X,y)"
   ]
  }
 ],
 "metadata": {
  "kernelspec": {
   "display_name": "Python 3",
   "language": "python",
   "name": "python3"
  },
  "language_info": {
   "codemirror_mode": {
    "name": "ipython",
    "version": 3
   },
   "file_extension": ".py",
   "mimetype": "text/x-python",
   "name": "python",
   "nbconvert_exporter": "python",
   "pygments_lexer": "ipython3",
   "version": "3.7.12"
  },
  "papermill": {
   "default_parameters": {},
   "duration": 14.435484,
   "end_time": "2022-12-30T12:21:24.007829",
   "environment_variables": {},
   "exception": null,
   "input_path": "__notebook__.ipynb",
   "output_path": "__notebook__.ipynb",
   "parameters": {},
   "start_time": "2022-12-30T12:21:09.572345",
   "version": "2.3.4"
  }
 },
 "nbformat": 4,
 "nbformat_minor": 5
}
