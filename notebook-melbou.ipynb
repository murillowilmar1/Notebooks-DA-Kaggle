{
 "cells": [
  {
   "cell_type": "markdown",
   "id": "ea0ef0f7",
   "metadata": {
    "papermill": {
     "duration": 0.012519,
     "end_time": "2023-01-06T15:49:45.813757",
     "exception": false,
     "start_time": "2023-01-06T15:49:45.801238",
     "status": "completed"
    },
    "tags": []
   },
   "source": [
    "# **Análisis base de datos Prices_melbourng**\n",
    "\n",
    "\n",
    "El presente Notebook es un analisis resultante de la base de Prices_melbourng \n",
    "\n",
    "##### *Wilmar Murillo Carmona*\n",
    "\n",
    "## **Contenido**\n",
    "   \n",
    "\n",
    "- <a href=\"#imp\">Importación de librerias para el analisis</a><br>\n",
    "- <a href=\"#mot\">Importación de datos </a><br>\n",
    "- <a href=\"#visual\">Visualización de la importación de los datos y sus tipos de variables</a><br>\n",
    "- <a href=\"#norm\">Normalización de datos </a><br>\n",
    "   - <a href=\"#var\">Variables categoricas</a><br>\n",
    "   - <a href=\"#ope\">Variables float</a><br>\n",
    "- <a href=\"#Trat\">Tratamiento de datos nulos</a><br>\n",
    "   - <a href=\"#var\">Car</a><br>\n",
    "   - <a href=\"#ope\">Building_Area</a><br>\n",
    "   - <a href=\"#var\">Year_Built</a><br>\n",
    "   - <a href=\"#var\">Council_Area</a><br>\n",
    "- <a href=\"#transf\">Correlación Variables</a><br>      \n",
    "   - <a href=\"#ope\">Correlaciones Positivas</a><br>\n",
    "   - <a href=\"#ope\">Correlaciones Negativos</a><br>\n",
    "- <a href=\"#selmod\">Model ML</a><br>\n",
    "    - <a href=\"#ope\">Decisiontree_model</a><br>\n",
    "\n",
    " \n"
   ]
  },
  {
   "cell_type": "markdown",
   "id": "c030577a",
   "metadata": {
    "papermill": {
     "duration": 0.012624,
     "end_time": "2023-01-06T15:49:45.837629",
     "exception": false,
     "start_time": "2023-01-06T15:49:45.825005",
     "status": "completed"
    },
    "tags": []
   },
   "source": [
    "<p><a name=\"imp\"></a></p>\n",
    "\n",
    "# Importación de librerias para análisis y visualización de datos "
   ]
  },
  {
   "cell_type": "code",
   "execution_count": 1,
   "id": "766befcf",
   "metadata": {
    "execution": {
     "iopub.execute_input": "2023-01-06T15:49:45.862603Z",
     "iopub.status.busy": "2023-01-06T15:49:45.862047Z",
     "iopub.status.idle": "2023-01-06T15:49:47.261324Z",
     "shell.execute_reply": "2023-01-06T15:49:47.260240Z"
    },
    "papermill": {
     "duration": 1.415473,
     "end_time": "2023-01-06T15:49:47.264401",
     "exception": false,
     "start_time": "2023-01-06T15:49:45.848928",
     "status": "completed"
    },
    "tags": []
   },
   "outputs": [],
   "source": [
    "#Librerias \n",
    "\n",
    "import pandas as pd  # Analisis de datos\n",
    "import numpy as np  # Arreglos matrices \n",
    "import matplotlib.pyplot as plt # Visualización de datos \n",
    "import seaborn as sns # Visualización de datos\n",
    "%matplotlib inline"
   ]
  },
  {
   "cell_type": "markdown",
   "id": "8a60a54b",
   "metadata": {
    "papermill": {
     "duration": 0.011654,
     "end_time": "2023-01-06T15:49:47.287811",
     "exception": false,
     "start_time": "2023-01-06T15:49:47.276157",
     "status": "completed"
    },
    "tags": []
   },
   "source": [
    "<p><a name=\"impt\"></a></p>\n",
    "\n",
    "# Importación de datos  "
   ]
  },
  {
   "cell_type": "code",
   "execution_count": 2,
   "id": "ac392fac",
   "metadata": {
    "execution": {
     "iopub.execute_input": "2023-01-06T15:49:47.313284Z",
     "iopub.status.busy": "2023-01-06T15:49:47.312093Z",
     "iopub.status.idle": "2023-01-06T15:49:47.425572Z",
     "shell.execute_reply": "2023-01-06T15:49:47.424156Z"
    },
    "papermill": {
     "duration": 0.129704,
     "end_time": "2023-01-06T15:49:47.428868",
     "exception": false,
     "start_time": "2023-01-06T15:49:47.299164",
     "status": "completed"
    },
    "tags": []
   },
   "outputs": [],
   "source": [
    "url = \"/kaggle/input/melbourne-housing-snapshot/melb_data.csv\"\n",
    "df = pd.read_csv(url)"
   ]
  },
  {
   "cell_type": "markdown",
   "id": "594c81cf",
   "metadata": {
    "papermill": {
     "duration": 0.011293,
     "end_time": "2023-01-06T15:49:47.452120",
     "exception": false,
     "start_time": "2023-01-06T15:49:47.440827",
     "status": "completed"
    },
    "tags": []
   },
   "source": [
    "<p><a name=\"visual\"></a></p>\n",
    "\n",
    "# visualización de la importación de los datos y sus tipos de variables "
   ]
  },
  {
   "cell_type": "code",
   "execution_count": 3,
   "id": "55f3a55e",
   "metadata": {
    "execution": {
     "iopub.execute_input": "2023-01-06T15:49:47.477420Z",
     "iopub.status.busy": "2023-01-06T15:49:47.476379Z",
     "iopub.status.idle": "2023-01-06T15:49:47.524988Z",
     "shell.execute_reply": "2023-01-06T15:49:47.523435Z"
    },
    "papermill": {
     "duration": 0.064944,
     "end_time": "2023-01-06T15:49:47.528506",
     "exception": false,
     "start_time": "2023-01-06T15:49:47.463562",
     "status": "completed"
    },
    "tags": []
   },
   "outputs": [
    {
     "data": {
      "text/html": [
       "<div>\n",
       "<style scoped>\n",
       "    .dataframe tbody tr th:only-of-type {\n",
       "        vertical-align: middle;\n",
       "    }\n",
       "\n",
       "    .dataframe tbody tr th {\n",
       "        vertical-align: top;\n",
       "    }\n",
       "\n",
       "    .dataframe thead th {\n",
       "        text-align: right;\n",
       "    }\n",
       "</style>\n",
       "<table border=\"1\" class=\"dataframe\">\n",
       "  <thead>\n",
       "    <tr style=\"text-align: right;\">\n",
       "      <th></th>\n",
       "      <th>Suburb</th>\n",
       "      <th>Address</th>\n",
       "      <th>Rooms</th>\n",
       "      <th>Type</th>\n",
       "      <th>Price</th>\n",
       "      <th>Method</th>\n",
       "      <th>SellerG</th>\n",
       "      <th>Date</th>\n",
       "      <th>Distance</th>\n",
       "      <th>Postcode</th>\n",
       "      <th>...</th>\n",
       "      <th>Bathroom</th>\n",
       "      <th>Car</th>\n",
       "      <th>Landsize</th>\n",
       "      <th>BuildingArea</th>\n",
       "      <th>YearBuilt</th>\n",
       "      <th>CouncilArea</th>\n",
       "      <th>Lattitude</th>\n",
       "      <th>Longtitude</th>\n",
       "      <th>Regionname</th>\n",
       "      <th>Propertycount</th>\n",
       "    </tr>\n",
       "  </thead>\n",
       "  <tbody>\n",
       "    <tr>\n",
       "      <th>0</th>\n",
       "      <td>Abbotsford</td>\n",
       "      <td>85 Turner St</td>\n",
       "      <td>2</td>\n",
       "      <td>h</td>\n",
       "      <td>1480000.0</td>\n",
       "      <td>S</td>\n",
       "      <td>Biggin</td>\n",
       "      <td>3/12/2016</td>\n",
       "      <td>2.5</td>\n",
       "      <td>3067.0</td>\n",
       "      <td>...</td>\n",
       "      <td>1.0</td>\n",
       "      <td>1.0</td>\n",
       "      <td>202.0</td>\n",
       "      <td>NaN</td>\n",
       "      <td>NaN</td>\n",
       "      <td>Yarra</td>\n",
       "      <td>-37.7996</td>\n",
       "      <td>144.9984</td>\n",
       "      <td>Northern Metropolitan</td>\n",
       "      <td>4019.0</td>\n",
       "    </tr>\n",
       "    <tr>\n",
       "      <th>1</th>\n",
       "      <td>Abbotsford</td>\n",
       "      <td>25 Bloomburg St</td>\n",
       "      <td>2</td>\n",
       "      <td>h</td>\n",
       "      <td>1035000.0</td>\n",
       "      <td>S</td>\n",
       "      <td>Biggin</td>\n",
       "      <td>4/02/2016</td>\n",
       "      <td>2.5</td>\n",
       "      <td>3067.0</td>\n",
       "      <td>...</td>\n",
       "      <td>1.0</td>\n",
       "      <td>0.0</td>\n",
       "      <td>156.0</td>\n",
       "      <td>79.0</td>\n",
       "      <td>1900.0</td>\n",
       "      <td>Yarra</td>\n",
       "      <td>-37.8079</td>\n",
       "      <td>144.9934</td>\n",
       "      <td>Northern Metropolitan</td>\n",
       "      <td>4019.0</td>\n",
       "    </tr>\n",
       "    <tr>\n",
       "      <th>2</th>\n",
       "      <td>Abbotsford</td>\n",
       "      <td>5 Charles St</td>\n",
       "      <td>3</td>\n",
       "      <td>h</td>\n",
       "      <td>1465000.0</td>\n",
       "      <td>SP</td>\n",
       "      <td>Biggin</td>\n",
       "      <td>4/03/2017</td>\n",
       "      <td>2.5</td>\n",
       "      <td>3067.0</td>\n",
       "      <td>...</td>\n",
       "      <td>2.0</td>\n",
       "      <td>0.0</td>\n",
       "      <td>134.0</td>\n",
       "      <td>150.0</td>\n",
       "      <td>1900.0</td>\n",
       "      <td>Yarra</td>\n",
       "      <td>-37.8093</td>\n",
       "      <td>144.9944</td>\n",
       "      <td>Northern Metropolitan</td>\n",
       "      <td>4019.0</td>\n",
       "    </tr>\n",
       "    <tr>\n",
       "      <th>3</th>\n",
       "      <td>Abbotsford</td>\n",
       "      <td>40 Federation La</td>\n",
       "      <td>3</td>\n",
       "      <td>h</td>\n",
       "      <td>850000.0</td>\n",
       "      <td>PI</td>\n",
       "      <td>Biggin</td>\n",
       "      <td>4/03/2017</td>\n",
       "      <td>2.5</td>\n",
       "      <td>3067.0</td>\n",
       "      <td>...</td>\n",
       "      <td>2.0</td>\n",
       "      <td>1.0</td>\n",
       "      <td>94.0</td>\n",
       "      <td>NaN</td>\n",
       "      <td>NaN</td>\n",
       "      <td>Yarra</td>\n",
       "      <td>-37.7969</td>\n",
       "      <td>144.9969</td>\n",
       "      <td>Northern Metropolitan</td>\n",
       "      <td>4019.0</td>\n",
       "    </tr>\n",
       "    <tr>\n",
       "      <th>4</th>\n",
       "      <td>Abbotsford</td>\n",
       "      <td>55a Park St</td>\n",
       "      <td>4</td>\n",
       "      <td>h</td>\n",
       "      <td>1600000.0</td>\n",
       "      <td>VB</td>\n",
       "      <td>Nelson</td>\n",
       "      <td>4/06/2016</td>\n",
       "      <td>2.5</td>\n",
       "      <td>3067.0</td>\n",
       "      <td>...</td>\n",
       "      <td>1.0</td>\n",
       "      <td>2.0</td>\n",
       "      <td>120.0</td>\n",
       "      <td>142.0</td>\n",
       "      <td>2014.0</td>\n",
       "      <td>Yarra</td>\n",
       "      <td>-37.8072</td>\n",
       "      <td>144.9941</td>\n",
       "      <td>Northern Metropolitan</td>\n",
       "      <td>4019.0</td>\n",
       "    </tr>\n",
       "  </tbody>\n",
       "</table>\n",
       "<p>5 rows × 21 columns</p>\n",
       "</div>"
      ],
      "text/plain": [
       "       Suburb           Address  Rooms Type      Price Method SellerG  \\\n",
       "0  Abbotsford      85 Turner St      2    h  1480000.0      S  Biggin   \n",
       "1  Abbotsford   25 Bloomburg St      2    h  1035000.0      S  Biggin   \n",
       "2  Abbotsford      5 Charles St      3    h  1465000.0     SP  Biggin   \n",
       "3  Abbotsford  40 Federation La      3    h   850000.0     PI  Biggin   \n",
       "4  Abbotsford       55a Park St      4    h  1600000.0     VB  Nelson   \n",
       "\n",
       "        Date  Distance  Postcode  ...  Bathroom  Car  Landsize  BuildingArea  \\\n",
       "0  3/12/2016       2.5    3067.0  ...       1.0  1.0     202.0           NaN   \n",
       "1  4/02/2016       2.5    3067.0  ...       1.0  0.0     156.0          79.0   \n",
       "2  4/03/2017       2.5    3067.0  ...       2.0  0.0     134.0         150.0   \n",
       "3  4/03/2017       2.5    3067.0  ...       2.0  1.0      94.0           NaN   \n",
       "4  4/06/2016       2.5    3067.0  ...       1.0  2.0     120.0         142.0   \n",
       "\n",
       "   YearBuilt  CouncilArea Lattitude  Longtitude             Regionname  \\\n",
       "0        NaN        Yarra  -37.7996    144.9984  Northern Metropolitan   \n",
       "1     1900.0        Yarra  -37.8079    144.9934  Northern Metropolitan   \n",
       "2     1900.0        Yarra  -37.8093    144.9944  Northern Metropolitan   \n",
       "3        NaN        Yarra  -37.7969    144.9969  Northern Metropolitan   \n",
       "4     2014.0        Yarra  -37.8072    144.9941  Northern Metropolitan   \n",
       "\n",
       "  Propertycount  \n",
       "0        4019.0  \n",
       "1        4019.0  \n",
       "2        4019.0  \n",
       "3        4019.0  \n",
       "4        4019.0  \n",
       "\n",
       "[5 rows x 21 columns]"
      ]
     },
     "execution_count": 3,
     "metadata": {},
     "output_type": "execute_result"
    }
   ],
   "source": [
    "#Visualizar datos importados \n",
    "df.head()"
   ]
  },
  {
   "cell_type": "markdown",
   "id": "6e633ba3",
   "metadata": {
    "papermill": {
     "duration": 0.01157,
     "end_time": "2023-01-06T15:49:47.552019",
     "exception": false,
     "start_time": "2023-01-06T15:49:47.540449",
     "status": "completed"
    },
    "tags": []
   },
   "source": [
    "#### Verificación de datos nulos, columnas y tipos de variables"
   ]
  },
  {
   "cell_type": "code",
   "execution_count": 4,
   "id": "8791a74e",
   "metadata": {
    "execution": {
     "iopub.execute_input": "2023-01-06T15:49:47.578744Z",
     "iopub.status.busy": "2023-01-06T15:49:47.578238Z",
     "iopub.status.idle": "2023-01-06T15:49:47.617273Z",
     "shell.execute_reply": "2023-01-06T15:49:47.615576Z"
    },
    "papermill": {
     "duration": 0.055058,
     "end_time": "2023-01-06T15:49:47.619719",
     "exception": false,
     "start_time": "2023-01-06T15:49:47.564661",
     "status": "completed"
    },
    "tags": []
   },
   "outputs": [
    {
     "name": "stdout",
     "output_type": "stream",
     "text": [
      "<class 'pandas.core.frame.DataFrame'>\n",
      "RangeIndex: 13580 entries, 0 to 13579\n",
      "Data columns (total 21 columns):\n",
      " #   Column         Non-Null Count  Dtype  \n",
      "---  ------         --------------  -----  \n",
      " 0   Suburb         13580 non-null  object \n",
      " 1   Address        13580 non-null  object \n",
      " 2   Rooms          13580 non-null  int64  \n",
      " 3   Type           13580 non-null  object \n",
      " 4   Price          13580 non-null  float64\n",
      " 5   Method         13580 non-null  object \n",
      " 6   SellerG        13580 non-null  object \n",
      " 7   Date           13580 non-null  object \n",
      " 8   Distance       13580 non-null  float64\n",
      " 9   Postcode       13580 non-null  float64\n",
      " 10  Bedroom2       13580 non-null  float64\n",
      " 11  Bathroom       13580 non-null  float64\n",
      " 12  Car            13518 non-null  float64\n",
      " 13  Landsize       13580 non-null  float64\n",
      " 14  BuildingArea   7130 non-null   float64\n",
      " 15  YearBuilt      8205 non-null   float64\n",
      " 16  CouncilArea    12211 non-null  object \n",
      " 17  Lattitude      13580 non-null  float64\n",
      " 18  Longtitude     13580 non-null  float64\n",
      " 19  Regionname     13580 non-null  object \n",
      " 20  Propertycount  13580 non-null  float64\n",
      "dtypes: float64(12), int64(1), object(8)\n",
      "memory usage: 2.2+ MB\n",
      "________________________________________\n"
     ]
    },
    {
     "data": {
      "text/plain": [
       "(13580, 21)"
      ]
     },
     "execution_count": 4,
     "metadata": {},
     "output_type": "execute_result"
    }
   ],
   "source": [
    "df.info()\n",
    "\n",
    "print(\"_\"*40)\n",
    "\n",
    "df.shape"
   ]
  },
  {
   "cell_type": "markdown",
   "id": "009fcb9a",
   "metadata": {
    "papermill": {
     "duration": 0.011805,
     "end_time": "2023-01-06T15:49:47.643725",
     "exception": false,
     "start_time": "2023-01-06T15:49:47.631920",
     "status": "completed"
    },
    "tags": []
   },
   "source": [
    "<p><a name=\"norm\"></a></p>\n",
    "\n",
    "# Normalización de datos "
   ]
  },
  {
   "cell_type": "code",
   "execution_count": 5,
   "id": "09e5a510",
   "metadata": {
    "execution": {
     "iopub.execute_input": "2023-01-06T15:49:47.669867Z",
     "iopub.status.busy": "2023-01-06T15:49:47.669424Z",
     "iopub.status.idle": "2023-01-06T15:49:47.681624Z",
     "shell.execute_reply": "2023-01-06T15:49:47.680491Z"
    },
    "papermill": {
     "duration": 0.028936,
     "end_time": "2023-01-06T15:49:47.684820",
     "exception": false,
     "start_time": "2023-01-06T15:49:47.655884",
     "status": "completed"
    },
    "tags": []
   },
   "outputs": [],
   "source": [
    "# Renombrar nombres de columnas  \n",
    "df = df.rename(columns={\"SellerG\":\"Seller_G\", \"Postcode\":\"Post_code\", \"BuildingArea\":\"Building_Area\", \"YearBuilt\":\"Year_Built\", \"CouncilArea\":\"Council_Area\"})\n",
    "df = df.rename(columns={\"Regionname\":\"Region_name\", \"Propertycount\":\"Property_count\",\"Bedroom2\":\"Bed_room2\",\"Bathroom\":\"Bath_room\",\"Landsize\":\"Land_size\"})"
   ]
  },
  {
   "cell_type": "markdown",
   "id": "74f40533",
   "metadata": {
    "papermill": {
     "duration": 0.012431,
     "end_time": "2023-01-06T15:49:47.709411",
     "exception": false,
     "start_time": "2023-01-06T15:49:47.696980",
     "status": "completed"
    },
    "tags": []
   },
   "source": [
    "<p><a name=\"varc\"></a></p>\n",
    "\n",
    "\n",
    "### Varibles categoricas\n",
    "\n",
    "\n",
    "* Suburb\n",
    "* Address\n",
    "* Method\n",
    "* Date\n",
    "* Seller_G\n",
    "* Type\n",
    "* Council_Area\n",
    "* Region_name\n",
    "* Price  "
   ]
  },
  {
   "cell_type": "code",
   "execution_count": 6,
   "id": "7a10f41f",
   "metadata": {
    "execution": {
     "iopub.execute_input": "2023-01-06T15:49:47.736255Z",
     "iopub.status.busy": "2023-01-06T15:49:47.735848Z",
     "iopub.status.idle": "2023-01-06T15:49:47.789581Z",
     "shell.execute_reply": "2023-01-06T15:49:47.787951Z"
    },
    "papermill": {
     "duration": 0.071067,
     "end_time": "2023-01-06T15:49:47.792771",
     "exception": false,
     "start_time": "2023-01-06T15:49:47.721704",
     "status": "completed"
    },
    "tags": []
   },
   "outputs": [
    {
     "data": {
      "text/html": [
       "<div>\n",
       "<style scoped>\n",
       "    .dataframe tbody tr th:only-of-type {\n",
       "        vertical-align: middle;\n",
       "    }\n",
       "\n",
       "    .dataframe tbody tr th {\n",
       "        vertical-align: top;\n",
       "    }\n",
       "\n",
       "    .dataframe thead th {\n",
       "        text-align: right;\n",
       "    }\n",
       "</style>\n",
       "<table border=\"1\" class=\"dataframe\">\n",
       "  <thead>\n",
       "    <tr style=\"text-align: right;\">\n",
       "      <th></th>\n",
       "      <th>Suburb</th>\n",
       "      <th>Address</th>\n",
       "      <th>Rooms</th>\n",
       "      <th>Type</th>\n",
       "      <th>Price</th>\n",
       "      <th>Method</th>\n",
       "      <th>Seller_G</th>\n",
       "      <th>Date</th>\n",
       "      <th>Distance</th>\n",
       "      <th>Post_code</th>\n",
       "      <th>...</th>\n",
       "      <th>Bath_room</th>\n",
       "      <th>Car</th>\n",
       "      <th>Land_size</th>\n",
       "      <th>Building_Area</th>\n",
       "      <th>Year_Built</th>\n",
       "      <th>Council_Area</th>\n",
       "      <th>Lattitude</th>\n",
       "      <th>Longtitude</th>\n",
       "      <th>Region_name</th>\n",
       "      <th>Property_count</th>\n",
       "    </tr>\n",
       "  </thead>\n",
       "  <tbody>\n",
       "    <tr>\n",
       "      <th>0</th>\n",
       "      <td>Abbotsford</td>\n",
       "      <td>85 Turner St</td>\n",
       "      <td>2</td>\n",
       "      <td>h</td>\n",
       "      <td>1480000.0</td>\n",
       "      <td>S</td>\n",
       "      <td>Biggin</td>\n",
       "      <td>3/12/2016</td>\n",
       "      <td>2.5</td>\n",
       "      <td>3067.0</td>\n",
       "      <td>...</td>\n",
       "      <td>1.0</td>\n",
       "      <td>1.0</td>\n",
       "      <td>202.0</td>\n",
       "      <td>NaN</td>\n",
       "      <td>NaN</td>\n",
       "      <td>Yarra</td>\n",
       "      <td>-37.79960</td>\n",
       "      <td>144.99840</td>\n",
       "      <td>Northern Metropolitan</td>\n",
       "      <td>4019.0</td>\n",
       "    </tr>\n",
       "    <tr>\n",
       "      <th>1</th>\n",
       "      <td>Abbotsford</td>\n",
       "      <td>25 Bloomburg St</td>\n",
       "      <td>2</td>\n",
       "      <td>h</td>\n",
       "      <td>1035000.0</td>\n",
       "      <td>S</td>\n",
       "      <td>Biggin</td>\n",
       "      <td>4/02/2016</td>\n",
       "      <td>2.5</td>\n",
       "      <td>3067.0</td>\n",
       "      <td>...</td>\n",
       "      <td>1.0</td>\n",
       "      <td>0.0</td>\n",
       "      <td>156.0</td>\n",
       "      <td>79.0</td>\n",
       "      <td>1900.0</td>\n",
       "      <td>Yarra</td>\n",
       "      <td>-37.80790</td>\n",
       "      <td>144.99340</td>\n",
       "      <td>Northern Metropolitan</td>\n",
       "      <td>4019.0</td>\n",
       "    </tr>\n",
       "    <tr>\n",
       "      <th>2</th>\n",
       "      <td>Abbotsford</td>\n",
       "      <td>5 Charles St</td>\n",
       "      <td>3</td>\n",
       "      <td>h</td>\n",
       "      <td>1465000.0</td>\n",
       "      <td>SP</td>\n",
       "      <td>Biggin</td>\n",
       "      <td>4/03/2017</td>\n",
       "      <td>2.5</td>\n",
       "      <td>3067.0</td>\n",
       "      <td>...</td>\n",
       "      <td>2.0</td>\n",
       "      <td>0.0</td>\n",
       "      <td>134.0</td>\n",
       "      <td>150.0</td>\n",
       "      <td>1900.0</td>\n",
       "      <td>Yarra</td>\n",
       "      <td>-37.80930</td>\n",
       "      <td>144.99440</td>\n",
       "      <td>Northern Metropolitan</td>\n",
       "      <td>4019.0</td>\n",
       "    </tr>\n",
       "    <tr>\n",
       "      <th>3</th>\n",
       "      <td>Abbotsford</td>\n",
       "      <td>40 Federation La</td>\n",
       "      <td>3</td>\n",
       "      <td>h</td>\n",
       "      <td>850000.0</td>\n",
       "      <td>PI</td>\n",
       "      <td>Biggin</td>\n",
       "      <td>4/03/2017</td>\n",
       "      <td>2.5</td>\n",
       "      <td>3067.0</td>\n",
       "      <td>...</td>\n",
       "      <td>2.0</td>\n",
       "      <td>1.0</td>\n",
       "      <td>94.0</td>\n",
       "      <td>NaN</td>\n",
       "      <td>NaN</td>\n",
       "      <td>Yarra</td>\n",
       "      <td>-37.79690</td>\n",
       "      <td>144.99690</td>\n",
       "      <td>Northern Metropolitan</td>\n",
       "      <td>4019.0</td>\n",
       "    </tr>\n",
       "    <tr>\n",
       "      <th>4</th>\n",
       "      <td>Abbotsford</td>\n",
       "      <td>55a Park St</td>\n",
       "      <td>4</td>\n",
       "      <td>h</td>\n",
       "      <td>1600000.0</td>\n",
       "      <td>VB</td>\n",
       "      <td>Nelson</td>\n",
       "      <td>4/06/2016</td>\n",
       "      <td>2.5</td>\n",
       "      <td>3067.0</td>\n",
       "      <td>...</td>\n",
       "      <td>1.0</td>\n",
       "      <td>2.0</td>\n",
       "      <td>120.0</td>\n",
       "      <td>142.0</td>\n",
       "      <td>2014.0</td>\n",
       "      <td>Yarra</td>\n",
       "      <td>-37.80720</td>\n",
       "      <td>144.99410</td>\n",
       "      <td>Northern Metropolitan</td>\n",
       "      <td>4019.0</td>\n",
       "    </tr>\n",
       "    <tr>\n",
       "      <th>...</th>\n",
       "      <td>...</td>\n",
       "      <td>...</td>\n",
       "      <td>...</td>\n",
       "      <td>...</td>\n",
       "      <td>...</td>\n",
       "      <td>...</td>\n",
       "      <td>...</td>\n",
       "      <td>...</td>\n",
       "      <td>...</td>\n",
       "      <td>...</td>\n",
       "      <td>...</td>\n",
       "      <td>...</td>\n",
       "      <td>...</td>\n",
       "      <td>...</td>\n",
       "      <td>...</td>\n",
       "      <td>...</td>\n",
       "      <td>...</td>\n",
       "      <td>...</td>\n",
       "      <td>...</td>\n",
       "      <td>...</td>\n",
       "      <td>...</td>\n",
       "    </tr>\n",
       "    <tr>\n",
       "      <th>13575</th>\n",
       "      <td>Wheelers Hill</td>\n",
       "      <td>12 Strada Cr</td>\n",
       "      <td>4</td>\n",
       "      <td>h</td>\n",
       "      <td>1245000.0</td>\n",
       "      <td>S</td>\n",
       "      <td>Barry</td>\n",
       "      <td>26/08/2017</td>\n",
       "      <td>16.7</td>\n",
       "      <td>3150.0</td>\n",
       "      <td>...</td>\n",
       "      <td>2.0</td>\n",
       "      <td>2.0</td>\n",
       "      <td>652.0</td>\n",
       "      <td>NaN</td>\n",
       "      <td>1981.0</td>\n",
       "      <td>NaN</td>\n",
       "      <td>-37.90562</td>\n",
       "      <td>145.16761</td>\n",
       "      <td>South-Eastern Metropolitan</td>\n",
       "      <td>7392.0</td>\n",
       "    </tr>\n",
       "    <tr>\n",
       "      <th>13576</th>\n",
       "      <td>Williamstown</td>\n",
       "      <td>77 Merrett Dr</td>\n",
       "      <td>3</td>\n",
       "      <td>h</td>\n",
       "      <td>1031000.0</td>\n",
       "      <td>SP</td>\n",
       "      <td>Williams</td>\n",
       "      <td>26/08/2017</td>\n",
       "      <td>6.8</td>\n",
       "      <td>3016.0</td>\n",
       "      <td>...</td>\n",
       "      <td>2.0</td>\n",
       "      <td>2.0</td>\n",
       "      <td>333.0</td>\n",
       "      <td>133.0</td>\n",
       "      <td>1995.0</td>\n",
       "      <td>NaN</td>\n",
       "      <td>-37.85927</td>\n",
       "      <td>144.87904</td>\n",
       "      <td>Western Metropolitan</td>\n",
       "      <td>6380.0</td>\n",
       "    </tr>\n",
       "    <tr>\n",
       "      <th>13577</th>\n",
       "      <td>Williamstown</td>\n",
       "      <td>83 Power St</td>\n",
       "      <td>3</td>\n",
       "      <td>h</td>\n",
       "      <td>1170000.0</td>\n",
       "      <td>S</td>\n",
       "      <td>Raine</td>\n",
       "      <td>26/08/2017</td>\n",
       "      <td>6.8</td>\n",
       "      <td>3016.0</td>\n",
       "      <td>...</td>\n",
       "      <td>2.0</td>\n",
       "      <td>4.0</td>\n",
       "      <td>436.0</td>\n",
       "      <td>NaN</td>\n",
       "      <td>1997.0</td>\n",
       "      <td>NaN</td>\n",
       "      <td>-37.85274</td>\n",
       "      <td>144.88738</td>\n",
       "      <td>Western Metropolitan</td>\n",
       "      <td>6380.0</td>\n",
       "    </tr>\n",
       "    <tr>\n",
       "      <th>13578</th>\n",
       "      <td>Williamstown</td>\n",
       "      <td>96 Verdon St</td>\n",
       "      <td>4</td>\n",
       "      <td>h</td>\n",
       "      <td>2500000.0</td>\n",
       "      <td>PI</td>\n",
       "      <td>Sweeney</td>\n",
       "      <td>26/08/2017</td>\n",
       "      <td>6.8</td>\n",
       "      <td>3016.0</td>\n",
       "      <td>...</td>\n",
       "      <td>1.0</td>\n",
       "      <td>5.0</td>\n",
       "      <td>866.0</td>\n",
       "      <td>157.0</td>\n",
       "      <td>1920.0</td>\n",
       "      <td>NaN</td>\n",
       "      <td>-37.85908</td>\n",
       "      <td>144.89299</td>\n",
       "      <td>Western Metropolitan</td>\n",
       "      <td>6380.0</td>\n",
       "    </tr>\n",
       "    <tr>\n",
       "      <th>13579</th>\n",
       "      <td>Yarraville</td>\n",
       "      <td>6 Agnes St</td>\n",
       "      <td>4</td>\n",
       "      <td>h</td>\n",
       "      <td>1285000.0</td>\n",
       "      <td>SP</td>\n",
       "      <td>Village</td>\n",
       "      <td>26/08/2017</td>\n",
       "      <td>6.3</td>\n",
       "      <td>3013.0</td>\n",
       "      <td>...</td>\n",
       "      <td>1.0</td>\n",
       "      <td>1.0</td>\n",
       "      <td>362.0</td>\n",
       "      <td>112.0</td>\n",
       "      <td>1920.0</td>\n",
       "      <td>NaN</td>\n",
       "      <td>-37.81188</td>\n",
       "      <td>144.88449</td>\n",
       "      <td>Western Metropolitan</td>\n",
       "      <td>6543.0</td>\n",
       "    </tr>\n",
       "  </tbody>\n",
       "</table>\n",
       "<p>13580 rows × 21 columns</p>\n",
       "</div>"
      ],
      "text/plain": [
       "              Suburb           Address  Rooms Type      Price Method  \\\n",
       "0         Abbotsford      85 Turner St      2    h  1480000.0      S   \n",
       "1         Abbotsford   25 Bloomburg St      2    h  1035000.0      S   \n",
       "2         Abbotsford      5 Charles St      3    h  1465000.0     SP   \n",
       "3         Abbotsford  40 Federation La      3    h   850000.0     PI   \n",
       "4         Abbotsford       55a Park St      4    h  1600000.0     VB   \n",
       "...              ...               ...    ...  ...        ...    ...   \n",
       "13575  Wheelers Hill      12 Strada Cr      4    h  1245000.0      S   \n",
       "13576   Williamstown     77 Merrett Dr      3    h  1031000.0     SP   \n",
       "13577   Williamstown       83 Power St      3    h  1170000.0      S   \n",
       "13578   Williamstown      96 Verdon St      4    h  2500000.0     PI   \n",
       "13579     Yarraville        6 Agnes St      4    h  1285000.0     SP   \n",
       "\n",
       "       Seller_G        Date  Distance  Post_code  ...  Bath_room  Car  \\\n",
       "0        Biggin   3/12/2016       2.5     3067.0  ...        1.0  1.0   \n",
       "1        Biggin   4/02/2016       2.5     3067.0  ...        1.0  0.0   \n",
       "2        Biggin   4/03/2017       2.5     3067.0  ...        2.0  0.0   \n",
       "3        Biggin   4/03/2017       2.5     3067.0  ...        2.0  1.0   \n",
       "4        Nelson   4/06/2016       2.5     3067.0  ...        1.0  2.0   \n",
       "...         ...         ...       ...        ...  ...        ...  ...   \n",
       "13575     Barry  26/08/2017      16.7     3150.0  ...        2.0  2.0   \n",
       "13576  Williams  26/08/2017       6.8     3016.0  ...        2.0  2.0   \n",
       "13577     Raine  26/08/2017       6.8     3016.0  ...        2.0  4.0   \n",
       "13578   Sweeney  26/08/2017       6.8     3016.0  ...        1.0  5.0   \n",
       "13579   Village  26/08/2017       6.3     3013.0  ...        1.0  1.0   \n",
       "\n",
       "       Land_size  Building_Area  Year_Built  Council_Area Lattitude  \\\n",
       "0          202.0            NaN         NaN         Yarra -37.79960   \n",
       "1          156.0           79.0      1900.0         Yarra -37.80790   \n",
       "2          134.0          150.0      1900.0         Yarra -37.80930   \n",
       "3           94.0            NaN         NaN         Yarra -37.79690   \n",
       "4          120.0          142.0      2014.0         Yarra -37.80720   \n",
       "...          ...            ...         ...           ...       ...   \n",
       "13575      652.0            NaN      1981.0           NaN -37.90562   \n",
       "13576      333.0          133.0      1995.0           NaN -37.85927   \n",
       "13577      436.0            NaN      1997.0           NaN -37.85274   \n",
       "13578      866.0          157.0      1920.0           NaN -37.85908   \n",
       "13579      362.0          112.0      1920.0           NaN -37.81188   \n",
       "\n",
       "       Longtitude                 Region_name Property_count  \n",
       "0       144.99840       Northern Metropolitan         4019.0  \n",
       "1       144.99340       Northern Metropolitan         4019.0  \n",
       "2       144.99440       Northern Metropolitan         4019.0  \n",
       "3       144.99690       Northern Metropolitan         4019.0  \n",
       "4       144.99410       Northern Metropolitan         4019.0  \n",
       "...           ...                         ...            ...  \n",
       "13575   145.16761  South-Eastern Metropolitan         7392.0  \n",
       "13576   144.87904        Western Metropolitan         6380.0  \n",
       "13577   144.88738        Western Metropolitan         6380.0  \n",
       "13578   144.89299        Western Metropolitan         6380.0  \n",
       "13579   144.88449        Western Metropolitan         6543.0  \n",
       "\n",
       "[13580 rows x 21 columns]"
      ]
     },
     "execution_count": 6,
     "metadata": {},
     "output_type": "execute_result"
    }
   ],
   "source": [
    "df"
   ]
  },
  {
   "cell_type": "code",
   "execution_count": 7,
   "id": "5bfd14b6",
   "metadata": {
    "execution": {
     "iopub.execute_input": "2023-01-06T15:49:47.820147Z",
     "iopub.status.busy": "2023-01-06T15:49:47.819747Z",
     "iopub.status.idle": "2023-01-06T15:49:48.087345Z",
     "shell.execute_reply": "2023-01-06T15:49:48.085703Z"
    },
    "papermill": {
     "duration": 0.28542,
     "end_time": "2023-01-06T15:49:48.090844",
     "exception": false,
     "start_time": "2023-01-06T15:49:47.805424",
     "status": "completed"
    },
    "tags": []
   },
   "outputs": [
    {
     "name": "stderr",
     "output_type": "stream",
     "text": [
      "/opt/conda/lib/python3.7/site-packages/ipykernel_launcher.py:2: FutureWarning: The default value of regex will change from True to False in a future version.\n",
      "  \n",
      "/opt/conda/lib/python3.7/site-packages/ipykernel_launcher.py:3: FutureWarning: The default value of regex will change from True to False in a future version.\n",
      "  This is separate from the ipykernel package so we can avoid doing imports until\n",
      "/opt/conda/lib/python3.7/site-packages/ipykernel_launcher.py:4: FutureWarning: The default value of regex will change from True to False in a future version.\n",
      "  after removing the cwd from sys.path.\n",
      "/opt/conda/lib/python3.7/site-packages/ipykernel_launcher.py:5: FutureWarning: The default value of regex will change from True to False in a future version.\n",
      "  \"\"\"\n",
      "/opt/conda/lib/python3.7/site-packages/ipykernel_launcher.py:6: FutureWarning: The default value of regex will change from True to False in a future version.\n",
      "  \n",
      "/opt/conda/lib/python3.7/site-packages/ipykernel_launcher.py:7: FutureWarning: The default value of regex will change from True to False in a future version.\n",
      "  import sys\n",
      "/opt/conda/lib/python3.7/site-packages/ipykernel_launcher.py:8: FutureWarning: The default value of regex will change from True to False in a future version.\n",
      "  \n",
      "/opt/conda/lib/python3.7/site-packages/ipykernel_launcher.py:9: FutureWarning: The default value of regex will change from True to False in a future version.\n",
      "  if __name__ == \"__main__\":\n"
     ]
    }
   ],
   "source": [
    "# Normalizar las variables de tipo categorica para limpiar la data \n",
    "df['Suburb'] = df['Suburb'].str.lower().str.replace(\"^-\", \"\").str.replace(\"-\", \" \").str.replace(\"  \", \" \")\n",
    "df['Type'] = df['Type'].str.lower().str.replace(\"^-\", \"\").str.replace(\"-\", \" \").str.replace(\"  \", \" \")\n",
    "df['Address'] = df['Address'].str.lower().str.replace(\"^-\", \"\").str.replace(\"-\", \" \").str.replace(\"  \", \" \") \n",
    "df['Method'] = df['Method'].str.lower().str.replace(\"^-\", \"\").str.replace(\"-\", \" \").str.replace(\"  \", \" \")\n",
    "df['Date'] = df['Date'].str.lower().str.replace(\"^-\", \"\").str.replace(\"-\", \" \").str.replace(\"  \", \" \")\n",
    "df['Seller_G'] = df['Seller_G'].str.lower().str.replace(\"^-\", \"\").str.replace(\"-\", \" \").str.replace(\"  \", \" \")\n",
    "df['Council_Area'] = df['Council_Area'].str.lower().str.replace(\"^-\", \"\").str.replace(\"-\", \" \").str.replace(\"  \", \" \")\n",
    "df['Region_name'] = df['Region_name'].str.lower().str.replace(\"^-\", \"\").str.replace(\"-\", \" \").str.replace(\"  \", \" \")"
   ]
  },
  {
   "cell_type": "markdown",
   "id": "e62b1351",
   "metadata": {
    "papermill": {
     "duration": 0.013283,
     "end_time": "2023-01-06T15:49:48.117464",
     "exception": false,
     "start_time": "2023-01-06T15:49:48.104181",
     "status": "completed"
    },
    "tags": []
   },
   "source": [
    "<p><a name=\"varf\"></a></p>\n",
    "\n",
    "\n",
    "### Variables tipo float \n",
    "\n",
    "##### Cambio de variables tipo floar a int, debido que no existe valores despues del punto. \n",
    "\n",
    "\n",
    "  * Price        \n",
    "  * Post_code       \n",
    "  * Bed_room2       \n",
    "  * Bath_room      \n",
    "  * Car            \n",
    "  * Land_size       \n",
    "  * Building_Area   \n",
    "  * Year_Built \n",
    " "
   ]
  },
  {
   "cell_type": "code",
   "execution_count": 8,
   "id": "12a76924",
   "metadata": {
    "execution": {
     "iopub.execute_input": "2023-01-06T15:49:48.146498Z",
     "iopub.status.busy": "2023-01-06T15:49:48.146068Z",
     "iopub.status.idle": "2023-01-06T15:49:48.179336Z",
     "shell.execute_reply": "2023-01-06T15:49:48.178288Z"
    },
    "papermill": {
     "duration": 0.050853,
     "end_time": "2023-01-06T15:49:48.181944",
     "exception": false,
     "start_time": "2023-01-06T15:49:48.131091",
     "status": "completed"
    },
    "tags": []
   },
   "outputs": [],
   "source": [
    "# Convertir las variables float a tipo int \n",
    "df[\"Price\"]=df[\"Price\"].apply(int)\n",
    "#df[\"Post_code\"]=df[\"Post_code\"].apply(int)\n",
    "df[\"Bed_room2\"]=df[\"Bed_room2\"].apply(int)\n",
    "df[\"Bath_room\"]=df[\"Bath_room\"].apply(int)\n",
    "#df[\"Car\"]=df[\"Car\"].apply(int)\n",
    "#df[\"Building_Area\"]=df[\"Building_Area\"].apply(int)\n",
    "df[\"Land_size\"]=df[\"Land_size\"].apply(int)\n",
    "#df[\"Year_Built\"]=df[\"Year_Built\"].apply(int)\n"
   ]
  },
  {
   "cell_type": "markdown",
   "id": "e50ff78f",
   "metadata": {
    "papermill": {
     "duration": 0.01174,
     "end_time": "2023-01-06T15:49:48.206126",
     "exception": false,
     "start_time": "2023-01-06T15:49:48.194386",
     "status": "completed"
    },
    "tags": []
   },
   "source": [
    "<p><a name=\"Trat\"></a></p>\n",
    "\n",
    "# Tratamiento de datos nulos \n"
   ]
  },
  {
   "cell_type": "code",
   "execution_count": 9,
   "id": "e6f84614",
   "metadata": {
    "execution": {
     "iopub.execute_input": "2023-01-06T15:49:48.233172Z",
     "iopub.status.busy": "2023-01-06T15:49:48.232162Z",
     "iopub.status.idle": "2023-01-06T15:49:48.250425Z",
     "shell.execute_reply": "2023-01-06T15:49:48.249029Z"
    },
    "papermill": {
     "duration": 0.035073,
     "end_time": "2023-01-06T15:49:48.253201",
     "exception": false,
     "start_time": "2023-01-06T15:49:48.218128",
     "status": "completed"
    },
    "tags": []
   },
   "outputs": [
    {
     "data": {
      "text/plain": [
       "Suburb               0\n",
       "Address              0\n",
       "Rooms                0\n",
       "Type                 0\n",
       "Price                0\n",
       "Method               0\n",
       "Seller_G             0\n",
       "Date                 0\n",
       "Distance             0\n",
       "Post_code            0\n",
       "Bed_room2            0\n",
       "Bath_room            0\n",
       "Car                 62\n",
       "Land_size            0\n",
       "Building_Area     6450\n",
       "Year_Built        5375\n",
       "Council_Area      1369\n",
       "Lattitude            0\n",
       "Longtitude           0\n",
       "Region_name          0\n",
       "Property_count       0\n",
       "dtype: int64"
      ]
     },
     "execution_count": 9,
     "metadata": {},
     "output_type": "execute_result"
    }
   ],
   "source": [
    "df.isnull().sum()"
   ]
  },
  {
   "cell_type": "code",
   "execution_count": 10,
   "id": "da62ee8d",
   "metadata": {
    "execution": {
     "iopub.execute_input": "2023-01-06T15:49:48.280762Z",
     "iopub.status.busy": "2023-01-06T15:49:48.279716Z",
     "iopub.status.idle": "2023-01-06T15:49:48.287153Z",
     "shell.execute_reply": "2023-01-06T15:49:48.286233Z"
    },
    "papermill": {
     "duration": 0.023953,
     "end_time": "2023-01-06T15:49:48.289412",
     "exception": false,
     "start_time": "2023-01-06T15:49:48.265459",
     "status": "completed"
    },
    "tags": []
   },
   "outputs": [
    {
     "data": {
      "text/plain": [
       "(13580, 21)"
      ]
     },
     "execution_count": 10,
     "metadata": {},
     "output_type": "execute_result"
    }
   ],
   "source": [
    "df.shape"
   ]
  },
  {
   "cell_type": "markdown",
   "id": "f43636d7",
   "metadata": {
    "papermill": {
     "duration": 0.012351,
     "end_time": "2023-01-06T15:49:48.314912",
     "exception": false,
     "start_time": "2023-01-06T15:49:48.302561",
     "status": "completed"
    },
    "tags": []
   },
   "source": [
    " **Datos totales  = 13580**\n",
    "\n",
    "**Total datos nulos por columna** \n",
    " *  Car = 62\n",
    " *  Building_Area =6450\n",
    " *  Year_Built = 5375 \n",
    " *  Council_Area =1369 \n"
   ]
  },
  {
   "cell_type": "markdown",
   "id": "6bfe9aac",
   "metadata": {
    "papermill": {
     "duration": 0.012305,
     "end_time": "2023-01-06T15:49:48.339944",
     "exception": false,
     "start_time": "2023-01-06T15:49:48.327639",
     "status": "completed"
    },
    "tags": []
   },
   "source": [
    "<p><a name=\"Car\"></a></p>\n",
    "\n",
    "\n",
    "### Car"
   ]
  },
  {
   "cell_type": "code",
   "execution_count": 11,
   "id": "ec2e8356",
   "metadata": {
    "execution": {
     "iopub.execute_input": "2023-01-06T15:49:48.367717Z",
     "iopub.status.busy": "2023-01-06T15:49:48.366982Z",
     "iopub.status.idle": "2023-01-06T15:49:48.387989Z",
     "shell.execute_reply": "2023-01-06T15:49:48.386716Z"
    },
    "papermill": {
     "duration": 0.038238,
     "end_time": "2023-01-06T15:49:48.390756",
     "exception": false,
     "start_time": "2023-01-06T15:49:48.352518",
     "status": "completed"
    },
    "tags": []
   },
   "outputs": [
    {
     "data": {
      "text/html": [
       "<div>\n",
       "<style scoped>\n",
       "    .dataframe tbody tr th:only-of-type {\n",
       "        vertical-align: middle;\n",
       "    }\n",
       "\n",
       "    .dataframe tbody tr th {\n",
       "        vertical-align: top;\n",
       "    }\n",
       "\n",
       "    .dataframe thead th {\n",
       "        text-align: right;\n",
       "    }\n",
       "</style>\n",
       "<table border=\"1\" class=\"dataframe\">\n",
       "  <thead>\n",
       "    <tr style=\"text-align: right;\">\n",
       "      <th></th>\n",
       "      <th>0</th>\n",
       "    </tr>\n",
       "  </thead>\n",
       "  <tbody>\n",
       "    <tr>\n",
       "      <th>mean</th>\n",
       "      <td>1.610075</td>\n",
       "    </tr>\n",
       "    <tr>\n",
       "      <th>Median</th>\n",
       "      <td>2.0</td>\n",
       "    </tr>\n",
       "    <tr>\n",
       "      <th>Mode</th>\n",
       "      <td>0    2.0\n",
       "dtype: float64</td>\n",
       "    </tr>\n",
       "  </tbody>\n",
       "</table>\n",
       "</div>"
      ],
      "text/plain": [
       "                              0\n",
       "mean                   1.610075\n",
       "Median                      2.0\n",
       "Mode    0    2.0\n",
       "dtype: float64"
      ]
     },
     "execution_count": 11,
     "metadata": {},
     "output_type": "execute_result"
    }
   ],
   "source": [
    "#Variable Car\n",
    "mean = df.Car.mean()\n",
    "median =df.Car.median()\n",
    "mode = df.Car.mode()\n",
    "\n",
    "Columns = [\"mean\",\"Median\",\"Mode\"]\n",
    "rows = [mean, median, mode]\n",
    "data_f = pd.DataFrame(rows, Columns)\n",
    "data_f"
   ]
  },
  {
   "cell_type": "code",
   "execution_count": 12,
   "id": "c199f597",
   "metadata": {
    "execution": {
     "iopub.execute_input": "2023-01-06T15:49:48.419347Z",
     "iopub.status.busy": "2023-01-06T15:49:48.418850Z",
     "iopub.status.idle": "2023-01-06T15:49:48.433967Z",
     "shell.execute_reply": "2023-01-06T15:49:48.432533Z"
    },
    "papermill": {
     "duration": 0.032894,
     "end_time": "2023-01-06T15:49:48.436844",
     "exception": false,
     "start_time": "2023-01-06T15:49:48.403950",
     "status": "completed"
    },
    "tags": []
   },
   "outputs": [],
   "source": [
    "df[\"Car\"] = df[\"Car\"].replace(np.nan, df.Car.mean())\n",
    "df[\"Car\"]=df[\"Car\"].apply(int)"
   ]
  },
  {
   "cell_type": "markdown",
   "id": "effd53e3",
   "metadata": {
    "papermill": {
     "duration": 0.012113,
     "end_time": "2023-01-06T15:49:48.461421",
     "exception": false,
     "start_time": "2023-01-06T15:49:48.449308",
     "status": "completed"
    },
    "tags": []
   },
   "source": [
    "<p><a name=\"Building\"></a></p>\n",
    "\n",
    "\n",
    "#### Building_Area"
   ]
  },
  {
   "cell_type": "code",
   "execution_count": 13,
   "id": "925e927b",
   "metadata": {
    "execution": {
     "iopub.execute_input": "2023-01-06T15:49:48.488437Z",
     "iopub.status.busy": "2023-01-06T15:49:48.487939Z",
     "iopub.status.idle": "2023-01-06T15:49:48.504852Z",
     "shell.execute_reply": "2023-01-06T15:49:48.503552Z"
    },
    "papermill": {
     "duration": 0.03377,
     "end_time": "2023-01-06T15:49:48.507615",
     "exception": false,
     "start_time": "2023-01-06T15:49:48.473845",
     "status": "completed"
    },
    "tags": []
   },
   "outputs": [
    {
     "data": {
      "text/html": [
       "<div>\n",
       "<style scoped>\n",
       "    .dataframe tbody tr th:only-of-type {\n",
       "        vertical-align: middle;\n",
       "    }\n",
       "\n",
       "    .dataframe tbody tr th {\n",
       "        vertical-align: top;\n",
       "    }\n",
       "\n",
       "    .dataframe thead th {\n",
       "        text-align: right;\n",
       "    }\n",
       "</style>\n",
       "<table border=\"1\" class=\"dataframe\">\n",
       "  <thead>\n",
       "    <tr style=\"text-align: right;\">\n",
       "      <th></th>\n",
       "      <th>0</th>\n",
       "    </tr>\n",
       "  </thead>\n",
       "  <tbody>\n",
       "    <tr>\n",
       "      <th>mean</th>\n",
       "      <td>151.96765</td>\n",
       "    </tr>\n",
       "    <tr>\n",
       "      <th>Median</th>\n",
       "      <td>126.0</td>\n",
       "    </tr>\n",
       "    <tr>\n",
       "      <th>Mode</th>\n",
       "      <td>0    120.0\n",
       "dtype: float64</td>\n",
       "    </tr>\n",
       "  </tbody>\n",
       "</table>\n",
       "</div>"
      ],
      "text/plain": [
       "                                0\n",
       "mean                    151.96765\n",
       "Median                      126.0\n",
       "Mode    0    120.0\n",
       "dtype: float64"
      ]
     },
     "execution_count": 13,
     "metadata": {},
     "output_type": "execute_result"
    }
   ],
   "source": [
    "# Building_Area\n",
    "\n",
    "mean = df.Building_Area.mean()\n",
    "median =df.Building_Area.median()\n",
    "mode = df.Building_Area.mode()\n",
    "\n",
    "Columns = [\"mean\",\"Median\",\"Mode\"]\n",
    "rows = [mean, median, mode]\n",
    "data_f = pd.DataFrame(rows, Columns)\n",
    "data_f"
   ]
  },
  {
   "cell_type": "code",
   "execution_count": 14,
   "id": "e8a63f5e",
   "metadata": {
    "execution": {
     "iopub.execute_input": "2023-01-06T15:49:48.535896Z",
     "iopub.status.busy": "2023-01-06T15:49:48.535391Z",
     "iopub.status.idle": "2023-01-06T15:49:48.550307Z",
     "shell.execute_reply": "2023-01-06T15:49:48.548995Z"
    },
    "papermill": {
     "duration": 0.032428,
     "end_time": "2023-01-06T15:49:48.552809",
     "exception": false,
     "start_time": "2023-01-06T15:49:48.520381",
     "status": "completed"
    },
    "tags": []
   },
   "outputs": [],
   "source": [
    "df[\"Building_Area\"] = df[\"Building_Area\"].replace(np.nan, df.Building_Area.mean())\n",
    "df[\"Building_Area\"]=df[\"Building_Area\"].apply(int)"
   ]
  },
  {
   "cell_type": "markdown",
   "id": "563171e0",
   "metadata": {
    "papermill": {
     "duration": 0.01248,
     "end_time": "2023-01-06T15:49:48.578047",
     "exception": false,
     "start_time": "2023-01-06T15:49:48.565567",
     "status": "completed"
    },
    "tags": []
   },
   "source": [
    "<p><a name=\"Year\"></a></p>\n",
    "\n",
    "\n",
    "\n",
    "###  Year_Built"
   ]
  },
  {
   "cell_type": "code",
   "execution_count": 15,
   "id": "7fec7e70",
   "metadata": {
    "execution": {
     "iopub.execute_input": "2023-01-06T15:49:48.605511Z",
     "iopub.status.busy": "2023-01-06T15:49:48.604965Z",
     "iopub.status.idle": "2023-01-06T15:49:48.622415Z",
     "shell.execute_reply": "2023-01-06T15:49:48.621035Z"
    },
    "papermill": {
     "duration": 0.034784,
     "end_time": "2023-01-06T15:49:48.625250",
     "exception": false,
     "start_time": "2023-01-06T15:49:48.590466",
     "status": "completed"
    },
    "tags": []
   },
   "outputs": [
    {
     "data": {
      "text/html": [
       "<div>\n",
       "<style scoped>\n",
       "    .dataframe tbody tr th:only-of-type {\n",
       "        vertical-align: middle;\n",
       "    }\n",
       "\n",
       "    .dataframe tbody tr th {\n",
       "        vertical-align: top;\n",
       "    }\n",
       "\n",
       "    .dataframe thead th {\n",
       "        text-align: right;\n",
       "    }\n",
       "</style>\n",
       "<table border=\"1\" class=\"dataframe\">\n",
       "  <thead>\n",
       "    <tr style=\"text-align: right;\">\n",
       "      <th></th>\n",
       "      <th>0</th>\n",
       "    </tr>\n",
       "  </thead>\n",
       "  <tbody>\n",
       "    <tr>\n",
       "      <th>mean</th>\n",
       "      <td>1964.684217</td>\n",
       "    </tr>\n",
       "    <tr>\n",
       "      <th>Median</th>\n",
       "      <td>1970.0</td>\n",
       "    </tr>\n",
       "    <tr>\n",
       "      <th>Mode</th>\n",
       "      <td>0    1970.0\n",
       "dtype: float64</td>\n",
       "    </tr>\n",
       "  </tbody>\n",
       "</table>\n",
       "</div>"
      ],
      "text/plain": [
       "                                 0\n",
       "mean                   1964.684217\n",
       "Median                      1970.0\n",
       "Mode    0    1970.0\n",
       "dtype: float64"
      ]
     },
     "execution_count": 15,
     "metadata": {},
     "output_type": "execute_result"
    }
   ],
   "source": [
    "## Variable Year_built\n",
    "\n",
    "mean = df.Year_Built.mean()\n",
    "median =df.Year_Built.median()\n",
    "mode = df.Year_Built.mode()\n",
    "\n",
    "Columns = [\"mean\",\"Median\",\"Mode\"]\n",
    "rows = [mean, median, mode]\n",
    "data_f = pd.DataFrame(rows, Columns)\n",
    "data_f"
   ]
  },
  {
   "cell_type": "code",
   "execution_count": 16,
   "id": "21f10457",
   "metadata": {
    "execution": {
     "iopub.execute_input": "2023-01-06T15:49:48.657891Z",
     "iopub.status.busy": "2023-01-06T15:49:48.657416Z",
     "iopub.status.idle": "2023-01-06T15:49:48.672234Z",
     "shell.execute_reply": "2023-01-06T15:49:48.671063Z"
    },
    "papermill": {
     "duration": 0.034998,
     "end_time": "2023-01-06T15:49:48.674906",
     "exception": false,
     "start_time": "2023-01-06T15:49:48.639908",
     "status": "completed"
    },
    "tags": []
   },
   "outputs": [],
   "source": [
    "df[\"Year_Built\"] = df[\"Year_Built\"].replace(np.nan, df.Building_Area.mean())\n",
    "df[\"Year_Built\"]=df[\"Year_Built\"].apply(int)"
   ]
  },
  {
   "cell_type": "markdown",
   "id": "45d254bd",
   "metadata": {
    "papermill": {
     "duration": 0.012507,
     "end_time": "2023-01-06T15:49:48.700359",
     "exception": false,
     "start_time": "2023-01-06T15:49:48.687852",
     "status": "completed"
    },
    "tags": []
   },
   "source": [
    "<p><a name=\"Council\"></a></p>\n",
    "\n",
    "\n",
    "### Council_Area"
   ]
  },
  {
   "cell_type": "code",
   "execution_count": 17,
   "id": "c1b5e1dc",
   "metadata": {
    "execution": {
     "iopub.execute_input": "2023-01-06T15:49:48.730610Z",
     "iopub.status.busy": "2023-01-06T15:49:48.730122Z",
     "iopub.status.idle": "2023-01-06T15:49:48.739312Z",
     "shell.execute_reply": "2023-01-06T15:49:48.738295Z"
    },
    "papermill": {
     "duration": 0.027736,
     "end_time": "2023-01-06T15:49:48.741985",
     "exception": false,
     "start_time": "2023-01-06T15:49:48.714249",
     "status": "completed"
    },
    "tags": []
   },
   "outputs": [],
   "source": [
    "df = df.drop([\"Council_Area\"], axis= 1)"
   ]
  },
  {
   "cell_type": "code",
   "execution_count": 18,
   "id": "aafdcce3",
   "metadata": {
    "execution": {
     "iopub.execute_input": "2023-01-06T15:49:48.774484Z",
     "iopub.status.busy": "2023-01-06T15:49:48.773718Z",
     "iopub.status.idle": "2023-01-06T15:49:48.787723Z",
     "shell.execute_reply": "2023-01-06T15:49:48.786895Z"
    },
    "papermill": {
     "duration": 0.033003,
     "end_time": "2023-01-06T15:49:48.790295",
     "exception": false,
     "start_time": "2023-01-06T15:49:48.757292",
     "status": "completed"
    },
    "tags": []
   },
   "outputs": [
    {
     "data": {
      "text/plain": [
       "Suburb            0\n",
       "Address           0\n",
       "Rooms             0\n",
       "Type              0\n",
       "Price             0\n",
       "Method            0\n",
       "Seller_G          0\n",
       "Date              0\n",
       "Distance          0\n",
       "Post_code         0\n",
       "Bed_room2         0\n",
       "Bath_room         0\n",
       "Car               0\n",
       "Land_size         0\n",
       "Building_Area     0\n",
       "Year_Built        0\n",
       "Lattitude         0\n",
       "Longtitude        0\n",
       "Region_name       0\n",
       "Property_count    0\n",
       "dtype: int64"
      ]
     },
     "execution_count": 18,
     "metadata": {},
     "output_type": "execute_result"
    }
   ],
   "source": [
    "df.isnull().sum()"
   ]
  },
  {
   "cell_type": "markdown",
   "id": "af739d32",
   "metadata": {
    "papermill": {
     "duration": 0.013663,
     "end_time": "2023-01-06T15:49:48.818677",
     "exception": false,
     "start_time": "2023-01-06T15:49:48.805014",
     "status": "completed"
    },
    "tags": []
   },
   "source": [
    "<p><a name=\"Corr\"></a></p>\n",
    "\n",
    "\n",
    "# Correlación de variables"
   ]
  },
  {
   "cell_type": "code",
   "execution_count": 19,
   "id": "72aa67cb",
   "metadata": {
    "execution": {
     "iopub.execute_input": "2023-01-06T15:49:48.849106Z",
     "iopub.status.busy": "2023-01-06T15:49:48.848270Z",
     "iopub.status.idle": "2023-01-06T15:49:48.884286Z",
     "shell.execute_reply": "2023-01-06T15:49:48.882951Z"
    },
    "papermill": {
     "duration": 0.055071,
     "end_time": "2023-01-06T15:49:48.887541",
     "exception": false,
     "start_time": "2023-01-06T15:49:48.832470",
     "status": "completed"
    },
    "tags": []
   },
   "outputs": [
    {
     "data": {
      "text/html": [
       "<div>\n",
       "<style scoped>\n",
       "    .dataframe tbody tr th:only-of-type {\n",
       "        vertical-align: middle;\n",
       "    }\n",
       "\n",
       "    .dataframe tbody tr th {\n",
       "        vertical-align: top;\n",
       "    }\n",
       "\n",
       "    .dataframe thead th {\n",
       "        text-align: right;\n",
       "    }\n",
       "</style>\n",
       "<table border=\"1\" class=\"dataframe\">\n",
       "  <thead>\n",
       "    <tr style=\"text-align: right;\">\n",
       "      <th></th>\n",
       "      <th>Rooms</th>\n",
       "      <th>Price</th>\n",
       "      <th>Distance</th>\n",
       "      <th>Post_code</th>\n",
       "      <th>Bed_room2</th>\n",
       "      <th>Bath_room</th>\n",
       "      <th>Car</th>\n",
       "      <th>Land_size</th>\n",
       "      <th>Building_Area</th>\n",
       "      <th>Year_Built</th>\n",
       "      <th>Lattitude</th>\n",
       "      <th>Longtitude</th>\n",
       "      <th>Property_count</th>\n",
       "    </tr>\n",
       "  </thead>\n",
       "  <tbody>\n",
       "    <tr>\n",
       "      <th>Rooms</th>\n",
       "      <td>1.000000</td>\n",
       "      <td>0.496634</td>\n",
       "      <td>0.294203</td>\n",
       "      <td>0.055303</td>\n",
       "      <td>0.944190</td>\n",
       "      <td>0.592934</td>\n",
       "      <td>0.408651</td>\n",
       "      <td>0.025678</td>\n",
       "      <td>0.091425</td>\n",
       "      <td>-0.005523</td>\n",
       "      <td>0.015948</td>\n",
       "      <td>0.100771</td>\n",
       "      <td>-0.081530</td>\n",
       "    </tr>\n",
       "    <tr>\n",
       "      <th>Price</th>\n",
       "      <td>0.496634</td>\n",
       "      <td>1.000000</td>\n",
       "      <td>-0.162522</td>\n",
       "      <td>0.107867</td>\n",
       "      <td>0.475951</td>\n",
       "      <td>0.467038</td>\n",
       "      <td>0.237542</td>\n",
       "      <td>0.037507</td>\n",
       "      <td>0.069581</td>\n",
       "      <td>-0.027656</td>\n",
       "      <td>-0.212934</td>\n",
       "      <td>0.203656</td>\n",
       "      <td>-0.042153</td>\n",
       "    </tr>\n",
       "    <tr>\n",
       "      <th>Distance</th>\n",
       "      <td>0.294203</td>\n",
       "      <td>-0.162522</td>\n",
       "      <td>1.000000</td>\n",
       "      <td>0.431514</td>\n",
       "      <td>0.295927</td>\n",
       "      <td>0.127155</td>\n",
       "      <td>0.263993</td>\n",
       "      <td>0.025004</td>\n",
       "      <td>0.073985</td>\n",
       "      <td>-0.020589</td>\n",
       "      <td>-0.130723</td>\n",
       "      <td>0.239425</td>\n",
       "      <td>-0.054910</td>\n",
       "    </tr>\n",
       "    <tr>\n",
       "      <th>Post_code</th>\n",
       "      <td>0.055303</td>\n",
       "      <td>0.107867</td>\n",
       "      <td>0.431514</td>\n",
       "      <td>1.000000</td>\n",
       "      <td>0.060584</td>\n",
       "      <td>0.113664</td>\n",
       "      <td>0.049636</td>\n",
       "      <td>0.024558</td>\n",
       "      <td>0.040699</td>\n",
       "      <td>-0.000233</td>\n",
       "      <td>-0.406104</td>\n",
       "      <td>0.445357</td>\n",
       "      <td>0.062304</td>\n",
       "    </tr>\n",
       "    <tr>\n",
       "      <th>Bed_room2</th>\n",
       "      <td>0.944190</td>\n",
       "      <td>0.475951</td>\n",
       "      <td>0.295927</td>\n",
       "      <td>0.060584</td>\n",
       "      <td>1.000000</td>\n",
       "      <td>0.584685</td>\n",
       "      <td>0.405450</td>\n",
       "      <td>0.025646</td>\n",
       "      <td>0.089149</td>\n",
       "      <td>-0.005783</td>\n",
       "      <td>0.015925</td>\n",
       "      <td>0.102238</td>\n",
       "      <td>-0.081350</td>\n",
       "    </tr>\n",
       "    <tr>\n",
       "      <th>Bath_room</th>\n",
       "      <td>0.592934</td>\n",
       "      <td>0.467038</td>\n",
       "      <td>0.127155</td>\n",
       "      <td>0.113664</td>\n",
       "      <td>0.584685</td>\n",
       "      <td>1.000000</td>\n",
       "      <td>0.322515</td>\n",
       "      <td>0.037130</td>\n",
       "      <td>0.084584</td>\n",
       "      <td>0.076305</td>\n",
       "      <td>-0.070594</td>\n",
       "      <td>0.118971</td>\n",
       "      <td>-0.052201</td>\n",
       "    </tr>\n",
       "    <tr>\n",
       "      <th>Car</th>\n",
       "      <td>0.408651</td>\n",
       "      <td>0.237542</td>\n",
       "      <td>0.263993</td>\n",
       "      <td>0.049636</td>\n",
       "      <td>0.405450</td>\n",
       "      <td>0.322515</td>\n",
       "      <td>1.000000</td>\n",
       "      <td>0.026686</td>\n",
       "      <td>0.068461</td>\n",
       "      <td>-0.021585</td>\n",
       "      <td>-0.001862</td>\n",
       "      <td>0.063795</td>\n",
       "      <td>-0.024079</td>\n",
       "    </tr>\n",
       "    <tr>\n",
       "      <th>Land_size</th>\n",
       "      <td>0.025678</td>\n",
       "      <td>0.037507</td>\n",
       "      <td>0.025004</td>\n",
       "      <td>0.024558</td>\n",
       "      <td>0.025646</td>\n",
       "      <td>0.037130</td>\n",
       "      <td>0.026686</td>\n",
       "      <td>1.000000</td>\n",
       "      <td>0.094636</td>\n",
       "      <td>-0.019703</td>\n",
       "      <td>0.009695</td>\n",
       "      <td>0.010833</td>\n",
       "      <td>-0.006854</td>\n",
       "    </tr>\n",
       "    <tr>\n",
       "      <th>Building_Area</th>\n",
       "      <td>0.091425</td>\n",
       "      <td>0.069581</td>\n",
       "      <td>0.073985</td>\n",
       "      <td>0.040699</td>\n",
       "      <td>0.089149</td>\n",
       "      <td>0.084584</td>\n",
       "      <td>0.068461</td>\n",
       "      <td>0.094636</td>\n",
       "      <td>1.000000</td>\n",
       "      <td>-0.021716</td>\n",
       "      <td>0.031817</td>\n",
       "      <td>-0.017481</td>\n",
       "      <td>-0.020742</td>\n",
       "    </tr>\n",
       "    <tr>\n",
       "      <th>Year_Built</th>\n",
       "      <td>-0.005523</td>\n",
       "      <td>-0.027656</td>\n",
       "      <td>-0.020589</td>\n",
       "      <td>-0.000233</td>\n",
       "      <td>-0.005783</td>\n",
       "      <td>0.076305</td>\n",
       "      <td>-0.021585</td>\n",
       "      <td>-0.019703</td>\n",
       "      <td>-0.021716</td>\n",
       "      <td>1.000000</td>\n",
       "      <td>0.001896</td>\n",
       "      <td>-0.024085</td>\n",
       "      <td>0.005407</td>\n",
       "    </tr>\n",
       "    <tr>\n",
       "      <th>Lattitude</th>\n",
       "      <td>0.015948</td>\n",
       "      <td>-0.212934</td>\n",
       "      <td>-0.130723</td>\n",
       "      <td>-0.406104</td>\n",
       "      <td>0.015925</td>\n",
       "      <td>-0.070594</td>\n",
       "      <td>-0.001862</td>\n",
       "      <td>0.009695</td>\n",
       "      <td>0.031817</td>\n",
       "      <td>0.001896</td>\n",
       "      <td>1.000000</td>\n",
       "      <td>-0.357634</td>\n",
       "      <td>0.047086</td>\n",
       "    </tr>\n",
       "    <tr>\n",
       "      <th>Longtitude</th>\n",
       "      <td>0.100771</td>\n",
       "      <td>0.203656</td>\n",
       "      <td>0.239425</td>\n",
       "      <td>0.445357</td>\n",
       "      <td>0.102238</td>\n",
       "      <td>0.118971</td>\n",
       "      <td>0.063795</td>\n",
       "      <td>0.010833</td>\n",
       "      <td>-0.017481</td>\n",
       "      <td>-0.024085</td>\n",
       "      <td>-0.357634</td>\n",
       "      <td>1.000000</td>\n",
       "      <td>0.065988</td>\n",
       "    </tr>\n",
       "    <tr>\n",
       "      <th>Property_count</th>\n",
       "      <td>-0.081530</td>\n",
       "      <td>-0.042153</td>\n",
       "      <td>-0.054910</td>\n",
       "      <td>0.062304</td>\n",
       "      <td>-0.081350</td>\n",
       "      <td>-0.052201</td>\n",
       "      <td>-0.024079</td>\n",
       "      <td>-0.006854</td>\n",
       "      <td>-0.020742</td>\n",
       "      <td>0.005407</td>\n",
       "      <td>0.047086</td>\n",
       "      <td>0.065988</td>\n",
       "      <td>1.000000</td>\n",
       "    </tr>\n",
       "  </tbody>\n",
       "</table>\n",
       "</div>"
      ],
      "text/plain": [
       "                   Rooms     Price  Distance  Post_code  Bed_room2  Bath_room  \\\n",
       "Rooms           1.000000  0.496634  0.294203   0.055303   0.944190   0.592934   \n",
       "Price           0.496634  1.000000 -0.162522   0.107867   0.475951   0.467038   \n",
       "Distance        0.294203 -0.162522  1.000000   0.431514   0.295927   0.127155   \n",
       "Post_code       0.055303  0.107867  0.431514   1.000000   0.060584   0.113664   \n",
       "Bed_room2       0.944190  0.475951  0.295927   0.060584   1.000000   0.584685   \n",
       "Bath_room       0.592934  0.467038  0.127155   0.113664   0.584685   1.000000   \n",
       "Car             0.408651  0.237542  0.263993   0.049636   0.405450   0.322515   \n",
       "Land_size       0.025678  0.037507  0.025004   0.024558   0.025646   0.037130   \n",
       "Building_Area   0.091425  0.069581  0.073985   0.040699   0.089149   0.084584   \n",
       "Year_Built     -0.005523 -0.027656 -0.020589  -0.000233  -0.005783   0.076305   \n",
       "Lattitude       0.015948 -0.212934 -0.130723  -0.406104   0.015925  -0.070594   \n",
       "Longtitude      0.100771  0.203656  0.239425   0.445357   0.102238   0.118971   \n",
       "Property_count -0.081530 -0.042153 -0.054910   0.062304  -0.081350  -0.052201   \n",
       "\n",
       "                     Car  Land_size  Building_Area  Year_Built  Lattitude  \\\n",
       "Rooms           0.408651   0.025678       0.091425   -0.005523   0.015948   \n",
       "Price           0.237542   0.037507       0.069581   -0.027656  -0.212934   \n",
       "Distance        0.263993   0.025004       0.073985   -0.020589  -0.130723   \n",
       "Post_code       0.049636   0.024558       0.040699   -0.000233  -0.406104   \n",
       "Bed_room2       0.405450   0.025646       0.089149   -0.005783   0.015925   \n",
       "Bath_room       0.322515   0.037130       0.084584    0.076305  -0.070594   \n",
       "Car             1.000000   0.026686       0.068461   -0.021585  -0.001862   \n",
       "Land_size       0.026686   1.000000       0.094636   -0.019703   0.009695   \n",
       "Building_Area   0.068461   0.094636       1.000000   -0.021716   0.031817   \n",
       "Year_Built     -0.021585  -0.019703      -0.021716    1.000000   0.001896   \n",
       "Lattitude      -0.001862   0.009695       0.031817    0.001896   1.000000   \n",
       "Longtitude      0.063795   0.010833      -0.017481   -0.024085  -0.357634   \n",
       "Property_count -0.024079  -0.006854      -0.020742    0.005407   0.047086   \n",
       "\n",
       "                Longtitude  Property_count  \n",
       "Rooms             0.100771       -0.081530  \n",
       "Price             0.203656       -0.042153  \n",
       "Distance          0.239425       -0.054910  \n",
       "Post_code         0.445357        0.062304  \n",
       "Bed_room2         0.102238       -0.081350  \n",
       "Bath_room         0.118971       -0.052201  \n",
       "Car               0.063795       -0.024079  \n",
       "Land_size         0.010833       -0.006854  \n",
       "Building_Area    -0.017481       -0.020742  \n",
       "Year_Built       -0.024085        0.005407  \n",
       "Lattitude        -0.357634        0.047086  \n",
       "Longtitude        1.000000        0.065988  \n",
       "Property_count    0.065988        1.000000  "
      ]
     },
     "execution_count": 19,
     "metadata": {},
     "output_type": "execute_result"
    }
   ],
   "source": [
    "df.corr()"
   ]
  },
  {
   "cell_type": "code",
   "execution_count": 20,
   "id": "3b091516",
   "metadata": {
    "execution": {
     "iopub.execute_input": "2023-01-06T15:49:48.918970Z",
     "iopub.status.busy": "2023-01-06T15:49:48.918476Z",
     "iopub.status.idle": "2023-01-06T15:49:50.205922Z",
     "shell.execute_reply": "2023-01-06T15:49:50.204692Z"
    },
    "papermill": {
     "duration": 1.306734,
     "end_time": "2023-01-06T15:49:50.208760",
     "exception": false,
     "start_time": "2023-01-06T15:49:48.902026",
     "status": "completed"
    },
    "tags": []
   },
   "outputs": [
    {
     "data": {
      "text/plain": [
       "<AxesSubplot:>"
      ]
     },
     "execution_count": 20,
     "metadata": {},
     "output_type": "execute_result"
    },
    {
     "data": {
      "image/png": "[encoded data removed]",
      "text/plain": [
       "<Figure size 1440x720 with 2 Axes>"
      ]
     },
     "metadata": {
      "needs_background": "light"
     },
     "output_type": "display_data"
    }
   ],
   "source": [
    "#Mapa de calor correlacion de variables \n",
    "\n",
    "df_corr = df.corr()\n",
    "plt.figure(figsize=(20,10))\n",
    "sns.heatmap(df_corr, square=True, annot = True)"
   ]
  },
  {
   "cell_type": "markdown",
   "id": "4c2c81fd",
   "metadata": {
    "papermill": {
     "duration": 0.014739,
     "end_time": "2023-01-06T15:49:50.239797",
     "exception": false,
     "start_time": "2023-01-06T15:49:50.225058",
     "status": "completed"
    },
    "tags": []
   },
   "source": []
  },
  {
   "cell_type": "markdown",
   "id": "5739f56f",
   "metadata": {
    "papermill": {
     "duration": 0.015236,
     "end_time": "2023-01-06T15:49:50.270378",
     "exception": false,
     "start_time": "2023-01-06T15:49:50.255142",
     "status": "completed"
    },
    "tags": []
   },
   "source": [
    "<p><a name=\"Corrp\"></a></p>\n",
    "\n",
    "### Correlaciones Positivas "
   ]
  },
  {
   "cell_type": "code",
   "execution_count": 21,
   "id": "d5c13fdf",
   "metadata": {
    "execution": {
     "iopub.execute_input": "2023-01-06T15:49:50.304378Z",
     "iopub.status.busy": "2023-01-06T15:49:50.303822Z",
     "iopub.status.idle": "2023-01-06T15:49:50.318666Z",
     "shell.execute_reply": "2023-01-06T15:49:50.317101Z"
    },
    "papermill": {
     "duration": 0.034978,
     "end_time": "2023-01-06T15:49:50.321122",
     "exception": false,
     "start_time": "2023-01-06T15:49:50.286144",
     "status": "completed"
    },
    "tags": []
   },
   "outputs": [
    {
     "data": {
      "text/html": [
       "<div>\n",
       "<style scoped>\n",
       "    .dataframe tbody tr th:only-of-type {\n",
       "        vertical-align: middle;\n",
       "    }\n",
       "\n",
       "    .dataframe tbody tr th {\n",
       "        vertical-align: top;\n",
       "    }\n",
       "\n",
       "    .dataframe thead th {\n",
       "        text-align: right;\n",
       "    }\n",
       "</style>\n",
       "<table border=\"1\" class=\"dataframe\">\n",
       "  <thead>\n",
       "    <tr style=\"text-align: right;\">\n",
       "      <th></th>\n",
       "      <th>Price</th>\n",
       "      <th>Rooms</th>\n",
       "    </tr>\n",
       "  </thead>\n",
       "  <tbody>\n",
       "    <tr>\n",
       "      <th>Price</th>\n",
       "      <td>1.000000</td>\n",
       "      <td>0.496634</td>\n",
       "    </tr>\n",
       "    <tr>\n",
       "      <th>Rooms</th>\n",
       "      <td>0.496634</td>\n",
       "      <td>1.000000</td>\n",
       "    </tr>\n",
       "  </tbody>\n",
       "</table>\n",
       "</div>"
      ],
      "text/plain": [
       "          Price     Rooms\n",
       "Price  1.000000  0.496634\n",
       "Rooms  0.496634  1.000000"
      ]
     },
     "execution_count": 21,
     "metadata": {},
     "output_type": "execute_result"
    }
   ],
   "source": [
    "\n",
    "df[[\"Price\", \"Rooms\"]].corr()\n"
   ]
  },
  {
   "cell_type": "code",
   "execution_count": 22,
   "id": "0de92210",
   "metadata": {
    "execution": {
     "iopub.execute_input": "2023-01-06T15:49:50.354992Z",
     "iopub.status.busy": "2023-01-06T15:49:50.354010Z",
     "iopub.status.idle": "2023-01-06T15:49:50.369550Z",
     "shell.execute_reply": "2023-01-06T15:49:50.368098Z"
    },
    "papermill": {
     "duration": 0.035364,
     "end_time": "2023-01-06T15:49:50.372143",
     "exception": false,
     "start_time": "2023-01-06T15:49:50.336779",
     "status": "completed"
    },
    "tags": []
   },
   "outputs": [
    {
     "data": {
      "text/html": [
       "<div>\n",
       "<style scoped>\n",
       "    .dataframe tbody tr th:only-of-type {\n",
       "        vertical-align: middle;\n",
       "    }\n",
       "\n",
       "    .dataframe tbody tr th {\n",
       "        vertical-align: top;\n",
       "    }\n",
       "\n",
       "    .dataframe thead th {\n",
       "        text-align: right;\n",
       "    }\n",
       "</style>\n",
       "<table border=\"1\" class=\"dataframe\">\n",
       "  <thead>\n",
       "    <tr style=\"text-align: right;\">\n",
       "      <th></th>\n",
       "      <th>Price</th>\n",
       "      <th>Bed_room2</th>\n",
       "    </tr>\n",
       "  </thead>\n",
       "  <tbody>\n",
       "    <tr>\n",
       "      <th>Price</th>\n",
       "      <td>1.000000</td>\n",
       "      <td>0.475951</td>\n",
       "    </tr>\n",
       "    <tr>\n",
       "      <th>Bed_room2</th>\n",
       "      <td>0.475951</td>\n",
       "      <td>1.000000</td>\n",
       "    </tr>\n",
       "  </tbody>\n",
       "</table>\n",
       "</div>"
      ],
      "text/plain": [
       "              Price  Bed_room2\n",
       "Price      1.000000   0.475951\n",
       "Bed_room2  0.475951   1.000000"
      ]
     },
     "execution_count": 22,
     "metadata": {},
     "output_type": "execute_result"
    }
   ],
   "source": [
    "df[[\"Price\", \"Bed_room2\"]].corr()"
   ]
  },
  {
   "cell_type": "code",
   "execution_count": 23,
   "id": "78aa7c24",
   "metadata": {
    "execution": {
     "iopub.execute_input": "2023-01-06T15:49:50.406225Z",
     "iopub.status.busy": "2023-01-06T15:49:50.405371Z",
     "iopub.status.idle": "2023-01-06T15:49:50.419105Z",
     "shell.execute_reply": "2023-01-06T15:49:50.417883Z"
    },
    "papermill": {
     "duration": 0.033992,
     "end_time": "2023-01-06T15:49:50.421831",
     "exception": false,
     "start_time": "2023-01-06T15:49:50.387839",
     "status": "completed"
    },
    "tags": []
   },
   "outputs": [
    {
     "data": {
      "text/html": [
       "<div>\n",
       "<style scoped>\n",
       "    .dataframe tbody tr th:only-of-type {\n",
       "        vertical-align: middle;\n",
       "    }\n",
       "\n",
       "    .dataframe tbody tr th {\n",
       "        vertical-align: top;\n",
       "    }\n",
       "\n",
       "    .dataframe thead th {\n",
       "        text-align: right;\n",
       "    }\n",
       "</style>\n",
       "<table border=\"1\" class=\"dataframe\">\n",
       "  <thead>\n",
       "    <tr style=\"text-align: right;\">\n",
       "      <th></th>\n",
       "      <th>Price</th>\n",
       "      <th>Bath_room</th>\n",
       "    </tr>\n",
       "  </thead>\n",
       "  <tbody>\n",
       "    <tr>\n",
       "      <th>Price</th>\n",
       "      <td>1.000000</td>\n",
       "      <td>0.467038</td>\n",
       "    </tr>\n",
       "    <tr>\n",
       "      <th>Bath_room</th>\n",
       "      <td>0.467038</td>\n",
       "      <td>1.000000</td>\n",
       "    </tr>\n",
       "  </tbody>\n",
       "</table>\n",
       "</div>"
      ],
      "text/plain": [
       "              Price  Bath_room\n",
       "Price      1.000000   0.467038\n",
       "Bath_room  0.467038   1.000000"
      ]
     },
     "execution_count": 23,
     "metadata": {},
     "output_type": "execute_result"
    }
   ],
   "source": [
    "df[[\"Price\", \"Bath_room\"]].corr()"
   ]
  },
  {
   "cell_type": "code",
   "execution_count": 24,
   "id": "d4eea59f",
   "metadata": {
    "execution": {
     "iopub.execute_input": "2023-01-06T15:49:50.455679Z",
     "iopub.status.busy": "2023-01-06T15:49:50.455179Z",
     "iopub.status.idle": "2023-01-06T15:49:50.469646Z",
     "shell.execute_reply": "2023-01-06T15:49:50.468150Z"
    },
    "papermill": {
     "duration": 0.034614,
     "end_time": "2023-01-06T15:49:50.472345",
     "exception": false,
     "start_time": "2023-01-06T15:49:50.437731",
     "status": "completed"
    },
    "tags": []
   },
   "outputs": [
    {
     "data": {
      "text/html": [
       "<div>\n",
       "<style scoped>\n",
       "    .dataframe tbody tr th:only-of-type {\n",
       "        vertical-align: middle;\n",
       "    }\n",
       "\n",
       "    .dataframe tbody tr th {\n",
       "        vertical-align: top;\n",
       "    }\n",
       "\n",
       "    .dataframe thead th {\n",
       "        text-align: right;\n",
       "    }\n",
       "</style>\n",
       "<table border=\"1\" class=\"dataframe\">\n",
       "  <thead>\n",
       "    <tr style=\"text-align: right;\">\n",
       "      <th></th>\n",
       "      <th>Price</th>\n",
       "      <th>Car</th>\n",
       "    </tr>\n",
       "  </thead>\n",
       "  <tbody>\n",
       "    <tr>\n",
       "      <th>Price</th>\n",
       "      <td>1.000000</td>\n",
       "      <td>0.237542</td>\n",
       "    </tr>\n",
       "    <tr>\n",
       "      <th>Car</th>\n",
       "      <td>0.237542</td>\n",
       "      <td>1.000000</td>\n",
       "    </tr>\n",
       "  </tbody>\n",
       "</table>\n",
       "</div>"
      ],
      "text/plain": [
       "          Price       Car\n",
       "Price  1.000000  0.237542\n",
       "Car    0.237542  1.000000"
      ]
     },
     "execution_count": 24,
     "metadata": {},
     "output_type": "execute_result"
    }
   ],
   "source": [
    "df[[\"Price\", \"Car\"]].corr()"
   ]
  },
  {
   "cell_type": "code",
   "execution_count": 25,
   "id": "22d7c967",
   "metadata": {
    "execution": {
     "iopub.execute_input": "2023-01-06T15:49:50.508291Z",
     "iopub.status.busy": "2023-01-06T15:49:50.507799Z",
     "iopub.status.idle": "2023-01-06T15:49:50.522378Z",
     "shell.execute_reply": "2023-01-06T15:49:50.520936Z"
    },
    "papermill": {
     "duration": 0.036026,
     "end_time": "2023-01-06T15:49:50.525052",
     "exception": false,
     "start_time": "2023-01-06T15:49:50.489026",
     "status": "completed"
    },
    "tags": []
   },
   "outputs": [
    {
     "data": {
      "text/html": [
       "<div>\n",
       "<style scoped>\n",
       "    .dataframe tbody tr th:only-of-type {\n",
       "        vertical-align: middle;\n",
       "    }\n",
       "\n",
       "    .dataframe tbody tr th {\n",
       "        vertical-align: top;\n",
       "    }\n",
       "\n",
       "    .dataframe thead th {\n",
       "        text-align: right;\n",
       "    }\n",
       "</style>\n",
       "<table border=\"1\" class=\"dataframe\">\n",
       "  <thead>\n",
       "    <tr style=\"text-align: right;\">\n",
       "      <th></th>\n",
       "      <th>Price</th>\n",
       "      <th>Longtitude</th>\n",
       "    </tr>\n",
       "  </thead>\n",
       "  <tbody>\n",
       "    <tr>\n",
       "      <th>Price</th>\n",
       "      <td>1.000000</td>\n",
       "      <td>0.203656</td>\n",
       "    </tr>\n",
       "    <tr>\n",
       "      <th>Longtitude</th>\n",
       "      <td>0.203656</td>\n",
       "      <td>1.000000</td>\n",
       "    </tr>\n",
       "  </tbody>\n",
       "</table>\n",
       "</div>"
      ],
      "text/plain": [
       "               Price  Longtitude\n",
       "Price       1.000000    0.203656\n",
       "Longtitude  0.203656    1.000000"
      ]
     },
     "execution_count": 25,
     "metadata": {},
     "output_type": "execute_result"
    }
   ],
   "source": [
    "df[[\"Price\", \"Longtitude\"]].corr()"
   ]
  },
  {
   "cell_type": "markdown",
   "id": "938d02dd",
   "metadata": {
    "papermill": {
     "duration": 0.015622,
     "end_time": "2023-01-06T15:49:50.556828",
     "exception": false,
     "start_time": "2023-01-06T15:49:50.541206",
     "status": "completed"
    },
    "tags": []
   },
   "source": [
    "<p><a name=\"Corrn\"></a></p>\n",
    "\n",
    "\n",
    "### Correlaciones negativas "
   ]
  },
  {
   "cell_type": "code",
   "execution_count": 26,
   "id": "080778aa",
   "metadata": {
    "execution": {
     "iopub.execute_input": "2023-01-06T15:49:50.590823Z",
     "iopub.status.busy": "2023-01-06T15:49:50.590356Z",
     "iopub.status.idle": "2023-01-06T15:49:50.607364Z",
     "shell.execute_reply": "2023-01-06T15:49:50.605961Z"
    },
    "papermill": {
     "duration": 0.037011,
     "end_time": "2023-01-06T15:49:50.609792",
     "exception": false,
     "start_time": "2023-01-06T15:49:50.572781",
     "status": "completed"
    },
    "tags": []
   },
   "outputs": [
    {
     "data": {
      "text/html": [
       "<div>\n",
       "<style scoped>\n",
       "    .dataframe tbody tr th:only-of-type {\n",
       "        vertical-align: middle;\n",
       "    }\n",
       "\n",
       "    .dataframe tbody tr th {\n",
       "        vertical-align: top;\n",
       "    }\n",
       "\n",
       "    .dataframe thead th {\n",
       "        text-align: right;\n",
       "    }\n",
       "</style>\n",
       "<table border=\"1\" class=\"dataframe\">\n",
       "  <thead>\n",
       "    <tr style=\"text-align: right;\">\n",
       "      <th></th>\n",
       "      <th>Price</th>\n",
       "      <th>Lattitude</th>\n",
       "    </tr>\n",
       "  </thead>\n",
       "  <tbody>\n",
       "    <tr>\n",
       "      <th>Price</th>\n",
       "      <td>1.000000</td>\n",
       "      <td>-0.212934</td>\n",
       "    </tr>\n",
       "    <tr>\n",
       "      <th>Lattitude</th>\n",
       "      <td>-0.212934</td>\n",
       "      <td>1.000000</td>\n",
       "    </tr>\n",
       "  </tbody>\n",
       "</table>\n",
       "</div>"
      ],
      "text/plain": [
       "              Price  Lattitude\n",
       "Price      1.000000  -0.212934\n",
       "Lattitude -0.212934   1.000000"
      ]
     },
     "execution_count": 26,
     "metadata": {},
     "output_type": "execute_result"
    }
   ],
   "source": [
    "df[[\"Price\", \"Lattitude\"]].corr()"
   ]
  },
  {
   "cell_type": "code",
   "execution_count": 27,
   "id": "dcebf45b",
   "metadata": {
    "execution": {
     "iopub.execute_input": "2023-01-06T15:49:50.644619Z",
     "iopub.status.busy": "2023-01-06T15:49:50.644197Z",
     "iopub.status.idle": "2023-01-06T15:49:50.659984Z",
     "shell.execute_reply": "2023-01-06T15:49:50.658736Z"
    },
    "papermill": {
     "duration": 0.035814,
     "end_time": "2023-01-06T15:49:50.662519",
     "exception": false,
     "start_time": "2023-01-06T15:49:50.626705",
     "status": "completed"
    },
    "tags": []
   },
   "outputs": [
    {
     "data": {
      "text/html": [
       "<div>\n",
       "<style scoped>\n",
       "    .dataframe tbody tr th:only-of-type {\n",
       "        vertical-align: middle;\n",
       "    }\n",
       "\n",
       "    .dataframe tbody tr th {\n",
       "        vertical-align: top;\n",
       "    }\n",
       "\n",
       "    .dataframe thead th {\n",
       "        text-align: right;\n",
       "    }\n",
       "</style>\n",
       "<table border=\"1\" class=\"dataframe\">\n",
       "  <thead>\n",
       "    <tr style=\"text-align: right;\">\n",
       "      <th></th>\n",
       "      <th>Price</th>\n",
       "      <th>Distance</th>\n",
       "    </tr>\n",
       "  </thead>\n",
       "  <tbody>\n",
       "    <tr>\n",
       "      <th>Price</th>\n",
       "      <td>1.000000</td>\n",
       "      <td>-0.162522</td>\n",
       "    </tr>\n",
       "    <tr>\n",
       "      <th>Distance</th>\n",
       "      <td>-0.162522</td>\n",
       "      <td>1.000000</td>\n",
       "    </tr>\n",
       "  </tbody>\n",
       "</table>\n",
       "</div>"
      ],
      "text/plain": [
       "             Price  Distance\n",
       "Price     1.000000 -0.162522\n",
       "Distance -0.162522  1.000000"
      ]
     },
     "execution_count": 27,
     "metadata": {},
     "output_type": "execute_result"
    }
   ],
   "source": [
    "df[[\"Price\", \"Distance\"]].corr()"
   ]
  },
  {
   "cell_type": "code",
   "execution_count": 28,
   "id": "2fd9f9e0",
   "metadata": {
    "execution": {
     "iopub.execute_input": "2023-01-06T15:49:50.697458Z",
     "iopub.status.busy": "2023-01-06T15:49:50.696969Z",
     "iopub.status.idle": "2023-01-06T15:49:50.719743Z",
     "shell.execute_reply": "2023-01-06T15:49:50.717720Z"
    },
    "papermill": {
     "duration": 0.043485,
     "end_time": "2023-01-06T15:49:50.722426",
     "exception": false,
     "start_time": "2023-01-06T15:49:50.678941",
     "status": "completed"
    },
    "tags": []
   },
   "outputs": [
    {
     "name": "stdout",
     "output_type": "stream",
     "text": [
      "<class 'pandas.core.frame.DataFrame'>\n",
      "RangeIndex: 13580 entries, 0 to 13579\n",
      "Data columns (total 20 columns):\n",
      " #   Column          Non-Null Count  Dtype  \n",
      "---  ------          --------------  -----  \n",
      " 0   Suburb          13580 non-null  object \n",
      " 1   Address         13580 non-null  object \n",
      " 2   Rooms           13580 non-null  int64  \n",
      " 3   Type            13580 non-null  object \n",
      " 4   Price           13580 non-null  int64  \n",
      " 5   Method          13580 non-null  object \n",
      " 6   Seller_G        13580 non-null  object \n",
      " 7   Date            13580 non-null  object \n",
      " 8   Distance        13580 non-null  float64\n",
      " 9   Post_code       13580 non-null  float64\n",
      " 10  Bed_room2       13580 non-null  int64  \n",
      " 11  Bath_room       13580 non-null  int64  \n",
      " 12  Car             13580 non-null  int64  \n",
      " 13  Land_size       13580 non-null  int64  \n",
      " 14  Building_Area   13580 non-null  int64  \n",
      " 15  Year_Built      13580 non-null  int64  \n",
      " 16  Lattitude       13580 non-null  float64\n",
      " 17  Longtitude      13580 non-null  float64\n",
      " 18  Region_name     13580 non-null  object \n",
      " 19  Property_count  13580 non-null  float64\n",
      "dtypes: float64(5), int64(8), object(7)\n",
      "memory usage: 2.1+ MB\n"
     ]
    }
   ],
   "source": [
    "df.info()"
   ]
  },
  {
   "cell_type": "markdown",
   "id": "15d0dbf9",
   "metadata": {
    "papermill": {
     "duration": 0.017133,
     "end_time": "2023-01-06T15:49:50.756755",
     "exception": false,
     "start_time": "2023-01-06T15:49:50.739622",
     "status": "completed"
    },
    "tags": []
   },
   "source": [
    "<p><a name=\"Selec\"></a></p>\n",
    "\n",
    "\n",
    "# Modelo ML "
   ]
  },
  {
   "cell_type": "code",
   "execution_count": 29,
   "id": "61d79194",
   "metadata": {
    "execution": {
     "iopub.execute_input": "2023-01-06T15:49:50.794049Z",
     "iopub.status.busy": "2023-01-06T15:49:50.793268Z",
     "iopub.status.idle": "2023-01-06T15:49:51.244137Z",
     "shell.execute_reply": "2023-01-06T15:49:51.242937Z"
    },
    "papermill": {
     "duration": 0.47326,
     "end_time": "2023-01-06T15:49:51.247278",
     "exception": false,
     "start_time": "2023-01-06T15:49:50.774018",
     "status": "completed"
    },
    "tags": []
   },
   "outputs": [],
   "source": [
    "\n",
    "from sklearn.tree import DecisionTreeRegressor\n",
    "\n",
    "# Metricas \n",
    "from sklearn.model_selection import train_test_split"
   ]
  },
  {
   "cell_type": "code",
   "execution_count": 30,
   "id": "f897b71f",
   "metadata": {
    "execution": {
     "iopub.execute_input": "2023-01-06T15:49:51.286802Z",
     "iopub.status.busy": "2023-01-06T15:49:51.285674Z",
     "iopub.status.idle": "2023-01-06T15:49:51.293997Z",
     "shell.execute_reply": "2023-01-06T15:49:51.293095Z"
    },
    "papermill": {
     "duration": 0.031995,
     "end_time": "2023-01-06T15:49:51.296866",
     "exception": false,
     "start_time": "2023-01-06T15:49:51.264871",
     "status": "completed"
    },
    "tags": []
   },
   "outputs": [],
   "source": [
    "# Almacenar Variables seleccionadoas para el algoritmo \n",
    "Car_select =[\"Rooms\",\"Bed_room2\",\"Bath_room\",\"Car\",\"Longtitude\",\"Lattitude\", \"Distance\"]\n",
    "#Almacenar la variable objetivo \n",
    "obj_select = df.Price\n",
    "\n",
    "# Almacenar datos en variables pequeñas para manipular datos en el modelo \n",
    "X = df[Car_select]\n",
    "y = obj_select"
   ]
  },
  {
   "cell_type": "code",
   "execution_count": 31,
   "id": "60d0ac9c",
   "metadata": {
    "execution": {
     "iopub.execute_input": "2023-01-06T15:49:51.333910Z",
     "iopub.status.busy": "2023-01-06T15:49:51.333161Z",
     "iopub.status.idle": "2023-01-06T15:49:51.342813Z",
     "shell.execute_reply": "2023-01-06T15:49:51.341883Z"
    },
    "papermill": {
     "duration": 0.031508,
     "end_time": "2023-01-06T15:49:51.345701",
     "exception": false,
     "start_time": "2023-01-06T15:49:51.314193",
     "status": "completed"
    },
    "tags": []
   },
   "outputs": [],
   "source": [
    "X_train, X_test, y_test, y_train = train_test_split(X, y, test_size = 0.20, random_state =42)"
   ]
  },
  {
   "cell_type": "markdown",
   "id": "4f5e45c3",
   "metadata": {
    "papermill": {
     "duration": 0.017598,
     "end_time": "2023-01-06T15:49:51.380502",
     "exception": false,
     "start_time": "2023-01-06T15:49:51.362904",
     "status": "completed"
    },
    "tags": []
   },
   "source": [
    "<p><a name=\"Mod\"></a></p>\n",
    "\n",
    "\n",
    "# Decisiontree_model "
   ]
  },
  {
   "cell_type": "code",
   "execution_count": 32,
   "id": "9f41e050",
   "metadata": {
    "execution": {
     "iopub.execute_input": "2023-01-06T15:49:51.416823Z",
     "iopub.status.busy": "2023-01-06T15:49:51.416355Z",
     "iopub.status.idle": "2023-01-06T15:49:51.499933Z",
     "shell.execute_reply": "2023-01-06T15:49:51.498555Z"
    },
    "papermill": {
     "duration": 0.105322,
     "end_time": "2023-01-06T15:49:51.502867",
     "exception": false,
     "start_time": "2023-01-06T15:49:51.397545",
     "status": "completed"
    },
    "tags": []
   },
   "outputs": [
    {
     "data": {
      "text/plain": [
       "DecisionTreeRegressor()"
      ]
     },
     "execution_count": 32,
     "metadata": {},
     "output_type": "execute_result"
    }
   ],
   "source": [
    "DT_model = DecisionTreeRegressor()\n",
    "DT_model.fit(X, y)"
   ]
  },
  {
   "cell_type": "code",
   "execution_count": 33,
   "id": "5a002a42",
   "metadata": {
    "execution": {
     "iopub.execute_input": "2023-01-06T15:49:51.539333Z",
     "iopub.status.busy": "2023-01-06T15:49:51.538920Z",
     "iopub.status.idle": "2023-01-06T15:49:51.549275Z",
     "shell.execute_reply": "2023-01-06T15:49:51.547644Z"
    },
    "papermill": {
     "duration": 0.031839,
     "end_time": "2023-01-06T15:49:51.552018",
     "exception": false,
     "start_time": "2023-01-06T15:49:51.520179",
     "status": "completed"
    },
    "tags": []
   },
   "outputs": [
    {
     "name": "stdout",
     "output_type": "stream",
     "text": [
      "[1480000. 1035000. 1465000.  850000. 1600000.]\n",
      "0    1480000\n",
      "1    1035000\n",
      "2    1465000\n",
      "3     850000\n",
      "4    1600000\n",
      "Name: Price, dtype: int64\n"
     ]
    }
   ],
   "source": [
    "print(DT_model.predict(X.head()))\n",
    "print(df.Price.head())"
   ]
  },
  {
   "cell_type": "code",
   "execution_count": 34,
   "id": "ed148f2f",
   "metadata": {
    "execution": {
     "iopub.execute_input": "2023-01-06T15:49:51.589475Z",
     "iopub.status.busy": "2023-01-06T15:49:51.588282Z",
     "iopub.status.idle": "2023-01-06T15:49:51.604183Z",
     "shell.execute_reply": "2023-01-06T15:49:51.602788Z"
    },
    "papermill": {
     "duration": 0.037304,
     "end_time": "2023-01-06T15:49:51.606876",
     "exception": false,
     "start_time": "2023-01-06T15:49:51.569572",
     "status": "completed"
    },
    "tags": []
   },
   "outputs": [
    {
     "data": {
      "text/plain": [
       "0.9997476701343866"
      ]
     },
     "execution_count": 34,
     "metadata": {},
     "output_type": "execute_result"
    }
   ],
   "source": [
    "DT_model.score(X,y)"
   ]
  }
 ],
 "metadata": {
  "kernelspec": {
   "display_name": "Python 3",
   "language": "python",
   "name": "python3"
  },
  "language_info": {
   "codemirror_mode": {
    "name": "ipython",
    "version": 3
   },
   "file_extension": ".py",
   "mimetype": "text/x-python",
   "name": "python",
   "nbconvert_exporter": "python",
   "pygments_lexer": "ipython3",
   "version": "3.7.12"
  },
  "papermill": {
   "default_parameters": {},
   "duration": 16.493653,
   "end_time": "2023-01-06T15:49:52.449444",
   "environment_variables": {},
   "exception": null,
   "input_path": "__notebook__.ipynb",
   "output_path": "__notebook__.ipynb",
   "parameters": {},
   "start_time": "2023-01-06T15:49:35.955791",
   "version": "2.3.4"
  }
 },
 "nbformat": 4,
 "nbformat_minor": 5
}
