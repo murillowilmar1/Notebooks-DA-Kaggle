{
 "cells": [
  {
   "cell_type": "markdown",
   "id": "313dd153",
   "metadata": {
    "papermill": {
     "duration": 0.00798,
     "end_time": "2022-12-30T12:56:15.897678",
     "exception": false,
     "start_time": "2022-12-30T12:56:15.889698",
     "status": "completed"
    },
    "tags": []
   },
   "source": [
    "# Importación de librerias "
   ]
  },
  {
   "cell_type": "code",
   "execution_count": 1,
   "id": "71e0b6ba",
   "metadata": {
    "execution": {
     "iopub.execute_input": "2022-12-30T12:56:15.913799Z",
     "iopub.status.busy": "2022-12-30T12:56:15.913000Z",
     "iopub.status.idle": "2022-12-30T12:56:17.026048Z",
     "shell.execute_reply": "2022-12-30T12:56:17.024895Z"
    },
    "papermill": {
     "duration": 1.124372,
     "end_time": "2022-12-30T12:56:17.028936",
     "exception": false,
     "start_time": "2022-12-30T12:56:15.904564",
     "status": "completed"
    },
    "tags": []
   },
   "outputs": [],
   "source": [
    "import numpy as np \n",
    "import pandas as pd \n",
    "import seaborn as sns \n",
    "import matplotlib.pyplot as plt"
   ]
  },
  {
   "cell_type": "markdown",
   "id": "d7f51c81",
   "metadata": {
    "papermill": {
     "duration": 0.006531,
     "end_time": "2022-12-30T12:56:17.042354",
     "exception": false,
     "start_time": "2022-12-30T12:56:17.035823",
     "status": "completed"
    },
    "tags": []
   },
   "source": [
    "# Importación base de datos Iris"
   ]
  },
  {
   "cell_type": "code",
   "execution_count": 2,
   "id": "cd4b4471",
   "metadata": {
    "execution": {
     "iopub.execute_input": "2022-12-30T12:56:17.057653Z",
     "iopub.status.busy": "2022-12-30T12:56:17.057242Z",
     "iopub.status.idle": "2022-12-30T12:56:17.077000Z",
     "shell.execute_reply": "2022-12-30T12:56:17.076150Z"
    },
    "papermill": {
     "duration": 0.03046,
     "end_time": "2022-12-30T12:56:17.079505",
     "exception": false,
     "start_time": "2022-12-30T12:56:17.049045",
     "status": "completed"
    },
    "tags": []
   },
   "outputs": [],
   "source": [
    "url = \"/kaggle/input/iris/Iris.csv\"\n",
    "df = pd.read_csv(url)"
   ]
  },
  {
   "cell_type": "markdown",
   "id": "5302bc93",
   "metadata": {
    "papermill": {
     "duration": 0.006521,
     "end_time": "2022-12-30T12:56:17.092930",
     "exception": false,
     "start_time": "2022-12-30T12:56:17.086409",
     "status": "completed"
    },
    "tags": []
   },
   "source": [
    "#### Visualización de datos y estadisiticas "
   ]
  },
  {
   "cell_type": "code",
   "execution_count": 3,
   "id": "2fed124f",
   "metadata": {
    "execution": {
     "iopub.execute_input": "2022-12-30T12:56:17.110654Z",
     "iopub.status.busy": "2022-12-30T12:56:17.109770Z",
     "iopub.status.idle": "2022-12-30T12:56:17.138942Z",
     "shell.execute_reply": "2022-12-30T12:56:17.137914Z"
    },
    "papermill": {
     "duration": 0.042356,
     "end_time": "2022-12-30T12:56:17.142019",
     "exception": false,
     "start_time": "2022-12-30T12:56:17.099663",
     "status": "completed"
    },
    "tags": []
   },
   "outputs": [
    {
     "data": {
      "text/html": [
       "<div>\n",
       "<style scoped>\n",
       "    .dataframe tbody tr th:only-of-type {\n",
       "        vertical-align: middle;\n",
       "    }\n",
       "\n",
       "    .dataframe tbody tr th {\n",
       "        vertical-align: top;\n",
       "    }\n",
       "\n",
       "    .dataframe thead th {\n",
       "        text-align: right;\n",
       "    }\n",
       "</style>\n",
       "<table border=\"1\" class=\"dataframe\">\n",
       "  <thead>\n",
       "    <tr style=\"text-align: right;\">\n",
       "      <th></th>\n",
       "      <th>Id</th>\n",
       "      <th>SepalLengthCm</th>\n",
       "      <th>SepalWidthCm</th>\n",
       "      <th>PetalLengthCm</th>\n",
       "      <th>PetalWidthCm</th>\n",
       "      <th>Species</th>\n",
       "    </tr>\n",
       "  </thead>\n",
       "  <tbody>\n",
       "    <tr>\n",
       "      <th>0</th>\n",
       "      <td>1</td>\n",
       "      <td>5.1</td>\n",
       "      <td>3.5</td>\n",
       "      <td>1.4</td>\n",
       "      <td>0.2</td>\n",
       "      <td>Iris-setosa</td>\n",
       "    </tr>\n",
       "    <tr>\n",
       "      <th>1</th>\n",
       "      <td>2</td>\n",
       "      <td>4.9</td>\n",
       "      <td>3.0</td>\n",
       "      <td>1.4</td>\n",
       "      <td>0.2</td>\n",
       "      <td>Iris-setosa</td>\n",
       "    </tr>\n",
       "    <tr>\n",
       "      <th>2</th>\n",
       "      <td>3</td>\n",
       "      <td>4.7</td>\n",
       "      <td>3.2</td>\n",
       "      <td>1.3</td>\n",
       "      <td>0.2</td>\n",
       "      <td>Iris-setosa</td>\n",
       "    </tr>\n",
       "    <tr>\n",
       "      <th>3</th>\n",
       "      <td>4</td>\n",
       "      <td>4.6</td>\n",
       "      <td>3.1</td>\n",
       "      <td>1.5</td>\n",
       "      <td>0.2</td>\n",
       "      <td>Iris-setosa</td>\n",
       "    </tr>\n",
       "    <tr>\n",
       "      <th>4</th>\n",
       "      <td>5</td>\n",
       "      <td>5.0</td>\n",
       "      <td>3.6</td>\n",
       "      <td>1.4</td>\n",
       "      <td>0.2</td>\n",
       "      <td>Iris-setosa</td>\n",
       "    </tr>\n",
       "    <tr>\n",
       "      <th>...</th>\n",
       "      <td>...</td>\n",
       "      <td>...</td>\n",
       "      <td>...</td>\n",
       "      <td>...</td>\n",
       "      <td>...</td>\n",
       "      <td>...</td>\n",
       "    </tr>\n",
       "    <tr>\n",
       "      <th>145</th>\n",
       "      <td>146</td>\n",
       "      <td>6.7</td>\n",
       "      <td>3.0</td>\n",
       "      <td>5.2</td>\n",
       "      <td>2.3</td>\n",
       "      <td>Iris-virginica</td>\n",
       "    </tr>\n",
       "    <tr>\n",
       "      <th>146</th>\n",
       "      <td>147</td>\n",
       "      <td>6.3</td>\n",
       "      <td>2.5</td>\n",
       "      <td>5.0</td>\n",
       "      <td>1.9</td>\n",
       "      <td>Iris-virginica</td>\n",
       "    </tr>\n",
       "    <tr>\n",
       "      <th>147</th>\n",
       "      <td>148</td>\n",
       "      <td>6.5</td>\n",
       "      <td>3.0</td>\n",
       "      <td>5.2</td>\n",
       "      <td>2.0</td>\n",
       "      <td>Iris-virginica</td>\n",
       "    </tr>\n",
       "    <tr>\n",
       "      <th>148</th>\n",
       "      <td>149</td>\n",
       "      <td>6.2</td>\n",
       "      <td>3.4</td>\n",
       "      <td>5.4</td>\n",
       "      <td>2.3</td>\n",
       "      <td>Iris-virginica</td>\n",
       "    </tr>\n",
       "    <tr>\n",
       "      <th>149</th>\n",
       "      <td>150</td>\n",
       "      <td>5.9</td>\n",
       "      <td>3.0</td>\n",
       "      <td>5.1</td>\n",
       "      <td>1.8</td>\n",
       "      <td>Iris-virginica</td>\n",
       "    </tr>\n",
       "  </tbody>\n",
       "</table>\n",
       "<p>150 rows × 6 columns</p>\n",
       "</div>"
      ],
      "text/plain": [
       "      Id  SepalLengthCm  SepalWidthCm  PetalLengthCm  PetalWidthCm  \\\n",
       "0      1            5.1           3.5            1.4           0.2   \n",
       "1      2            4.9           3.0            1.4           0.2   \n",
       "2      3            4.7           3.2            1.3           0.2   \n",
       "3      4            4.6           3.1            1.5           0.2   \n",
       "4      5            5.0           3.6            1.4           0.2   \n",
       "..   ...            ...           ...            ...           ...   \n",
       "145  146            6.7           3.0            5.2           2.3   \n",
       "146  147            6.3           2.5            5.0           1.9   \n",
       "147  148            6.5           3.0            5.2           2.0   \n",
       "148  149            6.2           3.4            5.4           2.3   \n",
       "149  150            5.9           3.0            5.1           1.8   \n",
       "\n",
       "            Species  \n",
       "0       Iris-setosa  \n",
       "1       Iris-setosa  \n",
       "2       Iris-setosa  \n",
       "3       Iris-setosa  \n",
       "4       Iris-setosa  \n",
       "..              ...  \n",
       "145  Iris-virginica  \n",
       "146  Iris-virginica  \n",
       "147  Iris-virginica  \n",
       "148  Iris-virginica  \n",
       "149  Iris-virginica  \n",
       "\n",
       "[150 rows x 6 columns]"
      ]
     },
     "execution_count": 3,
     "metadata": {},
     "output_type": "execute_result"
    }
   ],
   "source": [
    "df "
   ]
  },
  {
   "cell_type": "code",
   "execution_count": 4,
   "id": "8ef41959",
   "metadata": {
    "execution": {
     "iopub.execute_input": "2022-12-30T12:56:17.159131Z",
     "iopub.status.busy": "2022-12-30T12:56:17.157769Z",
     "iopub.status.idle": "2022-12-30T12:56:17.184206Z",
     "shell.execute_reply": "2022-12-30T12:56:17.182948Z"
    },
    "papermill": {
     "duration": 0.037539,
     "end_time": "2022-12-30T12:56:17.186812",
     "exception": false,
     "start_time": "2022-12-30T12:56:17.149273",
     "status": "completed"
    },
    "tags": []
   },
   "outputs": [
    {
     "name": "stdout",
     "output_type": "stream",
     "text": [
      "<class 'pandas.core.frame.DataFrame'>\n",
      "RangeIndex: 150 entries, 0 to 149\n",
      "Data columns (total 6 columns):\n",
      " #   Column         Non-Null Count  Dtype  \n",
      "---  ------         --------------  -----  \n",
      " 0   Id             150 non-null    int64  \n",
      " 1   SepalLengthCm  150 non-null    float64\n",
      " 2   SepalWidthCm   150 non-null    float64\n",
      " 3   PetalLengthCm  150 non-null    float64\n",
      " 4   PetalWidthCm   150 non-null    float64\n",
      " 5   Species        150 non-null    object \n",
      "dtypes: float64(4), int64(1), object(1)\n",
      "memory usage: 7.2+ KB\n"
     ]
    }
   ],
   "source": [
    "df.info()"
   ]
  },
  {
   "cell_type": "code",
   "execution_count": 5,
   "id": "279845aa",
   "metadata": {
    "execution": {
     "iopub.execute_input": "2022-12-30T12:56:17.204289Z",
     "iopub.status.busy": "2022-12-30T12:56:17.203601Z",
     "iopub.status.idle": "2022-12-30T12:56:17.212770Z",
     "shell.execute_reply": "2022-12-30T12:56:17.211665Z"
    },
    "papermill": {
     "duration": 0.020719,
     "end_time": "2022-12-30T12:56:17.214993",
     "exception": false,
     "start_time": "2022-12-30T12:56:17.194274",
     "status": "completed"
    },
    "tags": []
   },
   "outputs": [
    {
     "data": {
      "text/plain": [
       "Id               0\n",
       "SepalLengthCm    0\n",
       "SepalWidthCm     0\n",
       "PetalLengthCm    0\n",
       "PetalWidthCm     0\n",
       "Species          0\n",
       "dtype: int64"
      ]
     },
     "execution_count": 5,
     "metadata": {},
     "output_type": "execute_result"
    }
   ],
   "source": [
    "df.isnull().sum()"
   ]
  },
  {
   "cell_type": "markdown",
   "id": "3b245637",
   "metadata": {
    "papermill": {
     "duration": 0.006962,
     "end_time": "2022-12-30T12:56:17.229221",
     "exception": false,
     "start_time": "2022-12-30T12:56:17.222259",
     "status": "completed"
    },
    "tags": []
   },
   "source": [
    "### Normalización de datos "
   ]
  },
  {
   "cell_type": "code",
   "execution_count": 6,
   "id": "6e4c95d8",
   "metadata": {
    "execution": {
     "iopub.execute_input": "2022-12-30T12:56:17.246188Z",
     "iopub.status.busy": "2022-12-30T12:56:17.245512Z",
     "iopub.status.idle": "2022-12-30T12:56:17.264547Z",
     "shell.execute_reply": "2022-12-30T12:56:17.263621Z"
    },
    "papermill": {
     "duration": 0.030014,
     "end_time": "2022-12-30T12:56:17.266700",
     "exception": false,
     "start_time": "2022-12-30T12:56:17.236686",
     "status": "completed"
    },
    "tags": []
   },
   "outputs": [
    {
     "data": {
      "text/html": [
       "<div>\n",
       "<style scoped>\n",
       "    .dataframe tbody tr th:only-of-type {\n",
       "        vertical-align: middle;\n",
       "    }\n",
       "\n",
       "    .dataframe tbody tr th {\n",
       "        vertical-align: top;\n",
       "    }\n",
       "\n",
       "    .dataframe thead th {\n",
       "        text-align: right;\n",
       "    }\n",
       "</style>\n",
       "<table border=\"1\" class=\"dataframe\">\n",
       "  <thead>\n",
       "    <tr style=\"text-align: right;\">\n",
       "      <th></th>\n",
       "      <th>Id</th>\n",
       "      <th>Sepal_length_cm</th>\n",
       "      <th>Sepal_width_cm</th>\n",
       "      <th>Petal_length_cm</th>\n",
       "      <th>Petal_width_cm</th>\n",
       "      <th>Species</th>\n",
       "    </tr>\n",
       "  </thead>\n",
       "  <tbody>\n",
       "    <tr>\n",
       "      <th>0</th>\n",
       "      <td>1</td>\n",
       "      <td>5.1</td>\n",
       "      <td>3.5</td>\n",
       "      <td>1.4</td>\n",
       "      <td>0.2</td>\n",
       "      <td>Iris-setosa</td>\n",
       "    </tr>\n",
       "    <tr>\n",
       "      <th>1</th>\n",
       "      <td>2</td>\n",
       "      <td>4.9</td>\n",
       "      <td>3.0</td>\n",
       "      <td>1.4</td>\n",
       "      <td>0.2</td>\n",
       "      <td>Iris-setosa</td>\n",
       "    </tr>\n",
       "    <tr>\n",
       "      <th>2</th>\n",
       "      <td>3</td>\n",
       "      <td>4.7</td>\n",
       "      <td>3.2</td>\n",
       "      <td>1.3</td>\n",
       "      <td>0.2</td>\n",
       "      <td>Iris-setosa</td>\n",
       "    </tr>\n",
       "    <tr>\n",
       "      <th>3</th>\n",
       "      <td>4</td>\n",
       "      <td>4.6</td>\n",
       "      <td>3.1</td>\n",
       "      <td>1.5</td>\n",
       "      <td>0.2</td>\n",
       "      <td>Iris-setosa</td>\n",
       "    </tr>\n",
       "    <tr>\n",
       "      <th>4</th>\n",
       "      <td>5</td>\n",
       "      <td>5.0</td>\n",
       "      <td>3.6</td>\n",
       "      <td>1.4</td>\n",
       "      <td>0.2</td>\n",
       "      <td>Iris-setosa</td>\n",
       "    </tr>\n",
       "    <tr>\n",
       "      <th>...</th>\n",
       "      <td>...</td>\n",
       "      <td>...</td>\n",
       "      <td>...</td>\n",
       "      <td>...</td>\n",
       "      <td>...</td>\n",
       "      <td>...</td>\n",
       "    </tr>\n",
       "    <tr>\n",
       "      <th>145</th>\n",
       "      <td>146</td>\n",
       "      <td>6.7</td>\n",
       "      <td>3.0</td>\n",
       "      <td>5.2</td>\n",
       "      <td>2.3</td>\n",
       "      <td>Iris-virginica</td>\n",
       "    </tr>\n",
       "    <tr>\n",
       "      <th>146</th>\n",
       "      <td>147</td>\n",
       "      <td>6.3</td>\n",
       "      <td>2.5</td>\n",
       "      <td>5.0</td>\n",
       "      <td>1.9</td>\n",
       "      <td>Iris-virginica</td>\n",
       "    </tr>\n",
       "    <tr>\n",
       "      <th>147</th>\n",
       "      <td>148</td>\n",
       "      <td>6.5</td>\n",
       "      <td>3.0</td>\n",
       "      <td>5.2</td>\n",
       "      <td>2.0</td>\n",
       "      <td>Iris-virginica</td>\n",
       "    </tr>\n",
       "    <tr>\n",
       "      <th>148</th>\n",
       "      <td>149</td>\n",
       "      <td>6.2</td>\n",
       "      <td>3.4</td>\n",
       "      <td>5.4</td>\n",
       "      <td>2.3</td>\n",
       "      <td>Iris-virginica</td>\n",
       "    </tr>\n",
       "    <tr>\n",
       "      <th>149</th>\n",
       "      <td>150</td>\n",
       "      <td>5.9</td>\n",
       "      <td>3.0</td>\n",
       "      <td>5.1</td>\n",
       "      <td>1.8</td>\n",
       "      <td>Iris-virginica</td>\n",
       "    </tr>\n",
       "  </tbody>\n",
       "</table>\n",
       "<p>150 rows × 6 columns</p>\n",
       "</div>"
      ],
      "text/plain": [
       "      Id  Sepal_length_cm  Sepal_width_cm  Petal_length_cm  Petal_width_cm  \\\n",
       "0      1              5.1             3.5              1.4             0.2   \n",
       "1      2              4.9             3.0              1.4             0.2   \n",
       "2      3              4.7             3.2              1.3             0.2   \n",
       "3      4              4.6             3.1              1.5             0.2   \n",
       "4      5              5.0             3.6              1.4             0.2   \n",
       "..   ...              ...             ...              ...             ...   \n",
       "145  146              6.7             3.0              5.2             2.3   \n",
       "146  147              6.3             2.5              5.0             1.9   \n",
       "147  148              6.5             3.0              5.2             2.0   \n",
       "148  149              6.2             3.4              5.4             2.3   \n",
       "149  150              5.9             3.0              5.1             1.8   \n",
       "\n",
       "            Species  \n",
       "0       Iris-setosa  \n",
       "1       Iris-setosa  \n",
       "2       Iris-setosa  \n",
       "3       Iris-setosa  \n",
       "4       Iris-setosa  \n",
       "..              ...  \n",
       "145  Iris-virginica  \n",
       "146  Iris-virginica  \n",
       "147  Iris-virginica  \n",
       "148  Iris-virginica  \n",
       "149  Iris-virginica  \n",
       "\n",
       "[150 rows x 6 columns]"
      ]
     },
     "execution_count": 6,
     "metadata": {},
     "output_type": "execute_result"
    }
   ],
   "source": [
    "df = df.rename(columns={\"SepalLengthCm\":\"Sepal_length_cm\", \"SepalWidthCm\":\"Sepal_width_cm\",\"PetalLengthCm\":\"Petal_length_cm\",\"PetalWidthCm\":\"Petal_width_cm\"  })\n",
    "df"
   ]
  },
  {
   "cell_type": "code",
   "execution_count": 7,
   "id": "7c3d0ae8",
   "metadata": {
    "execution": {
     "iopub.execute_input": "2022-12-30T12:56:17.284884Z",
     "iopub.status.busy": "2022-12-30T12:56:17.283891Z",
     "iopub.status.idle": "2022-12-30T12:56:17.290355Z",
     "shell.execute_reply": "2022-12-30T12:56:17.289075Z"
    },
    "papermill": {
     "duration": 0.018576,
     "end_time": "2022-12-30T12:56:17.293223",
     "exception": false,
     "start_time": "2022-12-30T12:56:17.274647",
     "status": "completed"
    },
    "tags": []
   },
   "outputs": [
    {
     "name": "stdout",
     "output_type": "stream",
     "text": [
      "Species: ['Iris-setosa' 'Iris-versicolor' 'Iris-virginica'] \n",
      "\n"
     ]
    }
   ],
   "source": [
    "print('Species:',  df['Species'].unique(),  '\\n')"
   ]
  },
  {
   "cell_type": "code",
   "execution_count": 8,
   "id": "6bfb0b3f",
   "metadata": {
    "execution": {
     "iopub.execute_input": "2022-12-30T12:56:17.311078Z",
     "iopub.status.busy": "2022-12-30T12:56:17.310665Z",
     "iopub.status.idle": "2022-12-30T12:56:17.315149Z",
     "shell.execute_reply": "2022-12-30T12:56:17.314034Z"
    },
    "papermill": {
     "duration": 0.015716,
     "end_time": "2022-12-30T12:56:17.317271",
     "exception": false,
     "start_time": "2022-12-30T12:56:17.301555",
     "status": "completed"
    },
    "tags": []
   },
   "outputs": [],
   "source": [
    "#df[\"Species\"].replace(['Iris-setosa','Iris-versicolor','Iris-virginica'], [0,1,2 ], inplace=True)"
   ]
  },
  {
   "cell_type": "markdown",
   "id": "f0229953",
   "metadata": {
    "papermill": {
     "duration": 0.007319,
     "end_time": "2022-12-30T12:56:17.332215",
     "exception": false,
     "start_time": "2022-12-30T12:56:17.324896",
     "status": "completed"
    },
    "tags": []
   },
   "source": [
    "# Correlación de variables"
   ]
  },
  {
   "cell_type": "code",
   "execution_count": 9,
   "id": "a89ad2d6",
   "metadata": {
    "execution": {
     "iopub.execute_input": "2022-12-30T12:56:17.349678Z",
     "iopub.status.busy": "2022-12-30T12:56:17.349295Z",
     "iopub.status.idle": "2022-12-30T12:56:17.363216Z",
     "shell.execute_reply": "2022-12-30T12:56:17.362384Z"
    },
    "papermill": {
     "duration": 0.025125,
     "end_time": "2022-12-30T12:56:17.365279",
     "exception": false,
     "start_time": "2022-12-30T12:56:17.340154",
     "status": "completed"
    },
    "tags": []
   },
   "outputs": [
    {
     "data": {
      "text/html": [
       "<div>\n",
       "<style scoped>\n",
       "    .dataframe tbody tr th:only-of-type {\n",
       "        vertical-align: middle;\n",
       "    }\n",
       "\n",
       "    .dataframe tbody tr th {\n",
       "        vertical-align: top;\n",
       "    }\n",
       "\n",
       "    .dataframe thead th {\n",
       "        text-align: right;\n",
       "    }\n",
       "</style>\n",
       "<table border=\"1\" class=\"dataframe\">\n",
       "  <thead>\n",
       "    <tr style=\"text-align: right;\">\n",
       "      <th></th>\n",
       "      <th>Id</th>\n",
       "      <th>Sepal_length_cm</th>\n",
       "      <th>Sepal_width_cm</th>\n",
       "      <th>Petal_length_cm</th>\n",
       "      <th>Petal_width_cm</th>\n",
       "    </tr>\n",
       "  </thead>\n",
       "  <tbody>\n",
       "    <tr>\n",
       "      <th>Id</th>\n",
       "      <td>1.000000</td>\n",
       "      <td>0.716676</td>\n",
       "      <td>-0.397729</td>\n",
       "      <td>0.882747</td>\n",
       "      <td>0.899759</td>\n",
       "    </tr>\n",
       "    <tr>\n",
       "      <th>Sepal_length_cm</th>\n",
       "      <td>0.716676</td>\n",
       "      <td>1.000000</td>\n",
       "      <td>-0.109369</td>\n",
       "      <td>0.871754</td>\n",
       "      <td>0.817954</td>\n",
       "    </tr>\n",
       "    <tr>\n",
       "      <th>Sepal_width_cm</th>\n",
       "      <td>-0.397729</td>\n",
       "      <td>-0.109369</td>\n",
       "      <td>1.000000</td>\n",
       "      <td>-0.420516</td>\n",
       "      <td>-0.356544</td>\n",
       "    </tr>\n",
       "    <tr>\n",
       "      <th>Petal_length_cm</th>\n",
       "      <td>0.882747</td>\n",
       "      <td>0.871754</td>\n",
       "      <td>-0.420516</td>\n",
       "      <td>1.000000</td>\n",
       "      <td>0.962757</td>\n",
       "    </tr>\n",
       "    <tr>\n",
       "      <th>Petal_width_cm</th>\n",
       "      <td>0.899759</td>\n",
       "      <td>0.817954</td>\n",
       "      <td>-0.356544</td>\n",
       "      <td>0.962757</td>\n",
       "      <td>1.000000</td>\n",
       "    </tr>\n",
       "  </tbody>\n",
       "</table>\n",
       "</div>"
      ],
      "text/plain": [
       "                       Id  Sepal_length_cm  Sepal_width_cm  Petal_length_cm  \\\n",
       "Id               1.000000         0.716676       -0.397729         0.882747   \n",
       "Sepal_length_cm  0.716676         1.000000       -0.109369         0.871754   \n",
       "Sepal_width_cm  -0.397729        -0.109369        1.000000        -0.420516   \n",
       "Petal_length_cm  0.882747         0.871754       -0.420516         1.000000   \n",
       "Petal_width_cm   0.899759         0.817954       -0.356544         0.962757   \n",
       "\n",
       "                 Petal_width_cm  \n",
       "Id                     0.899759  \n",
       "Sepal_length_cm        0.817954  \n",
       "Sepal_width_cm        -0.356544  \n",
       "Petal_length_cm        0.962757  \n",
       "Petal_width_cm         1.000000  "
      ]
     },
     "execution_count": 9,
     "metadata": {},
     "output_type": "execute_result"
    }
   ],
   "source": [
    "df.corr()"
   ]
  },
  {
   "cell_type": "markdown",
   "id": "0c0b9afc",
   "metadata": {
    "papermill": {
     "duration": 0.007477,
     "end_time": "2022-12-30T12:56:17.380586",
     "exception": false,
     "start_time": "2022-12-30T12:56:17.373109",
     "status": "completed"
    },
    "tags": []
   },
   "source": [
    "#### Visualización mapad calor de correlación de variables"
   ]
  },
  {
   "cell_type": "code",
   "execution_count": 10,
   "id": "3d341937",
   "metadata": {
    "execution": {
     "iopub.execute_input": "2022-12-30T12:56:17.398534Z",
     "iopub.status.busy": "2022-12-30T12:56:17.398105Z",
     "iopub.status.idle": "2022-12-30T12:56:17.832846Z",
     "shell.execute_reply": "2022-12-30T12:56:17.831869Z"
    },
    "papermill": {
     "duration": 0.446751,
     "end_time": "2022-12-30T12:56:17.835233",
     "exception": false,
     "start_time": "2022-12-30T12:56:17.388482",
     "status": "completed"
    },
    "tags": []
   },
   "outputs": [
    {
     "data": {
      "text/plain": [
       "<AxesSubplot:>"
      ]
     },
     "execution_count": 10,
     "metadata": {},
     "output_type": "execute_result"
    },
    {
     "data": {
      "image/png": "[encoded data removed]",
      "text/plain": [
       "<Figure size 1440x720 with 2 Axes>"
      ]
     },
     "metadata": {
      "needs_background": "light"
     },
     "output_type": "display_data"
    }
   ],
   "source": [
    "df_corr = df.corr()\n",
    "plt.figure(figsize=(20,10))\n",
    "sns.heatmap(df_corr, square=True, annot = True)"
   ]
  },
  {
   "cell_type": "markdown",
   "id": "29436d7e",
   "metadata": {
    "papermill": {
     "duration": 0.008275,
     "end_time": "2022-12-30T12:56:17.852204",
     "exception": false,
     "start_time": "2022-12-30T12:56:17.843929",
     "status": "completed"
    },
    "tags": []
   },
   "source": [
    "# Selección de modelo ML "
   ]
  },
  {
   "cell_type": "code",
   "execution_count": 11,
   "id": "785b8d17",
   "metadata": {
    "execution": {
     "iopub.execute_input": "2022-12-30T12:56:17.871171Z",
     "iopub.status.busy": "2022-12-30T12:56:17.870388Z",
     "iopub.status.idle": "2022-12-30T12:56:18.191364Z",
     "shell.execute_reply": "2022-12-30T12:56:18.190431Z"
    },
    "papermill": {
     "duration": 0.334043,
     "end_time": "2022-12-30T12:56:18.194738",
     "exception": false,
     "start_time": "2022-12-30T12:56:17.860695",
     "status": "completed"
    },
    "tags": []
   },
   "outputs": [],
   "source": [
    "#Algortimos Ml seleccionados \n",
    "from sklearn.neighbors import KNeighborsClassifier\n",
    "from sklearn.linear_model import LogisticRegression\n",
    "\n",
    "#Metricas \n",
    "\n",
    "from sklearn.model_selection import train_test_split"
   ]
  },
  {
   "cell_type": "code",
   "execution_count": 12,
   "id": "4298c615",
   "metadata": {
    "execution": {
     "iopub.execute_input": "2022-12-30T12:56:18.220207Z",
     "iopub.status.busy": "2022-12-30T12:56:18.219763Z",
     "iopub.status.idle": "2022-12-30T12:56:18.228322Z",
     "shell.execute_reply": "2022-12-30T12:56:18.227130Z"
    },
    "papermill": {
     "duration": 0.021204,
     "end_time": "2022-12-30T12:56:18.230848",
     "exception": false,
     "start_time": "2022-12-30T12:56:18.209644",
     "status": "completed"
    },
    "tags": []
   },
   "outputs": [],
   "source": [
    "Caracte = [\"Sepal_length_cm\",\"Sepal_width_cm\",\"Petal_length_cm\",\"Petal_width_cm\" ]\n",
    "obje = df.Species\n",
    "\n",
    "X = df[Caracte]\n",
    "y = obje"
   ]
  },
  {
   "cell_type": "code",
   "execution_count": 13,
   "id": "9aeab28b",
   "metadata": {
    "execution": {
     "iopub.execute_input": "2022-12-30T12:56:18.250532Z",
     "iopub.status.busy": "2022-12-30T12:56:18.249731Z",
     "iopub.status.idle": "2022-12-30T12:56:18.255694Z",
     "shell.execute_reply": "2022-12-30T12:56:18.254946Z"
    },
    "papermill": {
     "duration": 0.017988,
     "end_time": "2022-12-30T12:56:18.257834",
     "exception": false,
     "start_time": "2022-12-30T12:56:18.239846",
     "status": "completed"
    },
    "tags": []
   },
   "outputs": [],
   "source": [
    "X_train, X_test, y_test, y_train = train_test_split(X, y, test_size = 0.20, random_state = 42)"
   ]
  },
  {
   "cell_type": "markdown",
   "id": "dee6eb5a",
   "metadata": {
    "papermill": {
     "duration": 0.00854,
     "end_time": "2022-12-30T12:56:18.274928",
     "exception": false,
     "start_time": "2022-12-30T12:56:18.266388",
     "status": "completed"
    },
    "tags": []
   },
   "source": [
    "### Regresión Logistica "
   ]
  },
  {
   "cell_type": "code",
   "execution_count": 14,
   "id": "8f39083a",
   "metadata": {
    "execution": {
     "iopub.execute_input": "2022-12-30T12:56:18.294523Z",
     "iopub.status.busy": "2022-12-30T12:56:18.293532Z",
     "iopub.status.idle": "2022-12-30T12:56:18.337596Z",
     "shell.execute_reply": "2022-12-30T12:56:18.336474Z"
    },
    "papermill": {
     "duration": 0.056318,
     "end_time": "2022-12-30T12:56:18.340031",
     "exception": false,
     "start_time": "2022-12-30T12:56:18.283713",
     "status": "completed"
    },
    "tags": []
   },
   "outputs": [
    {
     "data": {
      "text/plain": [
       "LogisticRegression()"
      ]
     },
     "execution_count": 14,
     "metadata": {},
     "output_type": "execute_result"
    }
   ],
   "source": [
    "Log_model = LogisticRegression() \n",
    "Log_model.fit (X,y)"
   ]
  },
  {
   "cell_type": "code",
   "execution_count": 15,
   "id": "b3c9386b",
   "metadata": {
    "execution": {
     "iopub.execute_input": "2022-12-30T12:56:18.359669Z",
     "iopub.status.busy": "2022-12-30T12:56:18.358603Z",
     "iopub.status.idle": "2022-12-30T12:56:18.367276Z",
     "shell.execute_reply": "2022-12-30T12:56:18.366294Z"
    },
    "papermill": {
     "duration": 0.021025,
     "end_time": "2022-12-30T12:56:18.369676",
     "exception": false,
     "start_time": "2022-12-30T12:56:18.348651",
     "status": "completed"
    },
    "tags": []
   },
   "outputs": [
    {
     "name": "stdout",
     "output_type": "stream",
     "text": [
      "['Iris-setosa' 'Iris-setosa' 'Iris-setosa' 'Iris-setosa' 'Iris-setosa']\n",
      "0    Iris-setosa\n",
      "1    Iris-setosa\n",
      "2    Iris-setosa\n",
      "3    Iris-setosa\n",
      "4    Iris-setosa\n",
      "Name: Species, dtype: object\n"
     ]
    }
   ],
   "source": [
    "print(Log_model.predict(X.head()))\n",
    "print(df.Species.head())"
   ]
  },
  {
   "cell_type": "code",
   "execution_count": 16,
   "id": "532535a9",
   "metadata": {
    "execution": {
     "iopub.execute_input": "2022-12-30T12:56:18.388932Z",
     "iopub.status.busy": "2022-12-30T12:56:18.388524Z",
     "iopub.status.idle": "2022-12-30T12:56:18.398437Z",
     "shell.execute_reply": "2022-12-30T12:56:18.397391Z"
    },
    "papermill": {
     "duration": 0.022069,
     "end_time": "2022-12-30T12:56:18.400524",
     "exception": false,
     "start_time": "2022-12-30T12:56:18.378455",
     "status": "completed"
    },
    "tags": []
   },
   "outputs": [
    {
     "data": {
      "text/plain": [
       "0.9733333333333334"
      ]
     },
     "execution_count": 16,
     "metadata": {},
     "output_type": "execute_result"
    }
   ],
   "source": [
    "Log_model.score(X,y)"
   ]
  },
  {
   "cell_type": "code",
   "execution_count": 17,
   "id": "84f73552",
   "metadata": {
    "execution": {
     "iopub.execute_input": "2022-12-30T12:56:18.420182Z",
     "iopub.status.busy": "2022-12-30T12:56:18.419404Z",
     "iopub.status.idle": "2022-12-30T12:56:18.428309Z",
     "shell.execute_reply": "2022-12-30T12:56:18.427157Z"
    },
    "papermill": {
     "duration": 0.021116,
     "end_time": "2022-12-30T12:56:18.430544",
     "exception": false,
     "start_time": "2022-12-30T12:56:18.409428",
     "status": "completed"
    },
    "tags": []
   },
   "outputs": [],
   "source": [
    "\n",
    "y_pred = Log_model.predict(X=df[[\"Sepal_length_cm\",\"Sepal_width_cm\",\"Petal_length_cm\",\"Petal_width_cm\"]])\n",
    "#y_pred1 = DT_model.predict(X=df[[\"Budget_margin\",\"Budget_sales\",\"Budget_COGS\",\"Inventory\",\"Total_expenses\",\"Budget_profit\", \"Marketing\"]])\n",
    "\n",
    "#df.insert (0, \"Pred_RL\",y_pred)\n",
    "df.insert (6, \"Pred\",y_pred)\n"
   ]
  },
  {
   "cell_type": "code",
   "execution_count": 18,
   "id": "aad12f70",
   "metadata": {
    "execution": {
     "iopub.execute_input": "2022-12-30T12:56:18.449792Z",
     "iopub.status.busy": "2022-12-30T12:56:18.449400Z",
     "iopub.status.idle": "2022-12-30T12:56:18.470316Z",
     "shell.execute_reply": "2022-12-30T12:56:18.469491Z"
    },
    "papermill": {
     "duration": 0.032939,
     "end_time": "2022-12-30T12:56:18.472346",
     "exception": false,
     "start_time": "2022-12-30T12:56:18.439407",
     "status": "completed"
    },
    "tags": []
   },
   "outputs": [
    {
     "data": {
      "text/html": [
       "<div>\n",
       "<style scoped>\n",
       "    .dataframe tbody tr th:only-of-type {\n",
       "        vertical-align: middle;\n",
       "    }\n",
       "\n",
       "    .dataframe tbody tr th {\n",
       "        vertical-align: top;\n",
       "    }\n",
       "\n",
       "    .dataframe thead th {\n",
       "        text-align: right;\n",
       "    }\n",
       "</style>\n",
       "<table border=\"1\" class=\"dataframe\">\n",
       "  <thead>\n",
       "    <tr style=\"text-align: right;\">\n",
       "      <th></th>\n",
       "      <th>Id</th>\n",
       "      <th>Sepal_length_cm</th>\n",
       "      <th>Sepal_width_cm</th>\n",
       "      <th>Petal_length_cm</th>\n",
       "      <th>Petal_width_cm</th>\n",
       "      <th>Species</th>\n",
       "      <th>Pred</th>\n",
       "    </tr>\n",
       "  </thead>\n",
       "  <tbody>\n",
       "    <tr>\n",
       "      <th>0</th>\n",
       "      <td>1</td>\n",
       "      <td>5.1</td>\n",
       "      <td>3.5</td>\n",
       "      <td>1.4</td>\n",
       "      <td>0.2</td>\n",
       "      <td>Iris-setosa</td>\n",
       "      <td>Iris-setosa</td>\n",
       "    </tr>\n",
       "    <tr>\n",
       "      <th>1</th>\n",
       "      <td>2</td>\n",
       "      <td>4.9</td>\n",
       "      <td>3.0</td>\n",
       "      <td>1.4</td>\n",
       "      <td>0.2</td>\n",
       "      <td>Iris-setosa</td>\n",
       "      <td>Iris-setosa</td>\n",
       "    </tr>\n",
       "    <tr>\n",
       "      <th>2</th>\n",
       "      <td>3</td>\n",
       "      <td>4.7</td>\n",
       "      <td>3.2</td>\n",
       "      <td>1.3</td>\n",
       "      <td>0.2</td>\n",
       "      <td>Iris-setosa</td>\n",
       "      <td>Iris-setosa</td>\n",
       "    </tr>\n",
       "    <tr>\n",
       "      <th>3</th>\n",
       "      <td>4</td>\n",
       "      <td>4.6</td>\n",
       "      <td>3.1</td>\n",
       "      <td>1.5</td>\n",
       "      <td>0.2</td>\n",
       "      <td>Iris-setosa</td>\n",
       "      <td>Iris-setosa</td>\n",
       "    </tr>\n",
       "    <tr>\n",
       "      <th>4</th>\n",
       "      <td>5</td>\n",
       "      <td>5.0</td>\n",
       "      <td>3.6</td>\n",
       "      <td>1.4</td>\n",
       "      <td>0.2</td>\n",
       "      <td>Iris-setosa</td>\n",
       "      <td>Iris-setosa</td>\n",
       "    </tr>\n",
       "    <tr>\n",
       "      <th>...</th>\n",
       "      <td>...</td>\n",
       "      <td>...</td>\n",
       "      <td>...</td>\n",
       "      <td>...</td>\n",
       "      <td>...</td>\n",
       "      <td>...</td>\n",
       "      <td>...</td>\n",
       "    </tr>\n",
       "    <tr>\n",
       "      <th>95</th>\n",
       "      <td>96</td>\n",
       "      <td>5.7</td>\n",
       "      <td>3.0</td>\n",
       "      <td>4.2</td>\n",
       "      <td>1.2</td>\n",
       "      <td>Iris-versicolor</td>\n",
       "      <td>Iris-versicolor</td>\n",
       "    </tr>\n",
       "    <tr>\n",
       "      <th>96</th>\n",
       "      <td>97</td>\n",
       "      <td>5.7</td>\n",
       "      <td>2.9</td>\n",
       "      <td>4.2</td>\n",
       "      <td>1.3</td>\n",
       "      <td>Iris-versicolor</td>\n",
       "      <td>Iris-versicolor</td>\n",
       "    </tr>\n",
       "    <tr>\n",
       "      <th>97</th>\n",
       "      <td>98</td>\n",
       "      <td>6.2</td>\n",
       "      <td>2.9</td>\n",
       "      <td>4.3</td>\n",
       "      <td>1.3</td>\n",
       "      <td>Iris-versicolor</td>\n",
       "      <td>Iris-versicolor</td>\n",
       "    </tr>\n",
       "    <tr>\n",
       "      <th>98</th>\n",
       "      <td>99</td>\n",
       "      <td>5.1</td>\n",
       "      <td>2.5</td>\n",
       "      <td>3.0</td>\n",
       "      <td>1.1</td>\n",
       "      <td>Iris-versicolor</td>\n",
       "      <td>Iris-versicolor</td>\n",
       "    </tr>\n",
       "    <tr>\n",
       "      <th>99</th>\n",
       "      <td>100</td>\n",
       "      <td>5.7</td>\n",
       "      <td>2.8</td>\n",
       "      <td>4.1</td>\n",
       "      <td>1.3</td>\n",
       "      <td>Iris-versicolor</td>\n",
       "      <td>Iris-versicolor</td>\n",
       "    </tr>\n",
       "  </tbody>\n",
       "</table>\n",
       "<p>100 rows × 7 columns</p>\n",
       "</div>"
      ],
      "text/plain": [
       "     Id  Sepal_length_cm  Sepal_width_cm  Petal_length_cm  Petal_width_cm  \\\n",
       "0     1              5.1             3.5              1.4             0.2   \n",
       "1     2              4.9             3.0              1.4             0.2   \n",
       "2     3              4.7             3.2              1.3             0.2   \n",
       "3     4              4.6             3.1              1.5             0.2   \n",
       "4     5              5.0             3.6              1.4             0.2   \n",
       "..  ...              ...             ...              ...             ...   \n",
       "95   96              5.7             3.0              4.2             1.2   \n",
       "96   97              5.7             2.9              4.2             1.3   \n",
       "97   98              6.2             2.9              4.3             1.3   \n",
       "98   99              5.1             2.5              3.0             1.1   \n",
       "99  100              5.7             2.8              4.1             1.3   \n",
       "\n",
       "            Species             Pred  \n",
       "0       Iris-setosa      Iris-setosa  \n",
       "1       Iris-setosa      Iris-setosa  \n",
       "2       Iris-setosa      Iris-setosa  \n",
       "3       Iris-setosa      Iris-setosa  \n",
       "4       Iris-setosa      Iris-setosa  \n",
       "..              ...              ...  \n",
       "95  Iris-versicolor  Iris-versicolor  \n",
       "96  Iris-versicolor  Iris-versicolor  \n",
       "97  Iris-versicolor  Iris-versicolor  \n",
       "98  Iris-versicolor  Iris-versicolor  \n",
       "99  Iris-versicolor  Iris-versicolor  \n",
       "\n",
       "[100 rows x 7 columns]"
      ]
     },
     "execution_count": 18,
     "metadata": {},
     "output_type": "execute_result"
    }
   ],
   "source": [
    "df.head(100)"
   ]
  },
  {
   "cell_type": "code",
   "execution_count": 19,
   "id": "1a1d343c",
   "metadata": {
    "execution": {
     "iopub.execute_input": "2022-12-30T12:56:18.493679Z",
     "iopub.status.busy": "2022-12-30T12:56:18.493021Z",
     "iopub.status.idle": "2022-12-30T12:56:18.522307Z",
     "shell.execute_reply": "2022-12-30T12:56:18.521143Z"
    },
    "papermill": {
     "duration": 0.041609,
     "end_time": "2022-12-30T12:56:18.524466",
     "exception": false,
     "start_time": "2022-12-30T12:56:18.482857",
     "status": "completed"
    },
    "tags": []
   },
   "outputs": [
    {
     "data": {
      "text/html": [
       "<div>\n",
       "<style scoped>\n",
       "    .dataframe tbody tr th:only-of-type {\n",
       "        vertical-align: middle;\n",
       "    }\n",
       "\n",
       "    .dataframe tbody tr th {\n",
       "        vertical-align: top;\n",
       "    }\n",
       "\n",
       "    .dataframe thead th {\n",
       "        text-align: right;\n",
       "    }\n",
       "</style>\n",
       "<table border=\"1\" class=\"dataframe\">\n",
       "  <thead>\n",
       "    <tr style=\"text-align: right;\">\n",
       "      <th></th>\n",
       "      <th>0</th>\n",
       "      <th>1</th>\n",
       "      <th>2</th>\n",
       "      <th>3</th>\n",
       "      <th>4</th>\n",
       "      <th>5</th>\n",
       "      <th>6</th>\n",
       "      <th>7</th>\n",
       "      <th>8</th>\n",
       "      <th>9</th>\n",
       "      <th>...</th>\n",
       "      <th>140</th>\n",
       "      <th>141</th>\n",
       "      <th>142</th>\n",
       "      <th>143</th>\n",
       "      <th>144</th>\n",
       "      <th>145</th>\n",
       "      <th>146</th>\n",
       "      <th>147</th>\n",
       "      <th>148</th>\n",
       "      <th>149</th>\n",
       "    </tr>\n",
       "  </thead>\n",
       "  <tbody>\n",
       "    <tr>\n",
       "      <th>Pred</th>\n",
       "      <td>Iris-setosa</td>\n",
       "      <td>Iris-setosa</td>\n",
       "      <td>Iris-setosa</td>\n",
       "      <td>Iris-setosa</td>\n",
       "      <td>Iris-setosa</td>\n",
       "      <td>Iris-setosa</td>\n",
       "      <td>Iris-setosa</td>\n",
       "      <td>Iris-setosa</td>\n",
       "      <td>Iris-setosa</td>\n",
       "      <td>Iris-setosa</td>\n",
       "      <td>...</td>\n",
       "      <td>Iris-virginica</td>\n",
       "      <td>Iris-virginica</td>\n",
       "      <td>Iris-virginica</td>\n",
       "      <td>Iris-virginica</td>\n",
       "      <td>Iris-virginica</td>\n",
       "      <td>Iris-virginica</td>\n",
       "      <td>Iris-virginica</td>\n",
       "      <td>Iris-virginica</td>\n",
       "      <td>Iris-virginica</td>\n",
       "      <td>Iris-virginica</td>\n",
       "    </tr>\n",
       "    <tr>\n",
       "      <th>Species</th>\n",
       "      <td>Iris-setosa</td>\n",
       "      <td>Iris-setosa</td>\n",
       "      <td>Iris-setosa</td>\n",
       "      <td>Iris-setosa</td>\n",
       "      <td>Iris-setosa</td>\n",
       "      <td>Iris-setosa</td>\n",
       "      <td>Iris-setosa</td>\n",
       "      <td>Iris-setosa</td>\n",
       "      <td>Iris-setosa</td>\n",
       "      <td>Iris-setosa</td>\n",
       "      <td>...</td>\n",
       "      <td>Iris-virginica</td>\n",
       "      <td>Iris-virginica</td>\n",
       "      <td>Iris-virginica</td>\n",
       "      <td>Iris-virginica</td>\n",
       "      <td>Iris-virginica</td>\n",
       "      <td>Iris-virginica</td>\n",
       "      <td>Iris-virginica</td>\n",
       "      <td>Iris-virginica</td>\n",
       "      <td>Iris-virginica</td>\n",
       "      <td>Iris-virginica</td>\n",
       "    </tr>\n",
       "  </tbody>\n",
       "</table>\n",
       "<p>2 rows × 150 columns</p>\n",
       "</div>"
      ],
      "text/plain": [
       "                 0            1            2            3            4    \\\n",
       "Pred     Iris-setosa  Iris-setosa  Iris-setosa  Iris-setosa  Iris-setosa   \n",
       "Species  Iris-setosa  Iris-setosa  Iris-setosa  Iris-setosa  Iris-setosa   \n",
       "\n",
       "                 5            6            7            8            9    ...  \\\n",
       "Pred     Iris-setosa  Iris-setosa  Iris-setosa  Iris-setosa  Iris-setosa  ...   \n",
       "Species  Iris-setosa  Iris-setosa  Iris-setosa  Iris-setosa  Iris-setosa  ...   \n",
       "\n",
       "                    140             141             142             143  \\\n",
       "Pred     Iris-virginica  Iris-virginica  Iris-virginica  Iris-virginica   \n",
       "Species  Iris-virginica  Iris-virginica  Iris-virginica  Iris-virginica   \n",
       "\n",
       "                    144             145             146             147  \\\n",
       "Pred     Iris-virginica  Iris-virginica  Iris-virginica  Iris-virginica   \n",
       "Species  Iris-virginica  Iris-virginica  Iris-virginica  Iris-virginica   \n",
       "\n",
       "                    148             149  \n",
       "Pred     Iris-virginica  Iris-virginica  \n",
       "Species  Iris-virginica  Iris-virginica  \n",
       "\n",
       "[2 rows x 150 columns]"
      ]
     },
     "execution_count": 19,
     "metadata": {},
     "output_type": "execute_result"
    }
   ],
   "source": [
    "Columns =df.Pred, df.Species\n",
    "rows = [\"Pred\",\"Species\"]\n",
    "data_p= pd.DataFrame(Columns,rows)\n",
    "data_p.head()"
   ]
  },
  {
   "cell_type": "code",
   "execution_count": 20,
   "id": "2bc86564",
   "metadata": {
    "execution": {
     "iopub.execute_input": "2022-12-30T12:56:18.545545Z",
     "iopub.status.busy": "2022-12-30T12:56:18.545148Z",
     "iopub.status.idle": "2022-12-30T12:56:18.557644Z",
     "shell.execute_reply": "2022-12-30T12:56:18.556606Z"
    },
    "papermill": {
     "duration": 0.025957,
     "end_time": "2022-12-30T12:56:18.559926",
     "exception": false,
     "start_time": "2022-12-30T12:56:18.533969",
     "status": "completed"
    },
    "tags": []
   },
   "outputs": [
    {
     "data": {
      "text/html": [
       "<div>\n",
       "<style scoped>\n",
       "    .dataframe tbody tr th:only-of-type {\n",
       "        vertical-align: middle;\n",
       "    }\n",
       "\n",
       "    .dataframe tbody tr th {\n",
       "        vertical-align: top;\n",
       "    }\n",
       "\n",
       "    .dataframe thead th {\n",
       "        text-align: right;\n",
       "    }\n",
       "</style>\n",
       "<table border=\"1\" class=\"dataframe\">\n",
       "  <thead>\n",
       "    <tr style=\"text-align: right;\">\n",
       "      <th></th>\n",
       "      <th>Sepal_length_cm</th>\n",
       "      <th>Sepal_width_cm</th>\n",
       "      <th>Petal_length_cm</th>\n",
       "      <th>Petal_width_cm</th>\n",
       "    </tr>\n",
       "  </thead>\n",
       "  <tbody>\n",
       "    <tr>\n",
       "      <th>0</th>\n",
       "      <td>6.1</td>\n",
       "      <td>2.8</td>\n",
       "      <td>4.7</td>\n",
       "      <td>1.2</td>\n",
       "    </tr>\n",
       "    <tr>\n",
       "      <th>1</th>\n",
       "      <td>5.0</td>\n",
       "      <td>3.6</td>\n",
       "      <td>1.4</td>\n",
       "      <td>0.2</td>\n",
       "    </tr>\n",
       "  </tbody>\n",
       "</table>\n",
       "</div>"
      ],
      "text/plain": [
       "  Sepal_length_cm Sepal_width_cm Petal_length_cm Petal_width_cm\n",
       "0             6.1            2.8             4.7            1.2\n",
       "1             5.0            3.6             1.4            0.2"
      ]
     },
     "execution_count": 20,
     "metadata": {},
     "output_type": "execute_result"
    }
   ],
   "source": [
    "df_1 = pd.DataFrame({\"Sepal_length_cm\": [\"6.1\",\"5.0\"], \"Sepal_width_cm\":[\"2.8\",\"3.6\"], \"Petal_length_cm\":[\"4.7\", \"1.4\"],\"Petal_width_cm\":[\"1.2\", \"0.2\"]})\n",
    "df_1"
   ]
  },
  {
   "cell_type": "code",
   "execution_count": 21,
   "id": "34d8a78d",
   "metadata": {
    "execution": {
     "iopub.execute_input": "2022-12-30T12:56:18.580678Z",
     "iopub.status.busy": "2022-12-30T12:56:18.580307Z",
     "iopub.status.idle": "2022-12-30T12:56:18.586792Z",
     "shell.execute_reply": "2022-12-30T12:56:18.585644Z"
    },
    "papermill": {
     "duration": 0.019622,
     "end_time": "2022-12-30T12:56:18.589125",
     "exception": false,
     "start_time": "2022-12-30T12:56:18.569503",
     "status": "completed"
    },
    "tags": []
   },
   "outputs": [],
   "source": [
    " pred = Log_model.predict(df_1)"
   ]
  },
  {
   "cell_type": "code",
   "execution_count": 22,
   "id": "be2937c4",
   "metadata": {
    "execution": {
     "iopub.execute_input": "2022-12-30T12:56:18.609844Z",
     "iopub.status.busy": "2022-12-30T12:56:18.609446Z",
     "iopub.status.idle": "2022-12-30T12:56:18.615049Z",
     "shell.execute_reply": "2022-12-30T12:56:18.613903Z"
    },
    "papermill": {
     "duration": 0.019377,
     "end_time": "2022-12-30T12:56:18.618169",
     "exception": false,
     "start_time": "2022-12-30T12:56:18.598792",
     "status": "completed"
    },
    "tags": []
   },
   "outputs": [
    {
     "name": "stdout",
     "output_type": "stream",
     "text": [
      "['Iris-versicolor' 'Iris-setosa']\n"
     ]
    }
   ],
   "source": [
    "print(pred) "
   ]
  }
 ],
 "metadata": {
  "kernelspec": {
   "display_name": "Python 3",
   "language": "python",
   "name": "python3"
  },
  "language_info": {
   "codemirror_mode": {
    "name": "ipython",
    "version": 3
   },
   "file_extension": ".py",
   "mimetype": "text/x-python",
   "name": "python",
   "nbconvert_exporter": "python",
   "pygments_lexer": "ipython3",
   "version": "3.7.12"
  },
  "papermill": {
   "default_parameters": {},
   "duration": 12.295563,
   "end_time": "2022-12-30T12:56:19.349786",
   "environment_variables": {},
   "exception": null,
   "input_path": "__notebook__.ipynb",
   "output_path": "__notebook__.ipynb",
   "parameters": {},
   "start_time": "2022-12-30T12:56:07.054223",
   "version": "2.3.4"
  }
 },
 "nbformat": 4,
 "nbformat_minor": 5
}
