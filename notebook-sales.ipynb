{
 "cells": [
  {
   "cell_type": "markdown",
   "id": "940045c3",
   "metadata": {
    "papermill": {
     "duration": 0.013568,
     "end_time": "2022-12-22T17:01:33.876480",
     "exception": false,
     "start_time": "2022-12-22T17:01:33.862912",
     "status": "completed"
    },
    "tags": []
   },
   "source": [
    "\n",
    "\n",
    "\n",
    "# **Análisis base de datos US Sales Store**\n",
    "\n",
    "\n",
    "El presente Notebook es un analisis resultante de la base de datos Sales \n",
    "\n",
    "##### *Wilmar Murillo Carmona*\n",
    "\n",
    "## **Contenido**\n",
    "   \n",
    "\n",
    "- <a href=\"#int\">Importación de librerias para el analisis</a><br>\n",
    "- <a href=\"#sin\">Importación de datos </a><br>\n",
    "- <a href=\"#imp\">Visualización de la importación de los datos y sus tipos de variables</a><br>\n",
    "- <a href=\"#norm\">Normalización de datos </a><br>\n",
    "   - <a href=\"#var\">Variables categoricas</a><br>\n",
    "   - <a href=\"#ope\">Renombrar variables</a><br>\n",
    "   - <a href=\"#ope\">Variables float</a><br>\n",
    "   - <a href=\"#ope\">Normalizar Variable Date</a><br>\n",
    "- <a href=\"#transf\">Transformación</a><br>      \n",
    "   - <a href=\"#ope\">Analisis Variable Profit</a><br>\n",
    "   - <a href=\"#ope\">Analisis Variable Inventory</a><br>\n",
    "- <a href=\"#corr\"> Correlaciones</a><br>\n",
    "- <a href=\"#selec\">variables seleccionadas para el modelo</a><br>\n",
    "- <a href=\"#selmod\">Selección del modelo</a><br>\n",
    "    - <a href=\"#ope\">Almacenamiento</a><br>\n",
    "    - <a href=\"#ope\">Regresón Lineal</a><br>\n",
    "    - <a href=\"#ope\">Arbol de decisiones</a><br>\n",
    "    - <a href=\"#ope\">Random Forest</a><br>\n",
    "- <a href=\"#comp\">Compración de predicciones</a><br>   \n",
    "- <a href=\"#compr\">Comparación resultados</a><br>\n",
    "- <a href=\"#conc\"> Conclusiones</a><br>\n",
    "   "
   ]
  },
  {
   "cell_type": "markdown",
   "id": "63ba75c1",
   "metadata": {
    "papermill": {
     "duration": 0.013615,
     "end_time": "2022-12-22T17:01:33.902562",
     "exception": false,
     "start_time": "2022-12-22T17:01:33.888947",
     "status": "completed"
    },
    "tags": []
   },
   "source": [
    "<p><a name=\"int\"></a></p>\n",
    "\n",
    "# Importación de librerias"
   ]
  },
  {
   "cell_type": "code",
   "execution_count": 1,
   "id": "8134eadc",
   "metadata": {
    "execution": {
     "iopub.execute_input": "2022-12-22T17:01:33.930332Z",
     "iopub.status.busy": "2022-12-22T17:01:33.929647Z",
     "iopub.status.idle": "2022-12-22T17:01:34.966540Z",
     "shell.execute_reply": "2022-12-22T17:01:34.965640Z"
    },
    "papermill": {
     "duration": 1.053929,
     "end_time": "2022-12-22T17:01:34.969163",
     "exception": false,
     "start_time": "2022-12-22T17:01:33.915234",
     "status": "completed"
    },
    "tags": []
   },
   "outputs": [],
   "source": [
    "import pandas as pd \n",
    "import matplotlib.pyplot as plt\n",
    "import seaborn as sns "
   ]
  },
  {
   "cell_type": "markdown",
   "id": "d5a08458",
   "metadata": {
    "papermill": {
     "duration": 0.013008,
     "end_time": "2022-12-22T17:01:34.995638",
     "exception": false,
     "start_time": "2022-12-22T17:01:34.982630",
     "status": "completed"
    },
    "tags": []
   },
   "source": [
    "<p><a name=\"imp\"></a></p>\n",
    "\n",
    "# Importación de datos"
   ]
  },
  {
   "cell_type": "code",
   "execution_count": 2,
   "id": "63f7ead3",
   "metadata": {
    "execution": {
     "iopub.execute_input": "2022-12-22T17:01:35.023146Z",
     "iopub.status.busy": "2022-12-22T17:01:35.022758Z",
     "iopub.status.idle": "2022-12-22T17:01:35.064251Z",
     "shell.execute_reply": "2022-12-22T17:01:35.063150Z"
    },
    "papermill": {
     "duration": 0.058126,
     "end_time": "2022-12-22T17:01:35.066700",
     "exception": false,
     "start_time": "2022-12-22T17:01:35.008574",
     "status": "completed"
    },
    "tags": []
   },
   "outputs": [],
   "source": [
    "url = \"/kaggle/input/us-stores-sales/sales.csv\"\n",
    "df = pd.read_csv(url)"
   ]
  },
  {
   "cell_type": "markdown",
   "id": "9d9bff2b",
   "metadata": {
    "papermill": {
     "duration": 0.012993,
     "end_time": "2022-12-22T17:01:35.093109",
     "exception": false,
     "start_time": "2022-12-22T17:01:35.080116",
     "status": "completed"
    },
    "tags": []
   },
   "source": [
    "<p><a name=\"visual\"></a></p>\n",
    "\n",
    "# visualización de la importación de los datos y sus tipos de variables "
   ]
  },
  {
   "cell_type": "code",
   "execution_count": 3,
   "id": "4c6eeb82",
   "metadata": {
    "execution": {
     "iopub.execute_input": "2022-12-22T17:01:35.120599Z",
     "iopub.status.busy": "2022-12-22T17:01:35.120244Z",
     "iopub.status.idle": "2022-12-22T17:01:35.148790Z",
     "shell.execute_reply": "2022-12-22T17:01:35.148114Z"
    },
    "papermill": {
     "duration": 0.045038,
     "end_time": "2022-12-22T17:01:35.151054",
     "exception": false,
     "start_time": "2022-12-22T17:01:35.106016",
     "status": "completed"
    },
    "tags": []
   },
   "outputs": [
    {
     "data": {
      "text/html": [
       "<div>\n",
       "<style scoped>\n",
       "    .dataframe tbody tr th:only-of-type {\n",
       "        vertical-align: middle;\n",
       "    }\n",
       "\n",
       "    .dataframe tbody tr th {\n",
       "        vertical-align: top;\n",
       "    }\n",
       "\n",
       "    .dataframe thead th {\n",
       "        text-align: right;\n",
       "    }\n",
       "</style>\n",
       "<table border=\"1\" class=\"dataframe\">\n",
       "  <thead>\n",
       "    <tr style=\"text-align: right;\">\n",
       "      <th></th>\n",
       "      <th>Area Code</th>\n",
       "      <th>State</th>\n",
       "      <th>Market</th>\n",
       "      <th>Market Size</th>\n",
       "      <th>Profit</th>\n",
       "      <th>Margin</th>\n",
       "      <th>Sales</th>\n",
       "      <th>COGS</th>\n",
       "      <th>Total Expenses</th>\n",
       "      <th>Marketing</th>\n",
       "      <th>Inventory</th>\n",
       "      <th>Budget Profit</th>\n",
       "      <th>Budget COGS</th>\n",
       "      <th>Budget Margin</th>\n",
       "      <th>Budget Sales</th>\n",
       "      <th>ProductId</th>\n",
       "      <th>Date</th>\n",
       "      <th>Product Type</th>\n",
       "      <th>Product</th>\n",
       "      <th>Type</th>\n",
       "    </tr>\n",
       "  </thead>\n",
       "  <tbody>\n",
       "    <tr>\n",
       "      <th>0</th>\n",
       "      <td>203</td>\n",
       "      <td>Connecticut</td>\n",
       "      <td>East</td>\n",
       "      <td>Small Market</td>\n",
       "      <td>107.0</td>\n",
       "      <td>176.0</td>\n",
       "      <td>292.0</td>\n",
       "      <td>116.0</td>\n",
       "      <td>69.0</td>\n",
       "      <td>38.0</td>\n",
       "      <td>962.0</td>\n",
       "      <td>110.0</td>\n",
       "      <td>110.0</td>\n",
       "      <td>160.0</td>\n",
       "      <td>270.0</td>\n",
       "      <td>2</td>\n",
       "      <td>04/01/10 00:00:00</td>\n",
       "      <td>Coffee</td>\n",
       "      <td>Columbian</td>\n",
       "      <td>Regular</td>\n",
       "    </tr>\n",
       "    <tr>\n",
       "      <th>1</th>\n",
       "      <td>203</td>\n",
       "      <td>Connecticut</td>\n",
       "      <td>East</td>\n",
       "      <td>Small Market</td>\n",
       "      <td>75.0</td>\n",
       "      <td>135.0</td>\n",
       "      <td>225.0</td>\n",
       "      <td>90.0</td>\n",
       "      <td>60.0</td>\n",
       "      <td>29.0</td>\n",
       "      <td>1148.0</td>\n",
       "      <td>90.0</td>\n",
       "      <td>80.0</td>\n",
       "      <td>130.0</td>\n",
       "      <td>210.0</td>\n",
       "      <td>2</td>\n",
       "      <td>07/01/10 00:00:00</td>\n",
       "      <td>Coffee</td>\n",
       "      <td>Columbian</td>\n",
       "      <td>Regular</td>\n",
       "    </tr>\n",
       "    <tr>\n",
       "      <th>2</th>\n",
       "      <td>203</td>\n",
       "      <td>Connecticut</td>\n",
       "      <td>East</td>\n",
       "      <td>Small Market</td>\n",
       "      <td>122.0</td>\n",
       "      <td>195.0</td>\n",
       "      <td>325.0</td>\n",
       "      <td>130.0</td>\n",
       "      <td>73.0</td>\n",
       "      <td>42.0</td>\n",
       "      <td>1134.0</td>\n",
       "      <td>130.0</td>\n",
       "      <td>110.0</td>\n",
       "      <td>180.0</td>\n",
       "      <td>290.0</td>\n",
       "      <td>2</td>\n",
       "      <td>11/01/10 00:00:00</td>\n",
       "      <td>Coffee</td>\n",
       "      <td>Columbian</td>\n",
       "      <td>Regular</td>\n",
       "    </tr>\n",
       "    <tr>\n",
       "      <th>3</th>\n",
       "      <td>203</td>\n",
       "      <td>Connecticut</td>\n",
       "      <td>East</td>\n",
       "      <td>Small Market</td>\n",
       "      <td>105.0</td>\n",
       "      <td>174.0</td>\n",
       "      <td>289.0</td>\n",
       "      <td>115.0</td>\n",
       "      <td>69.0</td>\n",
       "      <td>37.0</td>\n",
       "      <td>1166.0</td>\n",
       "      <td>110.0</td>\n",
       "      <td>100.0</td>\n",
       "      <td>160.0</td>\n",
       "      <td>260.0</td>\n",
       "      <td>2</td>\n",
       "      <td>12/01/10 00:00:00</td>\n",
       "      <td>Coffee</td>\n",
       "      <td>Columbian</td>\n",
       "      <td>Regular</td>\n",
       "    </tr>\n",
       "    <tr>\n",
       "      <th>4</th>\n",
       "      <td>203</td>\n",
       "      <td>Connecticut</td>\n",
       "      <td>East</td>\n",
       "      <td>Small Market</td>\n",
       "      <td>104.0</td>\n",
       "      <td>135.0</td>\n",
       "      <td>223.0</td>\n",
       "      <td>90.0</td>\n",
       "      <td>56.0</td>\n",
       "      <td>29.0</td>\n",
       "      <td>1148.0</td>\n",
       "      <td>90.0</td>\n",
       "      <td>80.0</td>\n",
       "      <td>130.0</td>\n",
       "      <td>210.0</td>\n",
       "      <td>2</td>\n",
       "      <td>07/01/11 00:00:00</td>\n",
       "      <td>Coffee</td>\n",
       "      <td>Columbian</td>\n",
       "      <td>Regular</td>\n",
       "    </tr>\n",
       "  </tbody>\n",
       "</table>\n",
       "</div>"
      ],
      "text/plain": [
       "   Area Code        State Market   Market Size  Profit  Margin  Sales   COGS  \\\n",
       "0        203  Connecticut   East  Small Market   107.0   176.0  292.0  116.0   \n",
       "1        203  Connecticut   East  Small Market    75.0   135.0  225.0   90.0   \n",
       "2        203  Connecticut   East  Small Market   122.0   195.0  325.0  130.0   \n",
       "3        203  Connecticut   East  Small Market   105.0   174.0  289.0  115.0   \n",
       "4        203  Connecticut   East  Small Market   104.0   135.0  223.0   90.0   \n",
       "\n",
       "   Total Expenses  Marketing  Inventory  Budget Profit  Budget COGS  \\\n",
       "0            69.0       38.0      962.0          110.0        110.0   \n",
       "1            60.0       29.0     1148.0           90.0         80.0   \n",
       "2            73.0       42.0     1134.0          130.0        110.0   \n",
       "3            69.0       37.0     1166.0          110.0        100.0   \n",
       "4            56.0       29.0     1148.0           90.0         80.0   \n",
       "\n",
       "   Budget Margin  Budget Sales  ProductId               Date Product Type  \\\n",
       "0          160.0         270.0          2  04/01/10 00:00:00       Coffee   \n",
       "1          130.0         210.0          2  07/01/10 00:00:00       Coffee   \n",
       "2          180.0         290.0          2  11/01/10 00:00:00       Coffee   \n",
       "3          160.0         260.0          2  12/01/10 00:00:00       Coffee   \n",
       "4          130.0         210.0          2  07/01/11 00:00:00       Coffee   \n",
       "\n",
       "     Product     Type  \n",
       "0  Columbian  Regular  \n",
       "1  Columbian  Regular  \n",
       "2  Columbian  Regular  \n",
       "3  Columbian  Regular  \n",
       "4  Columbian  Regular  "
      ]
     },
     "execution_count": 3,
     "metadata": {},
     "output_type": "execute_result"
    }
   ],
   "source": [
    "# Visualizando el conjunto de datos original \n",
    "df.head()"
   ]
  },
  {
   "cell_type": "code",
   "execution_count": 4,
   "id": "291585dd",
   "metadata": {
    "execution": {
     "iopub.execute_input": "2022-12-22T17:01:35.179051Z",
     "iopub.status.busy": "2022-12-22T17:01:35.178534Z",
     "iopub.status.idle": "2022-12-22T17:01:35.209752Z",
     "shell.execute_reply": "2022-12-22T17:01:35.207883Z"
    },
    "papermill": {
     "duration": 0.047428,
     "end_time": "2022-12-22T17:01:35.211741",
     "exception": false,
     "start_time": "2022-12-22T17:01:35.164313",
     "status": "completed"
    },
    "tags": []
   },
   "outputs": [
    {
     "name": "stdout",
     "output_type": "stream",
     "text": [
      "<class 'pandas.core.frame.DataFrame'>\n",
      "RangeIndex: 4248 entries, 0 to 4247\n",
      "Data columns (total 20 columns):\n",
      " #   Column          Non-Null Count  Dtype  \n",
      "---  ------          --------------  -----  \n",
      " 0   Area Code       4248 non-null   int64  \n",
      " 1   State           4248 non-null   object \n",
      " 2   Market          4248 non-null   object \n",
      " 3   Market Size     4248 non-null   object \n",
      " 4   Profit          4248 non-null   float64\n",
      " 5   Margin          4248 non-null   float64\n",
      " 6   Sales           4248 non-null   float64\n",
      " 7   COGS            4248 non-null   float64\n",
      " 8   Total Expenses  4248 non-null   float64\n",
      " 9   Marketing       4248 non-null   float64\n",
      " 10  Inventory       4248 non-null   float64\n",
      " 11  Budget Profit   4248 non-null   float64\n",
      " 12  Budget COGS     4248 non-null   float64\n",
      " 13  Budget Margin   4248 non-null   float64\n",
      " 14  Budget Sales    4248 non-null   float64\n",
      " 15  ProductId       4248 non-null   int64  \n",
      " 16  Date            4248 non-null   object \n",
      " 17  Product Type    4248 non-null   object \n",
      " 18  Product         4248 non-null   object \n",
      " 19  Type            4248 non-null   object \n",
      "dtypes: float64(11), int64(2), object(7)\n",
      "memory usage: 663.9+ KB\n",
      "________________________________________\n"
     ]
    },
    {
     "data": {
      "text/plain": [
       "(4248, 20)"
      ]
     },
     "execution_count": 4,
     "metadata": {},
     "output_type": "execute_result"
    }
   ],
   "source": [
    "# Verificación de las variables, valores nulos y tipo de variables que se tienen\n",
    "df.info()\n",
    "\n",
    "print('_'*40)\n",
    "\n",
    "# Verificación del tamaño del conjunto de datos\n",
    "df.shape"
   ]
  },
  {
   "cell_type": "markdown",
   "id": "2ce52c71",
   "metadata": {
    "papermill": {
     "duration": 0.013242,
     "end_time": "2022-12-22T17:01:35.238588",
     "exception": false,
     "start_time": "2022-12-22T17:01:35.225346",
     "status": "completed"
    },
    "tags": []
   },
   "source": [
    "<p><a name=\"norm\"></a></p>\n",
    "\n",
    "# Normalización de datos "
   ]
  },
  {
   "cell_type": "markdown",
   "id": "871f4ad9",
   "metadata": {
    "papermill": {
     "duration": 0.013129,
     "end_time": "2022-12-22T17:01:35.265376",
     "exception": false,
     "start_time": "2022-12-22T17:01:35.252247",
     "status": "completed"
    },
    "tags": []
   },
   "source": [
    " ***Variables categoricas***"
   ]
  },
  {
   "cell_type": "code",
   "execution_count": 5,
   "id": "cc406980",
   "metadata": {
    "execution": {
     "iopub.execute_input": "2022-12-22T17:01:35.293795Z",
     "iopub.status.busy": "2022-12-22T17:01:35.293406Z",
     "iopub.status.idle": "2022-12-22T17:01:35.369505Z",
     "shell.execute_reply": "2022-12-22T17:01:35.367968Z"
    },
    "papermill": {
     "duration": 0.093177,
     "end_time": "2022-12-22T17:01:35.371978",
     "exception": false,
     "start_time": "2022-12-22T17:01:35.278801",
     "status": "completed"
    },
    "tags": []
   },
   "outputs": [
    {
     "name": "stderr",
     "output_type": "stream",
     "text": [
      "/opt/conda/lib/python3.7/site-packages/ipykernel_launcher.py:2: FutureWarning: The default value of regex will change from True to False in a future version.\n",
      "  \n",
      "/opt/conda/lib/python3.7/site-packages/ipykernel_launcher.py:3: FutureWarning: The default value of regex will change from True to False in a future version.\n",
      "  This is separate from the ipykernel package so we can avoid doing imports until\n",
      "/opt/conda/lib/python3.7/site-packages/ipykernel_launcher.py:4: FutureWarning: The default value of regex will change from True to False in a future version.\n",
      "  after removing the cwd from sys.path.\n",
      "/opt/conda/lib/python3.7/site-packages/ipykernel_launcher.py:5: FutureWarning: The default value of regex will change from True to False in a future version.\n",
      "  \"\"\"\n",
      "/opt/conda/lib/python3.7/site-packages/ipykernel_launcher.py:6: FutureWarning: The default value of regex will change from True to False in a future version.\n",
      "  \n",
      "/opt/conda/lib/python3.7/site-packages/ipykernel_launcher.py:7: FutureWarning: The default value of regex will change from True to False in a future version.\n",
      "  import sys\n",
      "/opt/conda/lib/python3.7/site-packages/ipykernel_launcher.py:8: FutureWarning: The default value of regex will change from True to False in a future version.\n",
      "  \n"
     ]
    }
   ],
   "source": [
    "# Normalizar las variables de tipo categorica para limpiar la data \n",
    "df['State'] = df['State'].str.lower().str.replace(\"^-\", \"\").str.replace(\"-\", \" \").str.replace(\"  \", \" \")\n",
    "df['Market'] = df['Market'].str.lower().str.replace(\"^-\", \"\").str.replace(\"-\", \" \").str.replace(\"  \", \" \") \n",
    "df['Market Size'] = df['Market Size'].str.lower().str.replace(\"^-\", \"\").str.replace(\"-\", \" \").str.replace(\"  \", \" \")\n",
    "df['Date'] = df['Date'].str.lower().str.replace(\"^-\", \"\").str.replace(\"-\", \" \").str.replace(\"  \", \" \")\n",
    "df['Product Type'] = df['Product Type'].str.lower().str.replace(\"^-\", \"\").str.replace(\"-\", \" \").str.replace(\"  \", \" \")\n",
    "df['Product'] = df['Product'].str.lower().str.replace(\"^-\", \"\").str.replace(\"-\", \" \").str.replace(\"  \", \" \")\n",
    "df['Type'] = df['Type'].str.lower().str.replace(\"^-\", \"\").str.replace(\"-\", \" \").str.replace(\"  \", \" \")"
   ]
  },
  {
   "cell_type": "markdown",
   "id": "9c1fdcd6",
   "metadata": {
    "papermill": {
     "duration": 0.013262,
     "end_time": "2022-12-22T17:01:35.399016",
     "exception": false,
     "start_time": "2022-12-22T17:01:35.385754",
     "status": "completed"
    },
    "tags": []
   },
   "source": [
    " ***Renombrar Titulos de variables***"
   ]
  },
  {
   "cell_type": "code",
   "execution_count": 6,
   "id": "85370b3d",
   "metadata": {
    "execution": {
     "iopub.execute_input": "2022-12-22T17:01:35.427939Z",
     "iopub.status.busy": "2022-12-22T17:01:35.427585Z",
     "iopub.status.idle": "2022-12-22T17:01:35.435686Z",
     "shell.execute_reply": "2022-12-22T17:01:35.434260Z"
    },
    "papermill": {
     "duration": 0.025396,
     "end_time": "2022-12-22T17:01:35.438051",
     "exception": false,
     "start_time": "2022-12-22T17:01:35.412655",
     "status": "completed"
    },
    "tags": []
   },
   "outputs": [],
   "source": [
    "# Cambiar el nombre de las variables \n",
    "\n",
    "df = df.rename(columns={\"Budget Profit\":\"Budget_profit\", \"Area Code\":\"Area_code\", \"Budget Margin\":\"Budget_margin\", \"Budget Sales\":\"Budget_sales\", \"ProductId\":\"Product_ID\"})\n",
    "df = df.rename(columns={\"Total Expenses\":\"Total_expenses\", \"Budget COGS\":\"Budget_COGS\", \"Budget Margin\":\"Budget_margin\", \"Market Size\":\"Market_size\",\"Product Type\":\"Product_type\"})"
   ]
  },
  {
   "cell_type": "markdown",
   "id": "67d90395",
   "metadata": {
    "papermill": {
     "duration": 0.013391,
     "end_time": "2022-12-22T17:01:35.466260",
     "exception": false,
     "start_time": "2022-12-22T17:01:35.452869",
     "status": "completed"
    },
    "tags": []
   },
   "source": [
    " ***Variables float***\n",
    " \n",
    " Se realiza la conversión de las variables tipo float a tipo entero, ya que no existen valores despues del punto decimal \n"
   ]
  },
  {
   "cell_type": "code",
   "execution_count": 7,
   "id": "3958594e",
   "metadata": {
    "execution": {
     "iopub.execute_input": "2022-12-22T17:01:35.495300Z",
     "iopub.status.busy": "2022-12-22T17:01:35.494922Z",
     "iopub.status.idle": "2022-12-22T17:01:35.519023Z",
     "shell.execute_reply": "2022-12-22T17:01:35.518310Z"
    },
    "papermill": {
     "duration": 0.041219,
     "end_time": "2022-12-22T17:01:35.521205",
     "exception": false,
     "start_time": "2022-12-22T17:01:35.479986",
     "status": "completed"
    },
    "tags": []
   },
   "outputs": [],
   "source": [
    "# Convertir las variables float a tipo int \n",
    "df[\"Profit\"]=df[\"Profit\"].apply(int)\n",
    "df[\"Margin\"]=df[\"Margin\"].apply(int)\n",
    "df[\"Sales\"]=df[\"Sales\"].apply(int)\n",
    "df[\"COGS\"]=df[\"COGS\"].apply(int)\n",
    "df[\"Total_expenses\"]=df[\"Total_expenses\"].apply(int)\n",
    "df[\"Inventory\"]=df[\"Inventory\"].apply(int)\n",
    "df[\"Budget_profit\"]=df[\"Budget_profit\"].apply(int)\n",
    "df[\"Budget_COGS\"]=df[\"Budget_COGS\"].apply(int)\n",
    "df[\"Budget_margin\"]=df[\"Budget_margin\"].apply(int)\n",
    "df[\"Budget_sales\"]=df[\"Budget_sales\"].apply(int)\n",
    "df[\"Marketing\"]=df[\"Marketing\"].apply(int)\n"
   ]
  },
  {
   "cell_type": "markdown",
   "id": "aaac2f13",
   "metadata": {
    "papermill": {
     "duration": 0.01378,
     "end_time": "2022-12-22T17:01:35.548910",
     "exception": false,
     "start_time": "2022-12-22T17:01:35.535130",
     "status": "completed"
    },
    "tags": []
   },
   "source": [
    " ***Normalizar Variable Date***"
   ]
  },
  {
   "cell_type": "code",
   "execution_count": 8,
   "id": "6c417bbc",
   "metadata": {
    "execution": {
     "iopub.execute_input": "2022-12-22T17:01:35.577814Z",
     "iopub.status.busy": "2022-12-22T17:01:35.577269Z",
     "iopub.status.idle": "2022-12-22T17:01:35.587833Z",
     "shell.execute_reply": "2022-12-22T17:01:35.587122Z"
    },
    "papermill": {
     "duration": 0.027347,
     "end_time": "2022-12-22T17:01:35.589833",
     "exception": false,
     "start_time": "2022-12-22T17:01:35.562486",
     "status": "completed"
    },
    "tags": []
   },
   "outputs": [],
   "source": [
    "# Convertir la variable Date de tipo object a tipo fecha \n",
    "\n",
    "df['Date'] = df['Date'].apply(lambda row:row[0:8])\n",
    "df['Date'] = pd.to_datetime(df['Date'], format='%d/%m/%y')\n"
   ]
  },
  {
   "cell_type": "markdown",
   "id": "f3f12cb8",
   "metadata": {
    "papermill": {
     "duration": 0.015578,
     "end_time": "2022-12-22T17:01:35.619488",
     "exception": false,
     "start_time": "2022-12-22T17:01:35.603910",
     "status": "completed"
    },
    "tags": []
   },
   "source": [
    "<p><a name=\"transf\"></a></p>\n",
    "\n",
    "# Transformación "
   ]
  },
  {
   "cell_type": "code",
   "execution_count": 9,
   "id": "c394b980",
   "metadata": {
    "execution": {
     "iopub.execute_input": "2022-12-22T17:01:35.653200Z",
     "iopub.status.busy": "2022-12-22T17:01:35.652757Z",
     "iopub.status.idle": "2022-12-22T17:01:35.661878Z",
     "shell.execute_reply": "2022-12-22T17:01:35.660656Z"
    },
    "papermill": {
     "duration": 0.029488,
     "end_time": "2022-12-22T17:01:35.664155",
     "exception": false,
     "start_time": "2022-12-22T17:01:35.634667",
     "status": "completed"
    },
    "tags": []
   },
   "outputs": [
    {
     "name": "stdout",
     "output_type": "stream",
     "text": [
      "Product_type: ['coffee' 'tea' 'espresso' 'herbal tea'] \n",
      "\n",
      "________________________________________\n",
      "Product: ['columbian' 'green tea' 'caffe mocha' 'decaf espresso' 'lemon' 'mint'\n",
      " 'darjeeling' 'decaf irish cream' 'chamomile' 'earl grey' 'caffe latte'\n",
      " 'amaretto' 'regular espresso'] \n",
      "\n",
      "________________________________________\n",
      "Type: ['regular' 'decaf'] \n",
      "\n"
     ]
    }
   ],
   "source": [
    "# Verificación de variables \n",
    "\n",
    "print('Product_type:',  df['Product_type'].unique(),  '\\n')\n",
    "print('_'*40)\n",
    "print('Product:',  df['Product'].unique(),  '\\n')\n",
    "print('_'*40)\n",
    "print('Type:',  df['Type'].unique(),  '\\n')"
   ]
  },
  {
   "cell_type": "code",
   "execution_count": 10,
   "id": "6d38a711",
   "metadata": {
    "execution": {
     "iopub.execute_input": "2022-12-22T17:01:35.697622Z",
     "iopub.status.busy": "2022-12-22T17:01:35.696991Z",
     "iopub.status.idle": "2022-12-22T17:01:35.706497Z",
     "shell.execute_reply": "2022-12-22T17:01:35.705478Z"
    },
    "papermill": {
     "duration": 0.027244,
     "end_time": "2022-12-22T17:01:35.709128",
     "exception": false,
     "start_time": "2022-12-22T17:01:35.681884",
     "status": "completed"
    },
    "tags": []
   },
   "outputs": [],
   "source": [
    "\n",
    "# Cambio de variables categoricas por variables enteras \n",
    "df[\"Product_type\"].replace([\"coffee\",\"tea\", \"espresso\",\"herbal tea\"], [0,1,2,3 ], inplace=True)\n",
    "df[\"Type\"].replace([\"regular\",\"decaf\"], [0,1 ], inplace=True)"
   ]
  },
  {
   "cell_type": "markdown",
   "id": "d44bdb38",
   "metadata": {
    "papermill": {
     "duration": 0.013497,
     "end_time": "2022-12-22T17:01:35.736474",
     "exception": false,
     "start_time": "2022-12-22T17:01:35.722977",
     "status": "completed"
    },
    "tags": []
   },
   "source": [
    "***Analisis variable Profit por valores negativos***"
   ]
  },
  {
   "cell_type": "code",
   "execution_count": 11,
   "id": "0bd158d7",
   "metadata": {
    "execution": {
     "iopub.execute_input": "2022-12-22T17:01:35.765610Z",
     "iopub.status.busy": "2022-12-22T17:01:35.765286Z",
     "iopub.status.idle": "2022-12-22T17:01:35.773984Z",
     "shell.execute_reply": "2022-12-22T17:01:35.773131Z"
    },
    "papermill": {
     "duration": 0.025076,
     "end_time": "2022-12-22T17:01:35.775735",
     "exception": false,
     "start_time": "2022-12-22T17:01:35.750659",
     "status": "completed"
    },
    "tags": []
   },
   "outputs": [
    {
     "data": {
      "text/plain": [
       "14       -2\n",
       "23       -3\n",
       "68       -8\n",
       "130     -84\n",
       "131    -138\n",
       "       ... \n",
       "4111     -6\n",
       "4205    -30\n",
       "4243     -6\n",
       "4244     -7\n",
       "4245     -3\n",
       "Name: Profit, Length: 528, dtype: int64"
      ]
     },
     "execution_count": 11,
     "metadata": {},
     "output_type": "execute_result"
    }
   ],
   "source": [
    " #Filtrar información para conocer valores por debajo de 0 \n",
    "df_1 = df.loc[df[\"Profit\"]< 0, \"Profit\"] \n",
    "df_1"
   ]
  },
  {
   "cell_type": "code",
   "execution_count": 12,
   "id": "40e632f4",
   "metadata": {
    "execution": {
     "iopub.execute_input": "2022-12-22T17:01:35.805247Z",
     "iopub.status.busy": "2022-12-22T17:01:35.804102Z",
     "iopub.status.idle": "2022-12-22T17:01:36.009349Z",
     "shell.execute_reply": "2022-12-22T17:01:36.007854Z"
    },
    "papermill": {
     "duration": 0.222904,
     "end_time": "2022-12-22T17:01:36.012304",
     "exception": false,
     "start_time": "2022-12-22T17:01:35.789400",
     "status": "completed"
    },
    "tags": []
   },
   "outputs": [
    {
     "data": {
      "text/html": [
       "<div>\n",
       "<style scoped>\n",
       "    .dataframe tbody tr th:only-of-type {\n",
       "        vertical-align: middle;\n",
       "    }\n",
       "\n",
       "    .dataframe tbody tr th {\n",
       "        vertical-align: top;\n",
       "    }\n",
       "\n",
       "    .dataframe thead th {\n",
       "        text-align: right;\n",
       "    }\n",
       "</style>\n",
       "<table border=\"1\" class=\"dataframe\">\n",
       "  <thead>\n",
       "    <tr style=\"text-align: right;\">\n",
       "      <th></th>\n",
       "      <th>0</th>\n",
       "    </tr>\n",
       "  </thead>\n",
       "  <tbody>\n",
       "    <tr>\n",
       "      <th>mean</th>\n",
       "      <td>61.097693</td>\n",
       "    </tr>\n",
       "    <tr>\n",
       "      <th>Median</th>\n",
       "      <td>40.0</td>\n",
       "    </tr>\n",
       "    <tr>\n",
       "      <th>Mode</th>\n",
       "      <td>0    47\n",
       "dtype: int64</td>\n",
       "    </tr>\n",
       "  </tbody>\n",
       "</table>\n",
       "</div>"
      ],
      "text/plain": [
       "                           0\n",
       "mean               61.097693\n",
       "Median                  40.0\n",
       "Mode    0    47\n",
       "dtype: int64"
      ]
     },
     "execution_count": 12,
     "metadata": {},
     "output_type": "execute_result"
    },
    {
     "data": {
      "image/png": "[encoded data removed]",
      "text/plain": [
       "<Figure size 432x288 with 1 Axes>"
      ]
     },
     "metadata": {
      "needs_background": "light"
     },
     "output_type": "display_data"
    }
   ],
   "source": [
    "# Verificación del sesgo Profit \n",
    "x = df.Profit\n",
    "plt.hist(x)\n",
    "plt.show\n",
    "mean = df.Profit.mean()\n",
    "median =df.Profit.median()\n",
    "mode = df.Profit.mode()\n",
    "\n",
    "Columns = [\"mean\",\"Median\",\"Mode\"]\n",
    "rows = [mean, median, mode]\n",
    "data_f = pd.DataFrame(rows, Columns)\n",
    "data_f"
   ]
  },
  {
   "cell_type": "code",
   "execution_count": 13,
   "id": "92aab869",
   "metadata": {
    "execution": {
     "iopub.execute_input": "2022-12-22T17:01:36.042299Z",
     "iopub.status.busy": "2022-12-22T17:01:36.041493Z",
     "iopub.status.idle": "2022-12-22T17:01:36.047747Z",
     "shell.execute_reply": "2022-12-22T17:01:36.047094Z"
    },
    "papermill": {
     "duration": 0.022955,
     "end_time": "2022-12-22T17:01:36.049424",
     "exception": false,
     "start_time": "2022-12-22T17:01:36.026469",
     "status": "completed"
    },
    "tags": []
   },
   "outputs": [],
   "source": [
    "\n",
    "df.loc[df['Profit'] <0, 'Profit'] = df.Profit.median()"
   ]
  },
  {
   "cell_type": "markdown",
   "id": "ab11523b",
   "metadata": {
    "papermill": {
     "duration": 0.013753,
     "end_time": "2022-12-22T17:01:36.077090",
     "exception": false,
     "start_time": "2022-12-22T17:01:36.063337",
     "status": "completed"
    },
    "tags": []
   },
   "source": [
    "### Inventory "
   ]
  },
  {
   "cell_type": "code",
   "execution_count": 14,
   "id": "02a2356e",
   "metadata": {
    "execution": {
     "iopub.execute_input": "2022-12-22T17:01:36.106931Z",
     "iopub.status.busy": "2022-12-22T17:01:36.106363Z",
     "iopub.status.idle": "2022-12-22T17:01:36.129373Z",
     "shell.execute_reply": "2022-12-22T17:01:36.128485Z"
    },
    "papermill": {
     "duration": 0.040379,
     "end_time": "2022-12-22T17:01:36.131383",
     "exception": false,
     "start_time": "2022-12-22T17:01:36.091004",
     "status": "completed"
    },
    "tags": []
   },
   "outputs": [
    {
     "data": {
      "text/html": [
       "<div>\n",
       "<style scoped>\n",
       "    .dataframe tbody tr th:only-of-type {\n",
       "        vertical-align: middle;\n",
       "    }\n",
       "\n",
       "    .dataframe tbody tr th {\n",
       "        vertical-align: top;\n",
       "    }\n",
       "\n",
       "    .dataframe thead th {\n",
       "        text-align: right;\n",
       "    }\n",
       "</style>\n",
       "<table border=\"1\" class=\"dataframe\">\n",
       "  <thead>\n",
       "    <tr style=\"text-align: right;\">\n",
       "      <th></th>\n",
       "      <th>Area_code</th>\n",
       "      <th>State</th>\n",
       "      <th>Market</th>\n",
       "      <th>Market_size</th>\n",
       "      <th>Profit</th>\n",
       "      <th>Margin</th>\n",
       "      <th>Sales</th>\n",
       "      <th>COGS</th>\n",
       "      <th>Total_expenses</th>\n",
       "      <th>Marketing</th>\n",
       "      <th>Inventory</th>\n",
       "      <th>Budget_profit</th>\n",
       "      <th>Budget_COGS</th>\n",
       "      <th>Budget_margin</th>\n",
       "      <th>Budget_sales</th>\n",
       "      <th>Product_ID</th>\n",
       "      <th>Date</th>\n",
       "      <th>Product_type</th>\n",
       "      <th>Product</th>\n",
       "      <th>Type</th>\n",
       "    </tr>\n",
       "  </thead>\n",
       "  <tbody>\n",
       "    <tr>\n",
       "      <th>252</th>\n",
       "      <td>225</td>\n",
       "      <td>louisiana</td>\n",
       "      <td>south</td>\n",
       "      <td>small market</td>\n",
       "      <td>40</td>\n",
       "      <td>75</td>\n",
       "      <td>127</td>\n",
       "      <td>53</td>\n",
       "      <td>73</td>\n",
       "      <td>48</td>\n",
       "      <td>-267</td>\n",
       "      <td>10</td>\n",
       "      <td>40</td>\n",
       "      <td>70</td>\n",
       "      <td>110</td>\n",
       "      <td>4</td>\n",
       "      <td>2011-01-06</td>\n",
       "      <td>2</td>\n",
       "      <td>caffe latte</td>\n",
       "      <td>0</td>\n",
       "    </tr>\n",
       "    <tr>\n",
       "      <th>253</th>\n",
       "      <td>225</td>\n",
       "      <td>louisiana</td>\n",
       "      <td>south</td>\n",
       "      <td>small market</td>\n",
       "      <td>40</td>\n",
       "      <td>66</td>\n",
       "      <td>112</td>\n",
       "      <td>47</td>\n",
       "      <td>67</td>\n",
       "      <td>42</td>\n",
       "      <td>-395</td>\n",
       "      <td>0</td>\n",
       "      <td>40</td>\n",
       "      <td>50</td>\n",
       "      <td>90</td>\n",
       "      <td>4</td>\n",
       "      <td>2011-01-07</td>\n",
       "      <td>2</td>\n",
       "      <td>caffe latte</td>\n",
       "      <td>0</td>\n",
       "    </tr>\n",
       "    <tr>\n",
       "      <th>254</th>\n",
       "      <td>225</td>\n",
       "      <td>louisiana</td>\n",
       "      <td>south</td>\n",
       "      <td>small market</td>\n",
       "      <td>40</td>\n",
       "      <td>76</td>\n",
       "      <td>140</td>\n",
       "      <td>55</td>\n",
       "      <td>79</td>\n",
       "      <td>49</td>\n",
       "      <td>-1053</td>\n",
       "      <td>0</td>\n",
       "      <td>40</td>\n",
       "      <td>60</td>\n",
       "      <td>100</td>\n",
       "      <td>4</td>\n",
       "      <td>2011-01-12</td>\n",
       "      <td>2</td>\n",
       "      <td>caffe latte</td>\n",
       "      <td>0</td>\n",
       "    </tr>\n",
       "    <tr>\n",
       "      <th>347</th>\n",
       "      <td>254</td>\n",
       "      <td>texas</td>\n",
       "      <td>south</td>\n",
       "      <td>major market</td>\n",
       "      <td>44</td>\n",
       "      <td>96</td>\n",
       "      <td>160</td>\n",
       "      <td>64</td>\n",
       "      <td>52</td>\n",
       "      <td>21</td>\n",
       "      <td>-161</td>\n",
       "      <td>50</td>\n",
       "      <td>50</td>\n",
       "      <td>80</td>\n",
       "      <td>130</td>\n",
       "      <td>4</td>\n",
       "      <td>2010-01-05</td>\n",
       "      <td>2</td>\n",
       "      <td>caffe latte</td>\n",
       "      <td>0</td>\n",
       "    </tr>\n",
       "    <tr>\n",
       "      <th>424</th>\n",
       "      <td>281</td>\n",
       "      <td>texas</td>\n",
       "      <td>south</td>\n",
       "      <td>major market</td>\n",
       "      <td>30</td>\n",
       "      <td>79</td>\n",
       "      <td>131</td>\n",
       "      <td>52</td>\n",
       "      <td>49</td>\n",
       "      <td>17</td>\n",
       "      <td>-456</td>\n",
       "      <td>40</td>\n",
       "      <td>40</td>\n",
       "      <td>70</td>\n",
       "      <td>110</td>\n",
       "      <td>4</td>\n",
       "      <td>2010-01-07</td>\n",
       "      <td>2</td>\n",
       "      <td>caffe latte</td>\n",
       "      <td>0</td>\n",
       "    </tr>\n",
       "    <tr>\n",
       "      <th>...</th>\n",
       "      <td>...</td>\n",
       "      <td>...</td>\n",
       "      <td>...</td>\n",
       "      <td>...</td>\n",
       "      <td>...</td>\n",
       "      <td>...</td>\n",
       "      <td>...</td>\n",
       "      <td>...</td>\n",
       "      <td>...</td>\n",
       "      <td>...</td>\n",
       "      <td>...</td>\n",
       "      <td>...</td>\n",
       "      <td>...</td>\n",
       "      <td>...</td>\n",
       "      <td>...</td>\n",
       "      <td>...</td>\n",
       "      <td>...</td>\n",
       "      <td>...</td>\n",
       "      <td>...</td>\n",
       "      <td>...</td>\n",
       "    </tr>\n",
       "    <tr>\n",
       "      <th>4242</th>\n",
       "      <td>985</td>\n",
       "      <td>louisiana</td>\n",
       "      <td>south</td>\n",
       "      <td>small market</td>\n",
       "      <td>3</td>\n",
       "      <td>90</td>\n",
       "      <td>154</td>\n",
       "      <td>64</td>\n",
       "      <td>87</td>\n",
       "      <td>58</td>\n",
       "      <td>-113</td>\n",
       "      <td>10</td>\n",
       "      <td>50</td>\n",
       "      <td>80</td>\n",
       "      <td>130</td>\n",
       "      <td>4</td>\n",
       "      <td>2010-01-05</td>\n",
       "      <td>2</td>\n",
       "      <td>caffe latte</td>\n",
       "      <td>0</td>\n",
       "    </tr>\n",
       "    <tr>\n",
       "      <th>4243</th>\n",
       "      <td>985</td>\n",
       "      <td>louisiana</td>\n",
       "      <td>south</td>\n",
       "      <td>small market</td>\n",
       "      <td>40</td>\n",
       "      <td>66</td>\n",
       "      <td>113</td>\n",
       "      <td>47</td>\n",
       "      <td>72</td>\n",
       "      <td>42</td>\n",
       "      <td>-395</td>\n",
       "      <td>0</td>\n",
       "      <td>40</td>\n",
       "      <td>50</td>\n",
       "      <td>90</td>\n",
       "      <td>4</td>\n",
       "      <td>2010-01-07</td>\n",
       "      <td>2</td>\n",
       "      <td>caffe latte</td>\n",
       "      <td>0</td>\n",
       "    </tr>\n",
       "    <tr>\n",
       "      <th>4244</th>\n",
       "      <td>985</td>\n",
       "      <td>louisiana</td>\n",
       "      <td>south</td>\n",
       "      <td>small market</td>\n",
       "      <td>40</td>\n",
       "      <td>61</td>\n",
       "      <td>105</td>\n",
       "      <td>44</td>\n",
       "      <td>68</td>\n",
       "      <td>39</td>\n",
       "      <td>-508</td>\n",
       "      <td>10</td>\n",
       "      <td>30</td>\n",
       "      <td>60</td>\n",
       "      <td>90</td>\n",
       "      <td>4</td>\n",
       "      <td>2010-01-08</td>\n",
       "      <td>2</td>\n",
       "      <td>caffe latte</td>\n",
       "      <td>0</td>\n",
       "    </tr>\n",
       "    <tr>\n",
       "      <th>4245</th>\n",
       "      <td>985</td>\n",
       "      <td>louisiana</td>\n",
       "      <td>south</td>\n",
       "      <td>small market</td>\n",
       "      <td>40</td>\n",
       "      <td>76</td>\n",
       "      <td>131</td>\n",
       "      <td>55</td>\n",
       "      <td>79</td>\n",
       "      <td>49</td>\n",
       "      <td>-1053</td>\n",
       "      <td>0</td>\n",
       "      <td>40</td>\n",
       "      <td>60</td>\n",
       "      <td>100</td>\n",
       "      <td>4</td>\n",
       "      <td>2010-01-12</td>\n",
       "      <td>2</td>\n",
       "      <td>caffe latte</td>\n",
       "      <td>0</td>\n",
       "    </tr>\n",
       "    <tr>\n",
       "      <th>4247</th>\n",
       "      <td>985</td>\n",
       "      <td>louisiana</td>\n",
       "      <td>south</td>\n",
       "      <td>small market</td>\n",
       "      <td>4</td>\n",
       "      <td>90</td>\n",
       "      <td>153</td>\n",
       "      <td>64</td>\n",
       "      <td>81</td>\n",
       "      <td>58</td>\n",
       "      <td>-113</td>\n",
       "      <td>10</td>\n",
       "      <td>50</td>\n",
       "      <td>80</td>\n",
       "      <td>130</td>\n",
       "      <td>4</td>\n",
       "      <td>2011-01-05</td>\n",
       "      <td>2</td>\n",
       "      <td>caffe latte</td>\n",
       "      <td>0</td>\n",
       "    </tr>\n",
       "  </tbody>\n",
       "</table>\n",
       "<p>88 rows × 20 columns</p>\n",
       "</div>"
      ],
      "text/plain": [
       "      Area_code      State Market   Market_size  Profit  Margin  Sales  COGS  \\\n",
       "252         225  louisiana  south  small market      40      75    127    53   \n",
       "253         225  louisiana  south  small market      40      66    112    47   \n",
       "254         225  louisiana  south  small market      40      76    140    55   \n",
       "347         254      texas  south  major market      44      96    160    64   \n",
       "424         281      texas  south  major market      30      79    131    52   \n",
       "...         ...        ...    ...           ...     ...     ...    ...   ...   \n",
       "4242        985  louisiana  south  small market       3      90    154    64   \n",
       "4243        985  louisiana  south  small market      40      66    113    47   \n",
       "4244        985  louisiana  south  small market      40      61    105    44   \n",
       "4245        985  louisiana  south  small market      40      76    131    55   \n",
       "4247        985  louisiana  south  small market       4      90    153    64   \n",
       "\n",
       "      Total_expenses  Marketing  Inventory  Budget_profit  Budget_COGS  \\\n",
       "252               73         48       -267             10           40   \n",
       "253               67         42       -395              0           40   \n",
       "254               79         49      -1053              0           40   \n",
       "347               52         21       -161             50           50   \n",
       "424               49         17       -456             40           40   \n",
       "...              ...        ...        ...            ...          ...   \n",
       "4242              87         58       -113             10           50   \n",
       "4243              72         42       -395              0           40   \n",
       "4244              68         39       -508             10           30   \n",
       "4245              79         49      -1053              0           40   \n",
       "4247              81         58       -113             10           50   \n",
       "\n",
       "      Budget_margin  Budget_sales  Product_ID       Date  Product_type  \\\n",
       "252              70           110           4 2011-01-06             2   \n",
       "253              50            90           4 2011-01-07             2   \n",
       "254              60           100           4 2011-01-12             2   \n",
       "347              80           130           4 2010-01-05             2   \n",
       "424              70           110           4 2010-01-07             2   \n",
       "...             ...           ...         ...        ...           ...   \n",
       "4242             80           130           4 2010-01-05             2   \n",
       "4243             50            90           4 2010-01-07             2   \n",
       "4244             60            90           4 2010-01-08             2   \n",
       "4245             60           100           4 2010-01-12             2   \n",
       "4247             80           130           4 2011-01-05             2   \n",
       "\n",
       "          Product  Type  \n",
       "252   caffe latte     0  \n",
       "253   caffe latte     0  \n",
       "254   caffe latte     0  \n",
       "347   caffe latte     0  \n",
       "424   caffe latte     0  \n",
       "...           ...   ...  \n",
       "4242  caffe latte     0  \n",
       "4243  caffe latte     0  \n",
       "4244  caffe latte     0  \n",
       "4245  caffe latte     0  \n",
       "4247  caffe latte     0  \n",
       "\n",
       "[88 rows x 20 columns]"
      ]
     },
     "execution_count": 14,
     "metadata": {},
     "output_type": "execute_result"
    }
   ],
   "source": [
    "# Verificación variables negativas Inventory \n",
    "df_2 = df.loc[df[\"Inventory\"]< 0] \n",
    "df_2"
   ]
  },
  {
   "cell_type": "code",
   "execution_count": 15,
   "id": "a69ab1ed",
   "metadata": {
    "execution": {
     "iopub.execute_input": "2022-12-22T17:01:36.161684Z",
     "iopub.status.busy": "2022-12-22T17:01:36.161341Z",
     "iopub.status.idle": "2022-12-22T17:01:36.331447Z",
     "shell.execute_reply": "2022-12-22T17:01:36.330304Z"
    },
    "papermill": {
     "duration": 0.188463,
     "end_time": "2022-12-22T17:01:36.334378",
     "exception": false,
     "start_time": "2022-12-22T17:01:36.145915",
     "status": "completed"
    },
    "tags": []
   },
   "outputs": [
    {
     "data": {
      "text/html": [
       "<div>\n",
       "<style scoped>\n",
       "    .dataframe tbody tr th:only-of-type {\n",
       "        vertical-align: middle;\n",
       "    }\n",
       "\n",
       "    .dataframe tbody tr th {\n",
       "        vertical-align: top;\n",
       "    }\n",
       "\n",
       "    .dataframe thead th {\n",
       "        text-align: right;\n",
       "    }\n",
       "</style>\n",
       "<table border=\"1\" class=\"dataframe\">\n",
       "  <thead>\n",
       "    <tr style=\"text-align: right;\">\n",
       "      <th></th>\n",
       "      <th>0</th>\n",
       "    </tr>\n",
       "  </thead>\n",
       "  <tbody>\n",
       "    <tr>\n",
       "      <th>mean</th>\n",
       "      <td>749.381356</td>\n",
       "    </tr>\n",
       "    <tr>\n",
       "      <th>Median</th>\n",
       "      <td>619.0</td>\n",
       "    </tr>\n",
       "    <tr>\n",
       "      <th>Mode</th>\n",
       "      <td>0    777\n",
       "dtype: int64</td>\n",
       "    </tr>\n",
       "  </tbody>\n",
       "</table>\n",
       "</div>"
      ],
      "text/plain": [
       "                            0\n",
       "mean               749.381356\n",
       "Median                  619.0\n",
       "Mode    0    777\n",
       "dtype: int64"
      ]
     },
     "execution_count": 15,
     "metadata": {},
     "output_type": "execute_result"
    },
    {
     "data": {
      "image/png": "[encoded data removed]",
      "text/plain": [
       "<Figure size 432x288 with 1 Axes>"
      ]
     },
     "metadata": {
      "needs_background": "light"
     },
     "output_type": "display_data"
    }
   ],
   "source": [
    "#Verificación sesgo Inventory \n",
    "x = df.Inventory\n",
    "plt.hist(x)\n",
    "plt.show\n",
    "mean = df.Inventory.mean()\n",
    "median =df.Inventory.median()\n",
    "mode = df.Inventory.mode()\n",
    "\n",
    "Columns = [\"mean\",\"Median\",\"Mode\"]\n",
    "rows = [mean, median, mode]\n",
    "data_I = pd.DataFrame(rows, Columns)\n",
    "data_I"
   ]
  },
  {
   "cell_type": "code",
   "execution_count": 16,
   "id": "7956f23d",
   "metadata": {
    "execution": {
     "iopub.execute_input": "2022-12-22T17:01:36.366356Z",
     "iopub.status.busy": "2022-12-22T17:01:36.365894Z",
     "iopub.status.idle": "2022-12-22T17:01:36.373939Z",
     "shell.execute_reply": "2022-12-22T17:01:36.372757Z"
    },
    "papermill": {
     "duration": 0.026549,
     "end_time": "2022-12-22T17:01:36.376350",
     "exception": false,
     "start_time": "2022-12-22T17:01:36.349801",
     "status": "completed"
    },
    "tags": []
   },
   "outputs": [],
   "source": [
    "#Reemplazando valores negativos por la mediana variable Inventory \n",
    "df.loc[df['Inventory'] <0, 'Inventory'] = df.Profit.median()"
   ]
  },
  {
   "cell_type": "markdown",
   "id": "02c7b149",
   "metadata": {
    "papermill": {
     "duration": 0.01501,
     "end_time": "2022-12-22T17:01:36.406559",
     "exception": false,
     "start_time": "2022-12-22T17:01:36.391549",
     "status": "completed"
    },
    "tags": []
   },
   "source": [
    "### Realizar analisis de correlaciones de las vaiables"
   ]
  },
  {
   "cell_type": "code",
   "execution_count": 17,
   "id": "c1094305",
   "metadata": {
    "execution": {
     "iopub.execute_input": "2022-12-22T17:01:36.437819Z",
     "iopub.status.busy": "2022-12-22T17:01:36.437487Z",
     "iopub.status.idle": "2022-12-22T17:01:36.452606Z",
     "shell.execute_reply": "2022-12-22T17:01:36.450910Z"
    },
    "papermill": {
     "duration": 0.033483,
     "end_time": "2022-12-22T17:01:36.455010",
     "exception": false,
     "start_time": "2022-12-22T17:01:36.421527",
     "status": "completed"
    },
    "tags": []
   },
   "outputs": [
    {
     "name": "stdout",
     "output_type": "stream",
     "text": [
      "<class 'pandas.core.frame.DataFrame'>\n",
      "RangeIndex: 4248 entries, 0 to 4247\n",
      "Data columns (total 20 columns):\n",
      " #   Column          Non-Null Count  Dtype         \n",
      "---  ------          --------------  -----         \n",
      " 0   Area_code       4248 non-null   int64         \n",
      " 1   State           4248 non-null   object        \n",
      " 2   Market          4248 non-null   object        \n",
      " 3   Market_size     4248 non-null   object        \n",
      " 4   Profit          4248 non-null   int64         \n",
      " 5   Margin          4248 non-null   int64         \n",
      " 6   Sales           4248 non-null   int64         \n",
      " 7   COGS            4248 non-null   int64         \n",
      " 8   Total_expenses  4248 non-null   int64         \n",
      " 9   Marketing       4248 non-null   int64         \n",
      " 10  Inventory       4248 non-null   int64         \n",
      " 11  Budget_profit   4248 non-null   int64         \n",
      " 12  Budget_COGS     4248 non-null   int64         \n",
      " 13  Budget_margin   4248 non-null   int64         \n",
      " 14  Budget_sales    4248 non-null   int64         \n",
      " 15  Product_ID      4248 non-null   int64         \n",
      " 16  Date            4248 non-null   datetime64[ns]\n",
      " 17  Product_type    4248 non-null   int64         \n",
      " 18  Product         4248 non-null   object        \n",
      " 19  Type            4248 non-null   int64         \n",
      "dtypes: datetime64[ns](1), int64(15), object(4)\n",
      "memory usage: 663.9+ KB\n"
     ]
    }
   ],
   "source": [
    "df.info()"
   ]
  },
  {
   "cell_type": "code",
   "execution_count": 18,
   "id": "abe1b96b",
   "metadata": {
    "execution": {
     "iopub.execute_input": "2022-12-22T17:01:36.487709Z",
     "iopub.status.busy": "2022-12-22T17:01:36.486655Z",
     "iopub.status.idle": "2022-12-22T17:01:36.535571Z",
     "shell.execute_reply": "2022-12-22T17:01:36.534414Z"
    },
    "papermill": {
     "duration": 0.067019,
     "end_time": "2022-12-22T17:01:36.537583",
     "exception": false,
     "start_time": "2022-12-22T17:01:36.470564",
     "status": "completed"
    },
    "tags": []
   },
   "outputs": [
    {
     "data": {
      "text/html": [
       "<div>\n",
       "<style scoped>\n",
       "    .dataframe tbody tr th:only-of-type {\n",
       "        vertical-align: middle;\n",
       "    }\n",
       "\n",
       "    .dataframe tbody tr th {\n",
       "        vertical-align: top;\n",
       "    }\n",
       "\n",
       "    .dataframe thead th {\n",
       "        text-align: right;\n",
       "    }\n",
       "</style>\n",
       "<table border=\"1\" class=\"dataframe\">\n",
       "  <thead>\n",
       "    <tr style=\"text-align: right;\">\n",
       "      <th></th>\n",
       "      <th>Area_code</th>\n",
       "      <th>Profit</th>\n",
       "      <th>Margin</th>\n",
       "      <th>Sales</th>\n",
       "      <th>COGS</th>\n",
       "      <th>Total_expenses</th>\n",
       "      <th>Marketing</th>\n",
       "      <th>Inventory</th>\n",
       "      <th>Budget_profit</th>\n",
       "      <th>Budget_COGS</th>\n",
       "      <th>Budget_margin</th>\n",
       "      <th>Budget_sales</th>\n",
       "      <th>Product_ID</th>\n",
       "      <th>Product_type</th>\n",
       "      <th>Type</th>\n",
       "    </tr>\n",
       "  </thead>\n",
       "  <tbody>\n",
       "    <tr>\n",
       "      <th>count</th>\n",
       "      <td>4248.000000</td>\n",
       "      <td>4248.000000</td>\n",
       "      <td>4248.000000</td>\n",
       "      <td>4248.000000</td>\n",
       "      <td>4248.000000</td>\n",
       "      <td>4248.000000</td>\n",
       "      <td>4248.000000</td>\n",
       "      <td>4248.000000</td>\n",
       "      <td>4248.000000</td>\n",
       "      <td>4248.000000</td>\n",
       "      <td>4248.000000</td>\n",
       "      <td>4248.000000</td>\n",
       "      <td>4248.000000</td>\n",
       "      <td>4248.000000</td>\n",
       "      <td>4248.000000</td>\n",
       "    </tr>\n",
       "    <tr>\n",
       "      <th>mean</th>\n",
       "      <td>582.278013</td>\n",
       "      <td>73.835923</td>\n",
       "      <td>104.293315</td>\n",
       "      <td>192.987524</td>\n",
       "      <td>84.433145</td>\n",
       "      <td>54.063559</td>\n",
       "      <td>31.185028</td>\n",
       "      <td>769.943974</td>\n",
       "      <td>60.913371</td>\n",
       "      <td>74.830508</td>\n",
       "      <td>100.819209</td>\n",
       "      <td>175.649718</td>\n",
       "      <td>6.887006</td>\n",
       "      <td>1.525424</td>\n",
       "      <td>0.435028</td>\n",
       "    </tr>\n",
       "    <tr>\n",
       "      <th>std</th>\n",
       "      <td>221.140310</td>\n",
       "      <td>81.705419</td>\n",
       "      <td>94.342522</td>\n",
       "      <td>151.133127</td>\n",
       "      <td>67.249769</td>\n",
       "      <td>32.352598</td>\n",
       "      <td>27.023264</td>\n",
       "      <td>609.060985</td>\n",
       "      <td>79.546123</td>\n",
       "      <td>66.238145</td>\n",
       "      <td>92.602725</td>\n",
       "      <td>148.891522</td>\n",
       "      <td>3.664072</td>\n",
       "      <td>1.115346</td>\n",
       "      <td>0.495819</td>\n",
       "    </tr>\n",
       "    <tr>\n",
       "      <th>min</th>\n",
       "      <td>203.000000</td>\n",
       "      <td>0.000000</td>\n",
       "      <td>-302.000000</td>\n",
       "      <td>17.000000</td>\n",
       "      <td>0.000000</td>\n",
       "      <td>10.000000</td>\n",
       "      <td>0.000000</td>\n",
       "      <td>9.000000</td>\n",
       "      <td>-320.000000</td>\n",
       "      <td>0.000000</td>\n",
       "      <td>-210.000000</td>\n",
       "      <td>0.000000</td>\n",
       "      <td>1.000000</td>\n",
       "      <td>0.000000</td>\n",
       "      <td>0.000000</td>\n",
       "    </tr>\n",
       "    <tr>\n",
       "      <th>25%</th>\n",
       "      <td>417.000000</td>\n",
       "      <td>28.000000</td>\n",
       "      <td>52.750000</td>\n",
       "      <td>100.000000</td>\n",
       "      <td>43.000000</td>\n",
       "      <td>33.000000</td>\n",
       "      <td>13.000000</td>\n",
       "      <td>432.000000</td>\n",
       "      <td>20.000000</td>\n",
       "      <td>30.000000</td>\n",
       "      <td>50.000000</td>\n",
       "      <td>80.000000</td>\n",
       "      <td>4.000000</td>\n",
       "      <td>1.000000</td>\n",
       "      <td>0.000000</td>\n",
       "    </tr>\n",
       "    <tr>\n",
       "      <th>50%</th>\n",
       "      <td>573.000000</td>\n",
       "      <td>40.000000</td>\n",
       "      <td>76.000000</td>\n",
       "      <td>138.000000</td>\n",
       "      <td>60.000000</td>\n",
       "      <td>46.000000</td>\n",
       "      <td>22.000000</td>\n",
       "      <td>619.000000</td>\n",
       "      <td>40.000000</td>\n",
       "      <td>50.000000</td>\n",
       "      <td>70.000000</td>\n",
       "      <td>130.000000</td>\n",
       "      <td>6.000000</td>\n",
       "      <td>2.000000</td>\n",
       "      <td>0.000000</td>\n",
       "    </tr>\n",
       "    <tr>\n",
       "      <th>75%</th>\n",
       "      <td>772.000000</td>\n",
       "      <td>92.000000</td>\n",
       "      <td>132.000000</td>\n",
       "      <td>230.000000</td>\n",
       "      <td>100.000000</td>\n",
       "      <td>65.000000</td>\n",
       "      <td>39.000000</td>\n",
       "      <td>910.500000</td>\n",
       "      <td>80.000000</td>\n",
       "      <td>90.000000</td>\n",
       "      <td>130.000000</td>\n",
       "      <td>210.000000</td>\n",
       "      <td>10.000000</td>\n",
       "      <td>2.000000</td>\n",
       "      <td>1.000000</td>\n",
       "    </tr>\n",
       "    <tr>\n",
       "      <th>max</th>\n",
       "      <td>985.000000</td>\n",
       "      <td>778.000000</td>\n",
       "      <td>613.000000</td>\n",
       "      <td>912.000000</td>\n",
       "      <td>364.000000</td>\n",
       "      <td>190.000000</td>\n",
       "      <td>156.000000</td>\n",
       "      <td>8252.000000</td>\n",
       "      <td>560.000000</td>\n",
       "      <td>450.000000</td>\n",
       "      <td>690.000000</td>\n",
       "      <td>1140.000000</td>\n",
       "      <td>13.000000</td>\n",
       "      <td>3.000000</td>\n",
       "      <td>1.000000</td>\n",
       "    </tr>\n",
       "  </tbody>\n",
       "</table>\n",
       "</div>"
      ],
      "text/plain": [
       "         Area_code       Profit       Margin        Sales         COGS  \\\n",
       "count  4248.000000  4248.000000  4248.000000  4248.000000  4248.000000   \n",
       "mean    582.278013    73.835923   104.293315   192.987524    84.433145   \n",
       "std     221.140310    81.705419    94.342522   151.133127    67.249769   \n",
       "min     203.000000     0.000000  -302.000000    17.000000     0.000000   \n",
       "25%     417.000000    28.000000    52.750000   100.000000    43.000000   \n",
       "50%     573.000000    40.000000    76.000000   138.000000    60.000000   \n",
       "75%     772.000000    92.000000   132.000000   230.000000   100.000000   \n",
       "max     985.000000   778.000000   613.000000   912.000000   364.000000   \n",
       "\n",
       "       Total_expenses    Marketing    Inventory  Budget_profit  Budget_COGS  \\\n",
       "count     4248.000000  4248.000000  4248.000000    4248.000000  4248.000000   \n",
       "mean        54.063559    31.185028   769.943974      60.913371    74.830508   \n",
       "std         32.352598    27.023264   609.060985      79.546123    66.238145   \n",
       "min         10.000000     0.000000     9.000000    -320.000000     0.000000   \n",
       "25%         33.000000    13.000000   432.000000      20.000000    30.000000   \n",
       "50%         46.000000    22.000000   619.000000      40.000000    50.000000   \n",
       "75%         65.000000    39.000000   910.500000      80.000000    90.000000   \n",
       "max        190.000000   156.000000  8252.000000     560.000000   450.000000   \n",
       "\n",
       "       Budget_margin  Budget_sales   Product_ID  Product_type         Type  \n",
       "count    4248.000000   4248.000000  4248.000000   4248.000000  4248.000000  \n",
       "mean      100.819209    175.649718     6.887006      1.525424     0.435028  \n",
       "std        92.602725    148.891522     3.664072      1.115346     0.495819  \n",
       "min      -210.000000      0.000000     1.000000      0.000000     0.000000  \n",
       "25%        50.000000     80.000000     4.000000      1.000000     0.000000  \n",
       "50%        70.000000    130.000000     6.000000      2.000000     0.000000  \n",
       "75%       130.000000    210.000000    10.000000      2.000000     1.000000  \n",
       "max       690.000000   1140.000000    13.000000      3.000000     1.000000  "
      ]
     },
     "execution_count": 18,
     "metadata": {},
     "output_type": "execute_result"
    }
   ],
   "source": [
    "df.describe()"
   ]
  },
  {
   "cell_type": "code",
   "execution_count": 19,
   "id": "63ec7c0b",
   "metadata": {
    "execution": {
     "iopub.execute_input": "2022-12-22T17:01:36.569374Z",
     "iopub.status.busy": "2022-12-22T17:01:36.569005Z",
     "iopub.status.idle": "2022-12-22T17:01:36.728812Z",
     "shell.execute_reply": "2022-12-22T17:01:36.727782Z"
    },
    "papermill": {
     "duration": 0.178247,
     "end_time": "2022-12-22T17:01:36.730938",
     "exception": false,
     "start_time": "2022-12-22T17:01:36.552691",
     "status": "completed"
    },
    "tags": []
   },
   "outputs": [
    {
     "data": {
      "text/plain": [
       "<function matplotlib.pyplot.show(close=None, block=None)>"
      ]
     },
     "execution_count": 19,
     "metadata": {},
     "output_type": "execute_result"
    },
    {
     "data": {
      "image/png": "[encoded data removed]",
      "text/plain": [
       "<Figure size 432x288 with 1 Axes>"
      ]
     },
     "metadata": {
      "needs_background": "light"
     },
     "output_type": "display_data"
    }
   ],
   "source": [
    "#Sesgo de Budget_profit\n",
    "x = df.Budget_profit\n",
    "plt.hist(x)\n",
    "plt.show"
   ]
  },
  {
   "cell_type": "code",
   "execution_count": 20,
   "id": "728b4303",
   "metadata": {
    "execution": {
     "iopub.execute_input": "2022-12-22T17:01:36.763180Z",
     "iopub.status.busy": "2022-12-22T17:01:36.762830Z",
     "iopub.status.idle": "2022-12-22T17:01:36.904468Z",
     "shell.execute_reply": "2022-12-22T17:01:36.903248Z"
    },
    "papermill": {
     "duration": 0.160198,
     "end_time": "2022-12-22T17:01:36.906567",
     "exception": false,
     "start_time": "2022-12-22T17:01:36.746369",
     "status": "completed"
    },
    "tags": []
   },
   "outputs": [
    {
     "data": {
      "text/plain": [
       "<function matplotlib.pyplot.show(close=None, block=None)>"
      ]
     },
     "execution_count": 20,
     "metadata": {},
     "output_type": "execute_result"
    },
    {
     "data": {
      "image/png": "[encoded data removed]",
      "text/plain": [
       "<Figure size 432x288 with 1 Axes>"
      ]
     },
     "metadata": {
      "needs_background": "light"
     },
     "output_type": "display_data"
    }
   ],
   "source": [
    "#Sesgo de Budget_margin\n",
    "x = df.Budget_margin\n",
    "plt.hist(x)\n",
    "plt.show"
   ]
  },
  {
   "cell_type": "markdown",
   "id": "2e55b15e",
   "metadata": {
    "papermill": {
     "duration": 0.016017,
     "end_time": "2022-12-22T17:01:36.938313",
     "exception": false,
     "start_time": "2022-12-22T17:01:36.922296",
     "status": "completed"
    },
    "tags": []
   },
   "source": [
    "<p><a name=\"corr\"></a></p>\n",
    "\n",
    "# Correlaciones "
   ]
  },
  {
   "cell_type": "code",
   "execution_count": 21,
   "id": "90ba6967",
   "metadata": {
    "execution": {
     "iopub.execute_input": "2022-12-22T17:01:36.971826Z",
     "iopub.status.busy": "2022-12-22T17:01:36.970980Z",
     "iopub.status.idle": "2022-12-22T17:01:36.996989Z",
     "shell.execute_reply": "2022-12-22T17:01:36.995739Z"
    },
    "papermill": {
     "duration": 0.044851,
     "end_time": "2022-12-22T17:01:36.999212",
     "exception": false,
     "start_time": "2022-12-22T17:01:36.954361",
     "status": "completed"
    },
    "tags": []
   },
   "outputs": [
    {
     "data": {
      "text/html": [
       "<div>\n",
       "<style scoped>\n",
       "    .dataframe tbody tr th:only-of-type {\n",
       "        vertical-align: middle;\n",
       "    }\n",
       "\n",
       "    .dataframe tbody tr th {\n",
       "        vertical-align: top;\n",
       "    }\n",
       "\n",
       "    .dataframe thead th {\n",
       "        text-align: right;\n",
       "    }\n",
       "</style>\n",
       "<table border=\"1\" class=\"dataframe\">\n",
       "  <thead>\n",
       "    <tr style=\"text-align: right;\">\n",
       "      <th></th>\n",
       "      <th>Area_code</th>\n",
       "      <th>Profit</th>\n",
       "      <th>Margin</th>\n",
       "      <th>Sales</th>\n",
       "      <th>COGS</th>\n",
       "      <th>Total_expenses</th>\n",
       "      <th>Marketing</th>\n",
       "      <th>Inventory</th>\n",
       "      <th>Budget_profit</th>\n",
       "      <th>Budget_COGS</th>\n",
       "      <th>Budget_margin</th>\n",
       "      <th>Budget_sales</th>\n",
       "      <th>Product_ID</th>\n",
       "      <th>Product_type</th>\n",
       "      <th>Type</th>\n",
       "    </tr>\n",
       "  </thead>\n",
       "  <tbody>\n",
       "    <tr>\n",
       "      <th>Area_code</th>\n",
       "      <td>1.000000</td>\n",
       "      <td>0.058233</td>\n",
       "      <td>0.029278</td>\n",
       "      <td>0.055220</td>\n",
       "      <td>0.080471</td>\n",
       "      <td>0.044552</td>\n",
       "      <td>0.051232</td>\n",
       "      <td>0.083227</td>\n",
       "      <td>0.011994</td>\n",
       "      <td>0.063720</td>\n",
       "      <td>0.022871</td>\n",
       "      <td>0.042572</td>\n",
       "      <td>0.024297</td>\n",
       "      <td>-0.005664</td>\n",
       "      <td>-0.006906</td>\n",
       "    </tr>\n",
       "    <tr>\n",
       "      <th>Profit</th>\n",
       "      <td>0.058233</td>\n",
       "      <td>1.000000</td>\n",
       "      <td>0.871402</td>\n",
       "      <td>0.889832</td>\n",
       "      <td>0.725140</td>\n",
       "      <td>0.449021</td>\n",
       "      <td>0.481544</td>\n",
       "      <td>0.332136</td>\n",
       "      <td>0.827730</td>\n",
       "      <td>0.703345</td>\n",
       "      <td>0.854126</td>\n",
       "      <td>0.844122</td>\n",
       "      <td>-0.037524</td>\n",
       "      <td>-0.052319</td>\n",
       "      <td>-0.060132</td>\n",
       "    </tr>\n",
       "    <tr>\n",
       "      <th>Margin</th>\n",
       "      <td>0.029278</td>\n",
       "      <td>0.871402</td>\n",
       "      <td>1.000000</td>\n",
       "      <td>0.938809</td>\n",
       "      <td>0.678797</td>\n",
       "      <td>0.521254</td>\n",
       "      <td>0.531947</td>\n",
       "      <td>0.124549</td>\n",
       "      <td>0.922812</td>\n",
       "      <td>0.680549</td>\n",
       "      <td>0.963460</td>\n",
       "      <td>0.901981</td>\n",
       "      <td>-0.079595</td>\n",
       "      <td>-0.029499</td>\n",
       "      <td>-0.041287</td>\n",
       "    </tr>\n",
       "    <tr>\n",
       "      <th>Sales</th>\n",
       "      <td>0.055220</td>\n",
       "      <td>0.889832</td>\n",
       "      <td>0.938809</td>\n",
       "      <td>1.000000</td>\n",
       "      <td>0.886651</td>\n",
       "      <td>0.689350</td>\n",
       "      <td>0.710515</td>\n",
       "      <td>0.388095</td>\n",
       "      <td>0.815435</td>\n",
       "      <td>0.862882</td>\n",
       "      <td>0.920757</td>\n",
       "      <td>0.956538</td>\n",
       "      <td>-0.048077</td>\n",
       "      <td>-0.014181</td>\n",
       "      <td>-0.028333</td>\n",
       "    </tr>\n",
       "    <tr>\n",
       "      <th>COGS</th>\n",
       "      <td>0.080471</td>\n",
       "      <td>0.725140</td>\n",
       "      <td>0.678797</td>\n",
       "      <td>0.886651</td>\n",
       "      <td>1.000000</td>\n",
       "      <td>0.782534</td>\n",
       "      <td>0.818271</td>\n",
       "      <td>0.668491</td>\n",
       "      <td>0.514967</td>\n",
       "      <td>0.947762</td>\n",
       "      <td>0.688587</td>\n",
       "      <td>0.849901</td>\n",
       "      <td>0.002142</td>\n",
       "      <td>0.010891</td>\n",
       "      <td>-0.002376</td>\n",
       "    </tr>\n",
       "    <tr>\n",
       "      <th>Total_expenses</th>\n",
       "      <td>0.044552</td>\n",
       "      <td>0.449021</td>\n",
       "      <td>0.521254</td>\n",
       "      <td>0.689350</td>\n",
       "      <td>0.782534</td>\n",
       "      <td>1.000000</td>\n",
       "      <td>0.966167</td>\n",
       "      <td>0.472340</td>\n",
       "      <td>0.255811</td>\n",
       "      <td>0.744259</td>\n",
       "      <td>0.530776</td>\n",
       "      <td>0.661217</td>\n",
       "      <td>-0.073369</td>\n",
       "      <td>-0.003027</td>\n",
       "      <td>-0.050237</td>\n",
       "    </tr>\n",
       "    <tr>\n",
       "      <th>Marketing</th>\n",
       "      <td>0.051232</td>\n",
       "      <td>0.481544</td>\n",
       "      <td>0.531947</td>\n",
       "      <td>0.710515</td>\n",
       "      <td>0.818271</td>\n",
       "      <td>0.966167</td>\n",
       "      <td>1.000000</td>\n",
       "      <td>0.534826</td>\n",
       "      <td>0.279315</td>\n",
       "      <td>0.773709</td>\n",
       "      <td>0.543039</td>\n",
       "      <td>0.681946</td>\n",
       "      <td>-0.042227</td>\n",
       "      <td>0.027757</td>\n",
       "      <td>-0.035181</td>\n",
       "    </tr>\n",
       "    <tr>\n",
       "      <th>Inventory</th>\n",
       "      <td>0.083227</td>\n",
       "      <td>0.332136</td>\n",
       "      <td>0.124549</td>\n",
       "      <td>0.388095</td>\n",
       "      <td>0.668491</td>\n",
       "      <td>0.472340</td>\n",
       "      <td>0.534826</td>\n",
       "      <td>1.000000</td>\n",
       "      <td>0.038357</td>\n",
       "      <td>0.619788</td>\n",
       "      <td>0.178819</td>\n",
       "      <td>0.386944</td>\n",
       "      <td>0.038843</td>\n",
       "      <td>-0.021147</td>\n",
       "      <td>0.028295</td>\n",
       "    </tr>\n",
       "    <tr>\n",
       "      <th>Budget_profit</th>\n",
       "      <td>0.011994</td>\n",
       "      <td>0.827730</td>\n",
       "      <td>0.922812</td>\n",
       "      <td>0.815435</td>\n",
       "      <td>0.514967</td>\n",
       "      <td>0.255811</td>\n",
       "      <td>0.279315</td>\n",
       "      <td>0.038357</td>\n",
       "      <td>1.000000</td>\n",
       "      <td>0.579176</td>\n",
       "      <td>0.949637</td>\n",
       "      <td>0.848285</td>\n",
       "      <td>-0.147758</td>\n",
       "      <td>-0.080941</td>\n",
       "      <td>-0.031808</td>\n",
       "    </tr>\n",
       "    <tr>\n",
       "      <th>Budget_COGS</th>\n",
       "      <td>0.063720</td>\n",
       "      <td>0.703345</td>\n",
       "      <td>0.680549</td>\n",
       "      <td>0.862882</td>\n",
       "      <td>0.947762</td>\n",
       "      <td>0.744259</td>\n",
       "      <td>0.773709</td>\n",
       "      <td>0.619788</td>\n",
       "      <td>0.579176</td>\n",
       "      <td>1.000000</td>\n",
       "      <td>0.750422</td>\n",
       "      <td>0.911598</td>\n",
       "      <td>-0.156683</td>\n",
       "      <td>-0.085994</td>\n",
       "      <td>-0.009656</td>\n",
       "    </tr>\n",
       "    <tr>\n",
       "      <th>Budget_margin</th>\n",
       "      <td>0.022871</td>\n",
       "      <td>0.854126</td>\n",
       "      <td>0.963460</td>\n",
       "      <td>0.920757</td>\n",
       "      <td>0.688587</td>\n",
       "      <td>0.530776</td>\n",
       "      <td>0.543039</td>\n",
       "      <td>0.178819</td>\n",
       "      <td>0.949637</td>\n",
       "      <td>0.750422</td>\n",
       "      <td>1.000000</td>\n",
       "      <td>0.955792</td>\n",
       "      <td>-0.175297</td>\n",
       "      <td>-0.089567</td>\n",
       "      <td>-0.051457</td>\n",
       "    </tr>\n",
       "    <tr>\n",
       "      <th>Budget_sales</th>\n",
       "      <td>0.042572</td>\n",
       "      <td>0.844122</td>\n",
       "      <td>0.901981</td>\n",
       "      <td>0.956538</td>\n",
       "      <td>0.849901</td>\n",
       "      <td>0.661217</td>\n",
       "      <td>0.681946</td>\n",
       "      <td>0.386944</td>\n",
       "      <td>0.848285</td>\n",
       "      <td>0.911598</td>\n",
       "      <td>0.955792</td>\n",
       "      <td>1.000000</td>\n",
       "      <td>-0.178730</td>\n",
       "      <td>-0.093963</td>\n",
       "      <td>-0.036299</td>\n",
       "    </tr>\n",
       "    <tr>\n",
       "      <th>Product_ID</th>\n",
       "      <td>0.024297</td>\n",
       "      <td>-0.037524</td>\n",
       "      <td>-0.079595</td>\n",
       "      <td>-0.048077</td>\n",
       "      <td>0.002142</td>\n",
       "      <td>-0.073369</td>\n",
       "      <td>-0.042227</td>\n",
       "      <td>0.038843</td>\n",
       "      <td>-0.147758</td>\n",
       "      <td>-0.156683</td>\n",
       "      <td>-0.175297</td>\n",
       "      <td>-0.178730</td>\n",
       "      <td>1.000000</td>\n",
       "      <td>0.412774</td>\n",
       "      <td>0.023953</td>\n",
       "    </tr>\n",
       "    <tr>\n",
       "      <th>Product_type</th>\n",
       "      <td>-0.005664</td>\n",
       "      <td>-0.052319</td>\n",
       "      <td>-0.029499</td>\n",
       "      <td>-0.014181</td>\n",
       "      <td>0.010891</td>\n",
       "      <td>-0.003027</td>\n",
       "      <td>0.027757</td>\n",
       "      <td>-0.021147</td>\n",
       "      <td>-0.080941</td>\n",
       "      <td>-0.085994</td>\n",
       "      <td>-0.089567</td>\n",
       "      <td>-0.093963</td>\n",
       "      <td>0.412774</td>\n",
       "      <td>1.000000</td>\n",
       "      <td>0.496041</td>\n",
       "    </tr>\n",
       "    <tr>\n",
       "      <th>Type</th>\n",
       "      <td>-0.006906</td>\n",
       "      <td>-0.060132</td>\n",
       "      <td>-0.041287</td>\n",
       "      <td>-0.028333</td>\n",
       "      <td>-0.002376</td>\n",
       "      <td>-0.050237</td>\n",
       "      <td>-0.035181</td>\n",
       "      <td>0.028295</td>\n",
       "      <td>-0.031808</td>\n",
       "      <td>-0.009656</td>\n",
       "      <td>-0.051457</td>\n",
       "      <td>-0.036299</td>\n",
       "      <td>0.023953</td>\n",
       "      <td>0.496041</td>\n",
       "      <td>1.000000</td>\n",
       "    </tr>\n",
       "  </tbody>\n",
       "</table>\n",
       "</div>"
      ],
      "text/plain": [
       "                Area_code    Profit    Margin     Sales      COGS  \\\n",
       "Area_code        1.000000  0.058233  0.029278  0.055220  0.080471   \n",
       "Profit           0.058233  1.000000  0.871402  0.889832  0.725140   \n",
       "Margin           0.029278  0.871402  1.000000  0.938809  0.678797   \n",
       "Sales            0.055220  0.889832  0.938809  1.000000  0.886651   \n",
       "COGS             0.080471  0.725140  0.678797  0.886651  1.000000   \n",
       "Total_expenses   0.044552  0.449021  0.521254  0.689350  0.782534   \n",
       "Marketing        0.051232  0.481544  0.531947  0.710515  0.818271   \n",
       "Inventory        0.083227  0.332136  0.124549  0.388095  0.668491   \n",
       "Budget_profit    0.011994  0.827730  0.922812  0.815435  0.514967   \n",
       "Budget_COGS      0.063720  0.703345  0.680549  0.862882  0.947762   \n",
       "Budget_margin    0.022871  0.854126  0.963460  0.920757  0.688587   \n",
       "Budget_sales     0.042572  0.844122  0.901981  0.956538  0.849901   \n",
       "Product_ID       0.024297 -0.037524 -0.079595 -0.048077  0.002142   \n",
       "Product_type    -0.005664 -0.052319 -0.029499 -0.014181  0.010891   \n",
       "Type            -0.006906 -0.060132 -0.041287 -0.028333 -0.002376   \n",
       "\n",
       "                Total_expenses  Marketing  Inventory  Budget_profit  \\\n",
       "Area_code             0.044552   0.051232   0.083227       0.011994   \n",
       "Profit                0.449021   0.481544   0.332136       0.827730   \n",
       "Margin                0.521254   0.531947   0.124549       0.922812   \n",
       "Sales                 0.689350   0.710515   0.388095       0.815435   \n",
       "COGS                  0.782534   0.818271   0.668491       0.514967   \n",
       "Total_expenses        1.000000   0.966167   0.472340       0.255811   \n",
       "Marketing             0.966167   1.000000   0.534826       0.279315   \n",
       "Inventory             0.472340   0.534826   1.000000       0.038357   \n",
       "Budget_profit         0.255811   0.279315   0.038357       1.000000   \n",
       "Budget_COGS           0.744259   0.773709   0.619788       0.579176   \n",
       "Budget_margin         0.530776   0.543039   0.178819       0.949637   \n",
       "Budget_sales          0.661217   0.681946   0.386944       0.848285   \n",
       "Product_ID           -0.073369  -0.042227   0.038843      -0.147758   \n",
       "Product_type         -0.003027   0.027757  -0.021147      -0.080941   \n",
       "Type                 -0.050237  -0.035181   0.028295      -0.031808   \n",
       "\n",
       "                Budget_COGS  Budget_margin  Budget_sales  Product_ID  \\\n",
       "Area_code          0.063720       0.022871      0.042572    0.024297   \n",
       "Profit             0.703345       0.854126      0.844122   -0.037524   \n",
       "Margin             0.680549       0.963460      0.901981   -0.079595   \n",
       "Sales              0.862882       0.920757      0.956538   -0.048077   \n",
       "COGS               0.947762       0.688587      0.849901    0.002142   \n",
       "Total_expenses     0.744259       0.530776      0.661217   -0.073369   \n",
       "Marketing          0.773709       0.543039      0.681946   -0.042227   \n",
       "Inventory          0.619788       0.178819      0.386944    0.038843   \n",
       "Budget_profit      0.579176       0.949637      0.848285   -0.147758   \n",
       "Budget_COGS        1.000000       0.750422      0.911598   -0.156683   \n",
       "Budget_margin      0.750422       1.000000      0.955792   -0.175297   \n",
       "Budget_sales       0.911598       0.955792      1.000000   -0.178730   \n",
       "Product_ID        -0.156683      -0.175297     -0.178730    1.000000   \n",
       "Product_type      -0.085994      -0.089567     -0.093963    0.412774   \n",
       "Type              -0.009656      -0.051457     -0.036299    0.023953   \n",
       "\n",
       "                Product_type      Type  \n",
       "Area_code          -0.005664 -0.006906  \n",
       "Profit             -0.052319 -0.060132  \n",
       "Margin             -0.029499 -0.041287  \n",
       "Sales              -0.014181 -0.028333  \n",
       "COGS                0.010891 -0.002376  \n",
       "Total_expenses     -0.003027 -0.050237  \n",
       "Marketing           0.027757 -0.035181  \n",
       "Inventory          -0.021147  0.028295  \n",
       "Budget_profit      -0.080941 -0.031808  \n",
       "Budget_COGS        -0.085994 -0.009656  \n",
       "Budget_margin      -0.089567 -0.051457  \n",
       "Budget_sales       -0.093963 -0.036299  \n",
       "Product_ID          0.412774  0.023953  \n",
       "Product_type        1.000000  0.496041  \n",
       "Type                0.496041  1.000000  "
      ]
     },
     "execution_count": 21,
     "metadata": {},
     "output_type": "execute_result"
    }
   ],
   "source": [
    "#Tabla de correlaciones \n",
    "df.corr()"
   ]
  },
  {
   "cell_type": "code",
   "execution_count": 22,
   "id": "a1f147eb",
   "metadata": {
    "execution": {
     "iopub.execute_input": "2022-12-22T17:01:37.033515Z",
     "iopub.status.busy": "2022-12-22T17:01:37.033150Z",
     "iopub.status.idle": "2022-12-22T17:01:37.949619Z",
     "shell.execute_reply": "2022-12-22T17:01:37.948120Z"
    },
    "papermill": {
     "duration": 0.936334,
     "end_time": "2022-12-22T17:01:37.952014",
     "exception": false,
     "start_time": "2022-12-22T17:01:37.015680",
     "status": "completed"
    },
    "tags": []
   },
   "outputs": [
    {
     "data": {
      "text/plain": [
       "<AxesSubplot:>"
      ]
     },
     "execution_count": 22,
     "metadata": {},
     "output_type": "execute_result"
    },
    {
     "data": {
      "image/png": "[encoded data removed]",
      "text/plain": [
       "<Figure size 1440x720 with 2 Axes>"
      ]
     },
     "metadata": {
      "needs_background": "light"
     },
     "output_type": "display_data"
    }
   ],
   "source": [
    "\n",
    "#Mapa de calor correlacion de variables \n",
    "df_1 = df.iloc[:, 3:20]\n",
    "df_corr = df_1.corr()\n",
    "plt.figure(figsize=(20,10))\n",
    "sns.heatmap(df_corr, square=True, annot = True)\n"
   ]
  },
  {
   "cell_type": "markdown",
   "id": "a0fe9963",
   "metadata": {
    "papermill": {
     "duration": 0.0174,
     "end_time": "2022-12-22T17:01:37.988277",
     "exception": false,
     "start_time": "2022-12-22T17:01:37.970877",
     "status": "completed"
    },
    "tags": []
   },
   "source": [
    "<p><a name=\"selec\"></a></p>\n",
    "\n",
    "# Seleccion de variables para el modelo predictivo"
   ]
  },
  {
   "cell_type": "markdown",
   "id": "e27ffe61",
   "metadata": {
    "papermill": {
     "duration": 0.01751,
     "end_time": "2022-12-22T17:01:38.023247",
     "exception": false,
     "start_time": "2022-12-22T17:01:38.005737",
     "status": "completed"
    },
    "tags": []
   },
   "source": [
    "#### Las variables seleccionadas para el modelo de regresión lineal fueron : \n",
    "Inventory, Total_expenses, Marketing, Budget_pofit, Budget_COGS, Budget_margin, Budget-sales\n",
    "\n",
    "esto debido a la alta correlacion que tienen, es util para entrenar el modelo y poder quedar mas cerca de la predicción "
   ]
  },
  {
   "cell_type": "code",
   "execution_count": 23,
   "id": "76431942",
   "metadata": {
    "execution": {
     "iopub.execute_input": "2022-12-22T17:01:38.060856Z",
     "iopub.status.busy": "2022-12-22T17:01:38.060170Z",
     "iopub.status.idle": "2022-12-22T17:01:38.063703Z",
     "shell.execute_reply": "2022-12-22T17:01:38.063091Z"
    },
    "papermill": {
     "duration": 0.024541,
     "end_time": "2022-12-22T17:01:38.065525",
     "exception": false,
     "start_time": "2022-12-22T17:01:38.040984",
     "status": "completed"
    },
    "tags": []
   },
   "outputs": [],
   "source": [
    "#Variable         # Correlación       \n",
    "\n",
    "#Inventory            0.39                                               \n",
    "#Total_expenses       0.69\n",
    "#Marketing            0.71 \n",
    "#Budget_profit        0.82\n",
    "#Budget_COGS          0.86\n",
    "#Budget_margin        0.92                    \n",
    "#Budget_sales         0.96\n"
   ]
  },
  {
   "cell_type": "markdown",
   "id": "8d912962",
   "metadata": {
    "papermill": {
     "duration": 0.017398,
     "end_time": "2022-12-22T17:01:38.100612",
     "exception": false,
     "start_time": "2022-12-22T17:01:38.083214",
     "status": "completed"
    },
    "tags": []
   },
   "source": [
    "Se procede analizar graficamente cada variable seleccionada de la correlación con la variable Sales "
   ]
  },
  {
   "cell_type": "code",
   "execution_count": 24,
   "id": "546de8b1",
   "metadata": {
    "execution": {
     "iopub.execute_input": "2022-12-22T17:01:38.138251Z",
     "iopub.status.busy": "2022-12-22T17:01:38.137615Z",
     "iopub.status.idle": "2022-12-22T17:01:38.591313Z",
     "shell.execute_reply": "2022-12-22T17:01:38.590559Z"
    },
    "papermill": {
     "duration": 0.474983,
     "end_time": "2022-12-22T17:01:38.593304",
     "exception": false,
     "start_time": "2022-12-22T17:01:38.118321",
     "status": "completed"
    },
    "tags": []
   },
   "outputs": [
    {
     "name": "stdout",
     "output_type": "stream",
     "text": [
      "________________________________________\n"
     ]
    },
    {
     "data": {
      "text/html": [
       "<div>\n",
       "<style scoped>\n",
       "    .dataframe tbody tr th:only-of-type {\n",
       "        vertical-align: middle;\n",
       "    }\n",
       "\n",
       "    .dataframe tbody tr th {\n",
       "        vertical-align: top;\n",
       "    }\n",
       "\n",
       "    .dataframe thead th {\n",
       "        text-align: right;\n",
       "    }\n",
       "</style>\n",
       "<table border=\"1\" class=\"dataframe\">\n",
       "  <thead>\n",
       "    <tr style=\"text-align: right;\">\n",
       "      <th></th>\n",
       "      <th>Sales</th>\n",
       "      <th>Marketing</th>\n",
       "    </tr>\n",
       "  </thead>\n",
       "  <tbody>\n",
       "    <tr>\n",
       "      <th>Sales</th>\n",
       "      <td>1.000000</td>\n",
       "      <td>0.710515</td>\n",
       "    </tr>\n",
       "    <tr>\n",
       "      <th>Marketing</th>\n",
       "      <td>0.710515</td>\n",
       "      <td>1.000000</td>\n",
       "    </tr>\n",
       "  </tbody>\n",
       "</table>\n",
       "</div>"
      ],
      "text/plain": [
       "              Sales  Marketing\n",
       "Sales      1.000000   0.710515\n",
       "Marketing  0.710515   1.000000"
      ]
     },
     "execution_count": 24,
     "metadata": {},
     "output_type": "execute_result"
    },
    {
     "data": {
      "image/png": "[encoded data removed]",
      "text/plain": [
       "<Figure size 432x288 with 1 Axes>"
      ]
     },
     "metadata": {
      "needs_background": "light"
     },
     "output_type": "display_data"
    }
   ],
   "source": [
    "#Marketing\n",
    "sns.regplot(x =\"Sales\", y = \"Marketing\", data = df )\n",
    "plt.ylim(0,)\n",
    "print('_'*40)\n",
    "df[[\"Sales\", \"Marketing\"]].corr()"
   ]
  },
  {
   "cell_type": "code",
   "execution_count": 25,
   "id": "e2cf8a93",
   "metadata": {
    "execution": {
     "iopub.execute_input": "2022-12-22T17:01:38.631323Z",
     "iopub.status.busy": "2022-12-22T17:01:38.630966Z",
     "iopub.status.idle": "2022-12-22T17:01:39.082825Z",
     "shell.execute_reply": "2022-12-22T17:01:39.081849Z"
    },
    "papermill": {
     "duration": 0.472942,
     "end_time": "2022-12-22T17:01:39.084730",
     "exception": false,
     "start_time": "2022-12-22T17:01:38.611788",
     "status": "completed"
    },
    "tags": []
   },
   "outputs": [
    {
     "data": {
      "text/html": [
       "<div>\n",
       "<style scoped>\n",
       "    .dataframe tbody tr th:only-of-type {\n",
       "        vertical-align: middle;\n",
       "    }\n",
       "\n",
       "    .dataframe tbody tr th {\n",
       "        vertical-align: top;\n",
       "    }\n",
       "\n",
       "    .dataframe thead th {\n",
       "        text-align: right;\n",
       "    }\n",
       "</style>\n",
       "<table border=\"1\" class=\"dataframe\">\n",
       "  <thead>\n",
       "    <tr style=\"text-align: right;\">\n",
       "      <th></th>\n",
       "      <th>Sales</th>\n",
       "      <th>Budget_profit</th>\n",
       "    </tr>\n",
       "  </thead>\n",
       "  <tbody>\n",
       "    <tr>\n",
       "      <th>Sales</th>\n",
       "      <td>1.000000</td>\n",
       "      <td>0.815435</td>\n",
       "    </tr>\n",
       "    <tr>\n",
       "      <th>Budget_profit</th>\n",
       "      <td>0.815435</td>\n",
       "      <td>1.000000</td>\n",
       "    </tr>\n",
       "  </tbody>\n",
       "</table>\n",
       "</div>"
      ],
      "text/plain": [
       "                  Sales  Budget_profit\n",
       "Sales          1.000000       0.815435\n",
       "Budget_profit  0.815435       1.000000"
      ]
     },
     "execution_count": 25,
     "metadata": {},
     "output_type": "execute_result"
    },
    {
     "data": {
      "image/png": "[encoded data removed]",
      "text/plain": [
       "<Figure size 432x288 with 1 Axes>"
      ]
     },
     "metadata": {
      "needs_background": "light"
     },
     "output_type": "display_data"
    }
   ],
   "source": [
    "#Budget_profit\n",
    "sns.regplot(x =\"Sales\", y = \"Budget_profit\", data = df )\n",
    "plt.ylim(0,)\n",
    "df[[\"Sales\", \"Budget_profit\"]].corr()"
   ]
  },
  {
   "cell_type": "code",
   "execution_count": 26,
   "id": "d10d67a1",
   "metadata": {
    "execution": {
     "iopub.execute_input": "2022-12-22T17:01:39.125353Z",
     "iopub.status.busy": "2022-12-22T17:01:39.124099Z",
     "iopub.status.idle": "2022-12-22T17:01:39.578408Z",
     "shell.execute_reply": "2022-12-22T17:01:39.577650Z"
    },
    "papermill": {
     "duration": 0.476551,
     "end_time": "2022-12-22T17:01:39.580205",
     "exception": false,
     "start_time": "2022-12-22T17:01:39.103654",
     "status": "completed"
    },
    "tags": []
   },
   "outputs": [
    {
     "data": {
      "text/html": [
       "<div>\n",
       "<style scoped>\n",
       "    .dataframe tbody tr th:only-of-type {\n",
       "        vertical-align: middle;\n",
       "    }\n",
       "\n",
       "    .dataframe tbody tr th {\n",
       "        vertical-align: top;\n",
       "    }\n",
       "\n",
       "    .dataframe thead th {\n",
       "        text-align: right;\n",
       "    }\n",
       "</style>\n",
       "<table border=\"1\" class=\"dataframe\">\n",
       "  <thead>\n",
       "    <tr style=\"text-align: right;\">\n",
       "      <th></th>\n",
       "      <th>Sales</th>\n",
       "      <th>Total_expenses</th>\n",
       "    </tr>\n",
       "  </thead>\n",
       "  <tbody>\n",
       "    <tr>\n",
       "      <th>Sales</th>\n",
       "      <td>1.00000</td>\n",
       "      <td>0.68935</td>\n",
       "    </tr>\n",
       "    <tr>\n",
       "      <th>Total_expenses</th>\n",
       "      <td>0.68935</td>\n",
       "      <td>1.00000</td>\n",
       "    </tr>\n",
       "  </tbody>\n",
       "</table>\n",
       "</div>"
      ],
      "text/plain": [
       "                  Sales  Total_expenses\n",
       "Sales           1.00000         0.68935\n",
       "Total_expenses  0.68935         1.00000"
      ]
     },
     "execution_count": 26,
     "metadata": {},
     "output_type": "execute_result"
    },
    {
     "data": {
      "image/png": "[encoded data removed]",
      "text/plain": [
       "<Figure size 432x288 with 1 Axes>"
      ]
     },
     "metadata": {
      "needs_background": "light"
     },
     "output_type": "display_data"
    }
   ],
   "source": [
    "#Total_expenses\n",
    "sns.regplot(x =\"Sales\", y = \"Total_expenses\", data = df )\n",
    "plt.ylim(0,)\n",
    "df[[\"Sales\", \"Total_expenses\"]].corr()"
   ]
  },
  {
   "cell_type": "code",
   "execution_count": 27,
   "id": "e004fd44",
   "metadata": {
    "execution": {
     "iopub.execute_input": "2022-12-22T17:01:39.620716Z",
     "iopub.status.busy": "2022-12-22T17:01:39.620188Z",
     "iopub.status.idle": "2022-12-22T17:01:40.081753Z",
     "shell.execute_reply": "2022-12-22T17:01:40.080681Z"
    },
    "papermill": {
     "duration": 0.484195,
     "end_time": "2022-12-22T17:01:40.083592",
     "exception": false,
     "start_time": "2022-12-22T17:01:39.599397",
     "status": "completed"
    },
    "tags": []
   },
   "outputs": [
    {
     "data": {
      "text/html": [
       "<div>\n",
       "<style scoped>\n",
       "    .dataframe tbody tr th:only-of-type {\n",
       "        vertical-align: middle;\n",
       "    }\n",
       "\n",
       "    .dataframe tbody tr th {\n",
       "        vertical-align: top;\n",
       "    }\n",
       "\n",
       "    .dataframe thead th {\n",
       "        text-align: right;\n",
       "    }\n",
       "</style>\n",
       "<table border=\"1\" class=\"dataframe\">\n",
       "  <thead>\n",
       "    <tr style=\"text-align: right;\">\n",
       "      <th></th>\n",
       "      <th>Sales</th>\n",
       "      <th>Inventory</th>\n",
       "    </tr>\n",
       "  </thead>\n",
       "  <tbody>\n",
       "    <tr>\n",
       "      <th>Sales</th>\n",
       "      <td>1.000000</td>\n",
       "      <td>0.388095</td>\n",
       "    </tr>\n",
       "    <tr>\n",
       "      <th>Inventory</th>\n",
       "      <td>0.388095</td>\n",
       "      <td>1.000000</td>\n",
       "    </tr>\n",
       "  </tbody>\n",
       "</table>\n",
       "</div>"
      ],
      "text/plain": [
       "              Sales  Inventory\n",
       "Sales      1.000000   0.388095\n",
       "Inventory  0.388095   1.000000"
      ]
     },
     "execution_count": 27,
     "metadata": {},
     "output_type": "execute_result"
    },
    {
     "data": {
      "image/png": "[encoded data removed]",
      "text/plain": [
       "<Figure size 432x288 with 1 Axes>"
      ]
     },
     "metadata": {
      "needs_background": "light"
     },
     "output_type": "display_data"
    }
   ],
   "source": [
    "#Inventory \n",
    "sns.regplot(x =\"Sales\", y = \"Inventory\", data = df )\n",
    "plt.ylim(0,)\n",
    "df[[\"Sales\", \"Inventory\"]].corr()"
   ]
  },
  {
   "cell_type": "code",
   "execution_count": 28,
   "id": "583835a0",
   "metadata": {
    "execution": {
     "iopub.execute_input": "2022-12-22T17:01:40.124213Z",
     "iopub.status.busy": "2022-12-22T17:01:40.123842Z",
     "iopub.status.idle": "2022-12-22T17:01:40.575682Z",
     "shell.execute_reply": "2022-12-22T17:01:40.574452Z"
    },
    "papermill": {
     "duration": 0.475171,
     "end_time": "2022-12-22T17:01:40.578159",
     "exception": false,
     "start_time": "2022-12-22T17:01:40.102988",
     "status": "completed"
    },
    "tags": []
   },
   "outputs": [
    {
     "data": {
      "text/html": [
       "<div>\n",
       "<style scoped>\n",
       "    .dataframe tbody tr th:only-of-type {\n",
       "        vertical-align: middle;\n",
       "    }\n",
       "\n",
       "    .dataframe tbody tr th {\n",
       "        vertical-align: top;\n",
       "    }\n",
       "\n",
       "    .dataframe thead th {\n",
       "        text-align: right;\n",
       "    }\n",
       "</style>\n",
       "<table border=\"1\" class=\"dataframe\">\n",
       "  <thead>\n",
       "    <tr style=\"text-align: right;\">\n",
       "      <th></th>\n",
       "      <th>Sales</th>\n",
       "      <th>Budget_COGS</th>\n",
       "    </tr>\n",
       "  </thead>\n",
       "  <tbody>\n",
       "    <tr>\n",
       "      <th>Sales</th>\n",
       "      <td>1.000000</td>\n",
       "      <td>0.862882</td>\n",
       "    </tr>\n",
       "    <tr>\n",
       "      <th>Budget_COGS</th>\n",
       "      <td>0.862882</td>\n",
       "      <td>1.000000</td>\n",
       "    </tr>\n",
       "  </tbody>\n",
       "</table>\n",
       "</div>"
      ],
      "text/plain": [
       "                Sales  Budget_COGS\n",
       "Sales        1.000000     0.862882\n",
       "Budget_COGS  0.862882     1.000000"
      ]
     },
     "execution_count": 28,
     "metadata": {},
     "output_type": "execute_result"
    },
    {
     "data": {
      "image/png": "[encoded data removed]",
      "text/plain": [
       "<Figure size 432x288 with 1 Axes>"
      ]
     },
     "metadata": {
      "needs_background": "light"
     },
     "output_type": "display_data"
    }
   ],
   "source": [
    "#Budget_COGS\n",
    "\n",
    "sns.regplot(x =\"Sales\", y = \"Budget_COGS\", data = df )\n",
    "plt.ylim(0,)\n",
    "df[[\"Sales\", \"Budget_COGS\"]].corr()"
   ]
  },
  {
   "cell_type": "code",
   "execution_count": 29,
   "id": "6c0dd4a2",
   "metadata": {
    "execution": {
     "iopub.execute_input": "2022-12-22T17:01:40.619663Z",
     "iopub.status.busy": "2022-12-22T17:01:40.619047Z",
     "iopub.status.idle": "2022-12-22T17:01:41.063396Z",
     "shell.execute_reply": "2022-12-22T17:01:41.062723Z"
    },
    "papermill": {
     "duration": 0.467513,
     "end_time": "2022-12-22T17:01:41.065671",
     "exception": false,
     "start_time": "2022-12-22T17:01:40.598158",
     "status": "completed"
    },
    "tags": []
   },
   "outputs": [
    {
     "data": {
      "text/html": [
       "<div>\n",
       "<style scoped>\n",
       "    .dataframe tbody tr th:only-of-type {\n",
       "        vertical-align: middle;\n",
       "    }\n",
       "\n",
       "    .dataframe tbody tr th {\n",
       "        vertical-align: top;\n",
       "    }\n",
       "\n",
       "    .dataframe thead th {\n",
       "        text-align: right;\n",
       "    }\n",
       "</style>\n",
       "<table border=\"1\" class=\"dataframe\">\n",
       "  <thead>\n",
       "    <tr style=\"text-align: right;\">\n",
       "      <th></th>\n",
       "      <th>Sales</th>\n",
       "      <th>Budget_sales</th>\n",
       "    </tr>\n",
       "  </thead>\n",
       "  <tbody>\n",
       "    <tr>\n",
       "      <th>Sales</th>\n",
       "      <td>1.000000</td>\n",
       "      <td>0.956538</td>\n",
       "    </tr>\n",
       "    <tr>\n",
       "      <th>Budget_sales</th>\n",
       "      <td>0.956538</td>\n",
       "      <td>1.000000</td>\n",
       "    </tr>\n",
       "  </tbody>\n",
       "</table>\n",
       "</div>"
      ],
      "text/plain": [
       "                 Sales  Budget_sales\n",
       "Sales         1.000000      0.956538\n",
       "Budget_sales  0.956538      1.000000"
      ]
     },
     "execution_count": 29,
     "metadata": {},
     "output_type": "execute_result"
    },
    {
     "data": {
      "image/png": "[encoded data removed]",
      "text/plain": [
       "<Figure size 432x288 with 1 Axes>"
      ]
     },
     "metadata": {
      "needs_background": "light"
     },
     "output_type": "display_data"
    }
   ],
   "source": [
    "#Budget_sales\n",
    "sns.regplot(x =\"Sales\", y = \"Budget_sales\", data = df )\n",
    "plt.ylim(0,)\n",
    "df[[\"Sales\", \"Budget_sales\"]].corr()"
   ]
  },
  {
   "cell_type": "code",
   "execution_count": 30,
   "id": "c4039a87",
   "metadata": {
    "execution": {
     "iopub.execute_input": "2022-12-22T17:01:41.108685Z",
     "iopub.status.busy": "2022-12-22T17:01:41.108190Z",
     "iopub.status.idle": "2022-12-22T17:01:41.560703Z",
     "shell.execute_reply": "2022-12-22T17:01:41.559682Z"
    },
    "papermill": {
     "duration": 0.476418,
     "end_time": "2022-12-22T17:01:41.562799",
     "exception": false,
     "start_time": "2022-12-22T17:01:41.086381",
     "status": "completed"
    },
    "tags": []
   },
   "outputs": [
    {
     "data": {
      "text/html": [
       "<div>\n",
       "<style scoped>\n",
       "    .dataframe tbody tr th:only-of-type {\n",
       "        vertical-align: middle;\n",
       "    }\n",
       "\n",
       "    .dataframe tbody tr th {\n",
       "        vertical-align: top;\n",
       "    }\n",
       "\n",
       "    .dataframe thead th {\n",
       "        text-align: right;\n",
       "    }\n",
       "</style>\n",
       "<table border=\"1\" class=\"dataframe\">\n",
       "  <thead>\n",
       "    <tr style=\"text-align: right;\">\n",
       "      <th></th>\n",
       "      <th>Sales</th>\n",
       "      <th>Budget_margin</th>\n",
       "    </tr>\n",
       "  </thead>\n",
       "  <tbody>\n",
       "    <tr>\n",
       "      <th>Sales</th>\n",
       "      <td>1.000000</td>\n",
       "      <td>0.920757</td>\n",
       "    </tr>\n",
       "    <tr>\n",
       "      <th>Budget_margin</th>\n",
       "      <td>0.920757</td>\n",
       "      <td>1.000000</td>\n",
       "    </tr>\n",
       "  </tbody>\n",
       "</table>\n",
       "</div>"
      ],
      "text/plain": [
       "                  Sales  Budget_margin\n",
       "Sales          1.000000       0.920757\n",
       "Budget_margin  0.920757       1.000000"
      ]
     },
     "execution_count": 30,
     "metadata": {},
     "output_type": "execute_result"
    },
    {
     "data": {
      "image/png": "[encoded data removed]",
      "text/plain": [
       "<Figure size 432x288 with 1 Axes>"
      ]
     },
     "metadata": {
      "needs_background": "light"
     },
     "output_type": "display_data"
    }
   ],
   "source": [
    "#Budget_margin\n",
    "sns.regplot(x =\"Sales\", y = \"Budget_margin\", data = df )\n",
    "plt.ylim(0,)\n",
    "df[[\"Sales\", \"Budget_margin\"]].corr()"
   ]
  },
  {
   "cell_type": "markdown",
   "id": "64c7309e",
   "metadata": {
    "papermill": {
     "duration": 0.020867,
     "end_time": "2022-12-22T17:01:41.604625",
     "exception": false,
     "start_time": "2022-12-22T17:01:41.583758",
     "status": "completed"
    },
    "tags": []
   },
   "source": [
    "<p><a name=\"selmod\"></a></p>\n",
    "\n",
    "# Selección del modelo "
   ]
  },
  {
   "cell_type": "markdown",
   "id": "18988735",
   "metadata": {
    "papermill": {
     "duration": 0.020665,
     "end_time": "2022-12-22T17:01:41.646204",
     "exception": false,
     "start_time": "2022-12-22T17:01:41.625539",
     "status": "completed"
    },
    "tags": []
   },
   "source": [
    "Los modelos que se pueden utilizar para la predicción son : regresion lineal, vecinos mas cercaos y arbol de deciones \n",
    "\n",
    "Los veremos todos para asi cmprobar cual se ajusta mas "
   ]
  },
  {
   "cell_type": "code",
   "execution_count": 31,
   "id": "e3b9c621",
   "metadata": {
    "execution": {
     "iopub.execute_input": "2022-12-22T17:01:41.690618Z",
     "iopub.status.busy": "2022-12-22T17:01:41.690304Z",
     "iopub.status.idle": "2022-12-22T17:01:42.253240Z",
     "shell.execute_reply": "2022-12-22T17:01:42.252432Z"
    },
    "papermill": {
     "duration": 0.587558,
     "end_time": "2022-12-22T17:01:42.255647",
     "exception": false,
     "start_time": "2022-12-22T17:01:41.668089",
     "status": "completed"
    },
    "tags": []
   },
   "outputs": [],
   "source": [
    "# Algoritmos seleccionados \n",
    "from sklearn.linear_model import LinearRegression\n",
    "from sklearn.ensemble import GradientBoostingRegressor\n",
    "from sklearn.tree import DecisionTreeRegressor\n",
    "from sklearn import linear_model\n",
    "\n",
    "# Metricas \n",
    "from sklearn.model_selection import train_test_split"
   ]
  },
  {
   "cell_type": "markdown",
   "id": "c02f2caa",
   "metadata": {
    "papermill": {
     "duration": 0.020731,
     "end_time": "2022-12-22T17:01:42.297354",
     "exception": false,
     "start_time": "2022-12-22T17:01:42.276623",
     "status": "completed"
    },
    "tags": []
   },
   "source": [
    "#### Almacenamiento "
   ]
  },
  {
   "cell_type": "code",
   "execution_count": 32,
   "id": "20f45a1d",
   "metadata": {
    "execution": {
     "iopub.execute_input": "2022-12-22T17:01:42.341113Z",
     "iopub.status.busy": "2022-12-22T17:01:42.340741Z",
     "iopub.status.idle": "2022-12-22T17:01:42.346680Z",
     "shell.execute_reply": "2022-12-22T17:01:42.345892Z"
    },
    "papermill": {
     "duration": 0.030111,
     "end_time": "2022-12-22T17:01:42.348365",
     "exception": false,
     "start_time": "2022-12-22T17:01:42.318254",
     "status": "completed"
    },
    "tags": []
   },
   "outputs": [],
   "source": [
    "# Almacenar Variables seleccionadoas para el algoritmo \n",
    "Car_select =[\"Budget_margin\",\"Budget_sales\",\"Budget_COGS\",\"Inventory\",\"Total_expenses\",\"Budget_profit\", \"Marketing\"]\n",
    "#Almacenar la variable objetivo \n",
    "obj_select = df.Sales\n",
    "\n",
    "# Almacenar datos en variables pequeñas para manipular datos en el modelo \n",
    "X = df[Car_select]\n",
    "y = obj_select"
   ]
  },
  {
   "cell_type": "code",
   "execution_count": 33,
   "id": "d3a63259",
   "metadata": {
    "execution": {
     "iopub.execute_input": "2022-12-22T17:01:42.392087Z",
     "iopub.status.busy": "2022-12-22T17:01:42.391539Z",
     "iopub.status.idle": "2022-12-22T17:01:42.396818Z",
     "shell.execute_reply": "2022-12-22T17:01:42.396244Z"
    },
    "papermill": {
     "duration": 0.029085,
     "end_time": "2022-12-22T17:01:42.398517",
     "exception": false,
     "start_time": "2022-12-22T17:01:42.369432",
     "status": "completed"
    },
    "tags": []
   },
   "outputs": [],
   "source": [
    "X_train, X_test, y_test, y_train = train_test_split(X, y, test_size = 0.20, random_state = 42)"
   ]
  },
  {
   "cell_type": "markdown",
   "id": "d2b06d37",
   "metadata": {
    "papermill": {
     "duration": 0.021379,
     "end_time": "2022-12-22T17:01:42.440547",
     "exception": false,
     "start_time": "2022-12-22T17:01:42.419168",
     "status": "completed"
    },
    "tags": []
   },
   "source": [
    " ### Regresión lineal "
   ]
  },
  {
   "cell_type": "code",
   "execution_count": 34,
   "id": "d310fae8",
   "metadata": {
    "execution": {
     "iopub.execute_input": "2022-12-22T17:01:42.484273Z",
     "iopub.status.busy": "2022-12-22T17:01:42.483915Z",
     "iopub.status.idle": "2022-12-22T17:01:42.509791Z",
     "shell.execute_reply": "2022-12-22T17:01:42.509019Z"
    },
    "papermill": {
     "duration": 0.050532,
     "end_time": "2022-12-22T17:01:42.512030",
     "exception": false,
     "start_time": "2022-12-22T17:01:42.461498",
     "status": "completed"
    },
    "tags": []
   },
   "outputs": [
    {
     "data": {
      "text/plain": [
       "LinearRegression()"
      ]
     },
     "execution_count": 34,
     "metadata": {},
     "output_type": "execute_result"
    }
   ],
   "source": [
    "Reg_model = LinearRegression() \n",
    "Reg_model.fit (X,y)"
   ]
  },
  {
   "cell_type": "code",
   "execution_count": 35,
   "id": "eade551c",
   "metadata": {
    "execution": {
     "iopub.execute_input": "2022-12-22T17:01:42.555605Z",
     "iopub.status.busy": "2022-12-22T17:01:42.554605Z",
     "iopub.status.idle": "2022-12-22T17:01:42.562533Z",
     "shell.execute_reply": "2022-12-22T17:01:42.561829Z"
    },
    "papermill": {
     "duration": 0.031854,
     "end_time": "2022-12-22T17:01:42.564737",
     "exception": false,
     "start_time": "2022-12-22T17:01:42.532883",
     "status": "completed"
    },
    "tags": []
   },
   "outputs": [
    {
     "name": "stdout",
     "output_type": "stream",
     "text": [
      "[291.74581684 238.91409627 325.17077215 285.46887577 231.59853516]\n",
      "0    292\n",
      "1    225\n",
      "2    325\n",
      "3    289\n",
      "4    223\n",
      "Name: Sales, dtype: int64\n"
     ]
    }
   ],
   "source": [
    "print(Reg_model.predict(X.head()))\n",
    "print(df.Sales.head())"
   ]
  },
  {
   "cell_type": "code",
   "execution_count": 36,
   "id": "249eb2a0",
   "metadata": {
    "execution": {
     "iopub.execute_input": "2022-12-22T17:01:42.610004Z",
     "iopub.status.busy": "2022-12-22T17:01:42.609226Z",
     "iopub.status.idle": "2022-12-22T17:01:42.617483Z",
     "shell.execute_reply": "2022-12-22T17:01:42.616783Z"
    },
    "papermill": {
     "duration": 0.035459,
     "end_time": "2022-12-22T17:01:42.621848",
     "exception": false,
     "start_time": "2022-12-22T17:01:42.586389",
     "status": "completed"
    },
    "tags": []
   },
   "outputs": [
    {
     "data": {
      "text/plain": [
       "0.944160385961773"
      ]
     },
     "execution_count": 36,
     "metadata": {},
     "output_type": "execute_result"
    }
   ],
   "source": [
    "Reg_model.score(X,y)"
   ]
  },
  {
   "cell_type": "markdown",
   "id": "f19247ba",
   "metadata": {
    "papermill": {
     "duration": 0.027681,
     "end_time": "2022-12-22T17:01:42.677634",
     "exception": false,
     "start_time": "2022-12-22T17:01:42.649953",
     "status": "completed"
    },
    "tags": []
   },
   "source": [
    "### Arbol de decisiones"
   ]
  },
  {
   "cell_type": "code",
   "execution_count": 37,
   "id": "18dfaf1f",
   "metadata": {
    "execution": {
     "iopub.execute_input": "2022-12-22T17:01:42.734994Z",
     "iopub.status.busy": "2022-12-22T17:01:42.734675Z",
     "iopub.status.idle": "2022-12-22T17:01:42.753919Z",
     "shell.execute_reply": "2022-12-22T17:01:42.752981Z"
    },
    "papermill": {
     "duration": 0.04975,
     "end_time": "2022-12-22T17:01:42.755635",
     "exception": false,
     "start_time": "2022-12-22T17:01:42.705885",
     "status": "completed"
    },
    "tags": []
   },
   "outputs": [
    {
     "data": {
      "text/plain": [
       "DecisionTreeRegressor()"
      ]
     },
     "execution_count": 37,
     "metadata": {},
     "output_type": "execute_result"
    }
   ],
   "source": [
    "DT_model = DecisionTreeRegressor()\n",
    "DT_model.fit(X, y)"
   ]
  },
  {
   "cell_type": "code",
   "execution_count": 38,
   "id": "289e6c9e",
   "metadata": {
    "execution": {
     "iopub.execute_input": "2022-12-22T17:01:42.799869Z",
     "iopub.status.busy": "2022-12-22T17:01:42.798649Z",
     "iopub.status.idle": "2022-12-22T17:01:42.806643Z",
     "shell.execute_reply": "2022-12-22T17:01:42.805656Z"
    },
    "papermill": {
     "duration": 0.032357,
     "end_time": "2022-12-22T17:01:42.808920",
     "exception": false,
     "start_time": "2022-12-22T17:01:42.776563",
     "status": "completed"
    },
    "tags": []
   },
   "outputs": [
    {
     "name": "stdout",
     "output_type": "stream",
     "text": [
      "[301.5 225.  335.5 298.5 223. ]\n",
      "0    292\n",
      "1    225\n",
      "2    325\n",
      "3    289\n",
      "4    223\n",
      "Name: Sales, dtype: int64\n"
     ]
    }
   ],
   "source": [
    "print(DT_model.predict(X.head()))\n",
    "print(df.Sales.head())"
   ]
  },
  {
   "cell_type": "code",
   "execution_count": 39,
   "id": "5df2e96d",
   "metadata": {
    "execution": {
     "iopub.execute_input": "2022-12-22T17:01:42.853653Z",
     "iopub.status.busy": "2022-12-22T17:01:42.852537Z",
     "iopub.status.idle": "2022-12-22T17:01:42.861710Z",
     "shell.execute_reply": "2022-12-22T17:01:42.860356Z"
    },
    "papermill": {
     "duration": 0.034054,
     "end_time": "2022-12-22T17:01:42.864016",
     "exception": false,
     "start_time": "2022-12-22T17:01:42.829962",
     "status": "completed"
    },
    "tags": []
   },
   "outputs": [
    {
     "data": {
      "text/plain": [
       "0.9985195459635388"
      ]
     },
     "execution_count": 39,
     "metadata": {},
     "output_type": "execute_result"
    }
   ],
   "source": [
    "DT_model.score(X,y)"
   ]
  },
  {
   "cell_type": "markdown",
   "id": "f530a65c",
   "metadata": {
    "papermill": {
     "duration": 0.021848,
     "end_time": "2022-12-22T17:01:42.908225",
     "exception": false,
     "start_time": "2022-12-22T17:01:42.886377",
     "status": "completed"
    },
    "tags": []
   },
   "source": [
    "### Random Forest "
   ]
  },
  {
   "cell_type": "code",
   "execution_count": 40,
   "id": "7cc409c0",
   "metadata": {
    "execution": {
     "iopub.execute_input": "2022-12-22T17:01:42.952645Z",
     "iopub.status.busy": "2022-12-22T17:01:42.952298Z",
     "iopub.status.idle": "2022-12-22T17:01:43.323360Z",
     "shell.execute_reply": "2022-12-22T17:01:43.322625Z"
    },
    "papermill": {
     "duration": 0.395511,
     "end_time": "2022-12-22T17:01:43.325148",
     "exception": false,
     "start_time": "2022-12-22T17:01:42.929637",
     "status": "completed"
    },
    "tags": []
   },
   "outputs": [
    {
     "data": {
      "text/plain": [
       "GradientBoostingRegressor()"
      ]
     },
     "execution_count": 40,
     "metadata": {},
     "output_type": "execute_result"
    }
   ],
   "source": [
    "DG_model =GradientBoostingRegressor()\n",
    "DG_model.fit(X, y)"
   ]
  },
  {
   "cell_type": "code",
   "execution_count": 41,
   "id": "eb45f2fa",
   "metadata": {
    "execution": {
     "iopub.execute_input": "2022-12-22T17:01:43.370835Z",
     "iopub.status.busy": "2022-12-22T17:01:43.370252Z",
     "iopub.status.idle": "2022-12-22T17:01:43.377520Z",
     "shell.execute_reply": "2022-12-22T17:01:43.376381Z"
    },
    "papermill": {
     "duration": 0.032001,
     "end_time": "2022-12-22T17:01:43.379232",
     "exception": false,
     "start_time": "2022-12-22T17:01:43.347231",
     "status": "completed"
    },
    "tags": []
   },
   "outputs": [
    {
     "name": "stdout",
     "output_type": "stream",
     "text": [
      "[297.00565782 239.13313734 330.15455485 297.96405983 239.13313734]\n",
      "0    292\n",
      "1    225\n",
      "2    325\n",
      "3    289\n",
      "4    223\n",
      "Name: Sales, dtype: int64\n"
     ]
    }
   ],
   "source": [
    "print(DG_model.predict(X.head()))\n",
    "print(df.Sales.head())"
   ]
  },
  {
   "cell_type": "code",
   "execution_count": 42,
   "id": "377563fe",
   "metadata": {
    "execution": {
     "iopub.execute_input": "2022-12-22T17:01:43.423950Z",
     "iopub.status.busy": "2022-12-22T17:01:43.423416Z",
     "iopub.status.idle": "2022-12-22T17:01:43.435104Z",
     "shell.execute_reply": "2022-12-22T17:01:43.434259Z"
    },
    "papermill": {
     "duration": 0.036317,
     "end_time": "2022-12-22T17:01:43.437117",
     "exception": false,
     "start_time": "2022-12-22T17:01:43.400800",
     "status": "completed"
    },
    "tags": []
   },
   "outputs": [
    {
     "data": {
      "text/plain": [
       "0.9877034180789472"
      ]
     },
     "execution_count": 42,
     "metadata": {},
     "output_type": "execute_result"
    }
   ],
   "source": [
    "DG_model.score(X,y)"
   ]
  },
  {
   "cell_type": "markdown",
   "id": "af69dc86",
   "metadata": {
    "papermill": {
     "duration": 0.02221,
     "end_time": "2022-12-22T17:01:43.482197",
     "exception": false,
     "start_time": "2022-12-22T17:01:43.459987",
     "status": "completed"
    },
    "tags": []
   },
   "source": [
    "<p><a name=\"comp\"></a></p>\n",
    "\n",
    "## Comparación de predicciones "
   ]
  },
  {
   "cell_type": "code",
   "execution_count": 43,
   "id": "849804b0",
   "metadata": {
    "execution": {
     "iopub.execute_input": "2022-12-22T17:01:43.530029Z",
     "iopub.status.busy": "2022-12-22T17:01:43.529391Z",
     "iopub.status.idle": "2022-12-22T17:01:43.550967Z",
     "shell.execute_reply": "2022-12-22T17:01:43.550192Z"
    },
    "papermill": {
     "duration": 0.047498,
     "end_time": "2022-12-22T17:01:43.553300",
     "exception": false,
     "start_time": "2022-12-22T17:01:43.505802",
     "status": "completed"
    },
    "tags": []
   },
   "outputs": [],
   "source": [
    "y_pred = Reg_model.predict(X=df[[\"Budget_margin\",\"Budget_sales\",\"Budget_COGS\",\"Inventory\",\"Total_expenses\",\"Budget_profit\", \"Marketing\"]])\n",
    "y_pred1 = DT_model.predict(X=df[[\"Budget_margin\",\"Budget_sales\",\"Budget_COGS\",\"Inventory\",\"Total_expenses\",\"Budget_profit\", \"Marketing\"]])\n",
    "y_pred2 = DG_model.predict(X=df[[\"Budget_margin\",\"Budget_sales\",\"Budget_COGS\",\"Inventory\",\"Total_expenses\",\"Budget_profit\", \"Marketing\"]])\n",
    "\n",
    "df.insert (0, \"Pred_RL\",y_pred)\n",
    "df.insert (1, \"Pred_DT\",y_pred1)\n",
    "df.insert (2, \"Pred_DG\",y_pred2)"
   ]
  },
  {
   "cell_type": "code",
   "execution_count": 44,
   "id": "d03e22f2",
   "metadata": {
    "execution": {
     "iopub.execute_input": "2022-12-22T17:01:43.613737Z",
     "iopub.status.busy": "2022-12-22T17:01:43.613371Z",
     "iopub.status.idle": "2022-12-22T17:01:43.637724Z",
     "shell.execute_reply": "2022-12-22T17:01:43.636902Z"
    },
    "papermill": {
     "duration": 0.057581,
     "end_time": "2022-12-22T17:01:43.639623",
     "exception": false,
     "start_time": "2022-12-22T17:01:43.582042",
     "status": "completed"
    },
    "tags": []
   },
   "outputs": [
    {
     "data": {
      "text/html": [
       "<div>\n",
       "<style scoped>\n",
       "    .dataframe tbody tr th:only-of-type {\n",
       "        vertical-align: middle;\n",
       "    }\n",
       "\n",
       "    .dataframe tbody tr th {\n",
       "        vertical-align: top;\n",
       "    }\n",
       "\n",
       "    .dataframe thead th {\n",
       "        text-align: right;\n",
       "    }\n",
       "</style>\n",
       "<table border=\"1\" class=\"dataframe\">\n",
       "  <thead>\n",
       "    <tr style=\"text-align: right;\">\n",
       "      <th></th>\n",
       "      <th>Pred_RL</th>\n",
       "      <th>Pred_DT</th>\n",
       "      <th>Pred_DG</th>\n",
       "      <th>Area_code</th>\n",
       "      <th>State</th>\n",
       "      <th>Market</th>\n",
       "      <th>Market_size</th>\n",
       "      <th>Profit</th>\n",
       "      <th>Margin</th>\n",
       "      <th>Sales</th>\n",
       "      <th>...</th>\n",
       "      <th>Inventory</th>\n",
       "      <th>Budget_profit</th>\n",
       "      <th>Budget_COGS</th>\n",
       "      <th>Budget_margin</th>\n",
       "      <th>Budget_sales</th>\n",
       "      <th>Product_ID</th>\n",
       "      <th>Date</th>\n",
       "      <th>Product_type</th>\n",
       "      <th>Product</th>\n",
       "      <th>Type</th>\n",
       "    </tr>\n",
       "  </thead>\n",
       "  <tbody>\n",
       "    <tr>\n",
       "      <th>0</th>\n",
       "      <td>291.745817</td>\n",
       "      <td>301.5</td>\n",
       "      <td>297.005658</td>\n",
       "      <td>203</td>\n",
       "      <td>connecticut</td>\n",
       "      <td>east</td>\n",
       "      <td>small market</td>\n",
       "      <td>107</td>\n",
       "      <td>176</td>\n",
       "      <td>292</td>\n",
       "      <td>...</td>\n",
       "      <td>962</td>\n",
       "      <td>110</td>\n",
       "      <td>110</td>\n",
       "      <td>160</td>\n",
       "      <td>270</td>\n",
       "      <td>2</td>\n",
       "      <td>2010-01-04</td>\n",
       "      <td>0</td>\n",
       "      <td>columbian</td>\n",
       "      <td>0</td>\n",
       "    </tr>\n",
       "    <tr>\n",
       "      <th>1</th>\n",
       "      <td>238.914096</td>\n",
       "      <td>225.0</td>\n",
       "      <td>239.133137</td>\n",
       "      <td>203</td>\n",
       "      <td>connecticut</td>\n",
       "      <td>east</td>\n",
       "      <td>small market</td>\n",
       "      <td>75</td>\n",
       "      <td>135</td>\n",
       "      <td>225</td>\n",
       "      <td>...</td>\n",
       "      <td>1148</td>\n",
       "      <td>90</td>\n",
       "      <td>80</td>\n",
       "      <td>130</td>\n",
       "      <td>210</td>\n",
       "      <td>2</td>\n",
       "      <td>2010-01-07</td>\n",
       "      <td>0</td>\n",
       "      <td>columbian</td>\n",
       "      <td>0</td>\n",
       "    </tr>\n",
       "    <tr>\n",
       "      <th>2</th>\n",
       "      <td>325.170772</td>\n",
       "      <td>335.5</td>\n",
       "      <td>330.154555</td>\n",
       "      <td>203</td>\n",
       "      <td>connecticut</td>\n",
       "      <td>east</td>\n",
       "      <td>small market</td>\n",
       "      <td>122</td>\n",
       "      <td>195</td>\n",
       "      <td>325</td>\n",
       "      <td>...</td>\n",
       "      <td>1134</td>\n",
       "      <td>130</td>\n",
       "      <td>110</td>\n",
       "      <td>180</td>\n",
       "      <td>290</td>\n",
       "      <td>2</td>\n",
       "      <td>2010-01-11</td>\n",
       "      <td>0</td>\n",
       "      <td>columbian</td>\n",
       "      <td>0</td>\n",
       "    </tr>\n",
       "    <tr>\n",
       "      <th>3</th>\n",
       "      <td>285.468876</td>\n",
       "      <td>298.5</td>\n",
       "      <td>297.964060</td>\n",
       "      <td>203</td>\n",
       "      <td>connecticut</td>\n",
       "      <td>east</td>\n",
       "      <td>small market</td>\n",
       "      <td>105</td>\n",
       "      <td>174</td>\n",
       "      <td>289</td>\n",
       "      <td>...</td>\n",
       "      <td>1166</td>\n",
       "      <td>110</td>\n",
       "      <td>100</td>\n",
       "      <td>160</td>\n",
       "      <td>260</td>\n",
       "      <td>2</td>\n",
       "      <td>2010-01-12</td>\n",
       "      <td>0</td>\n",
       "      <td>columbian</td>\n",
       "      <td>0</td>\n",
       "    </tr>\n",
       "    <tr>\n",
       "      <th>4</th>\n",
       "      <td>231.598535</td>\n",
       "      <td>223.0</td>\n",
       "      <td>239.133137</td>\n",
       "      <td>203</td>\n",
       "      <td>connecticut</td>\n",
       "      <td>east</td>\n",
       "      <td>small market</td>\n",
       "      <td>104</td>\n",
       "      <td>135</td>\n",
       "      <td>223</td>\n",
       "      <td>...</td>\n",
       "      <td>1148</td>\n",
       "      <td>90</td>\n",
       "      <td>80</td>\n",
       "      <td>130</td>\n",
       "      <td>210</td>\n",
       "      <td>2</td>\n",
       "      <td>2011-01-07</td>\n",
       "      <td>0</td>\n",
       "      <td>columbian</td>\n",
       "      <td>0</td>\n",
       "    </tr>\n",
       "  </tbody>\n",
       "</table>\n",
       "<p>5 rows × 23 columns</p>\n",
       "</div>"
      ],
      "text/plain": [
       "      Pred_RL  Pred_DT     Pred_DG  Area_code        State Market  \\\n",
       "0  291.745817    301.5  297.005658        203  connecticut   east   \n",
       "1  238.914096    225.0  239.133137        203  connecticut   east   \n",
       "2  325.170772    335.5  330.154555        203  connecticut   east   \n",
       "3  285.468876    298.5  297.964060        203  connecticut   east   \n",
       "4  231.598535    223.0  239.133137        203  connecticut   east   \n",
       "\n",
       "    Market_size  Profit  Margin  Sales  ...  Inventory  Budget_profit  \\\n",
       "0  small market     107     176    292  ...        962            110   \n",
       "1  small market      75     135    225  ...       1148             90   \n",
       "2  small market     122     195    325  ...       1134            130   \n",
       "3  small market     105     174    289  ...       1166            110   \n",
       "4  small market     104     135    223  ...       1148             90   \n",
       "\n",
       "   Budget_COGS  Budget_margin  Budget_sales  Product_ID       Date  \\\n",
       "0          110            160           270           2 2010-01-04   \n",
       "1           80            130           210           2 2010-01-07   \n",
       "2          110            180           290           2 2010-01-11   \n",
       "3          100            160           260           2 2010-01-12   \n",
       "4           80            130           210           2 2011-01-07   \n",
       "\n",
       "   Product_type    Product Type  \n",
       "0             0  columbian    0  \n",
       "1             0  columbian    0  \n",
       "2             0  columbian    0  \n",
       "3             0  columbian    0  \n",
       "4             0  columbian    0  \n",
       "\n",
       "[5 rows x 23 columns]"
      ]
     },
     "execution_count": 44,
     "metadata": {},
     "output_type": "execute_result"
    }
   ],
   "source": [
    "df.head()"
   ]
  },
  {
   "cell_type": "code",
   "execution_count": 45,
   "id": "9f89ad53",
   "metadata": {
    "execution": {
     "iopub.execute_input": "2022-12-22T17:01:43.687587Z",
     "iopub.status.busy": "2022-12-22T17:01:43.687288Z",
     "iopub.status.idle": "2022-12-22T17:01:43.754201Z",
     "shell.execute_reply": "2022-12-22T17:01:43.753370Z"
    },
    "papermill": {
     "duration": 0.091338,
     "end_time": "2022-12-22T17:01:43.755894",
     "exception": false,
     "start_time": "2022-12-22T17:01:43.664556",
     "status": "completed"
    },
    "tags": []
   },
   "outputs": [
    {
     "data": {
      "text/html": [
       "<div>\n",
       "<style scoped>\n",
       "    .dataframe tbody tr th:only-of-type {\n",
       "        vertical-align: middle;\n",
       "    }\n",
       "\n",
       "    .dataframe tbody tr th {\n",
       "        vertical-align: top;\n",
       "    }\n",
       "\n",
       "    .dataframe thead th {\n",
       "        text-align: right;\n",
       "    }\n",
       "</style>\n",
       "<table border=\"1\" class=\"dataframe\">\n",
       "  <thead>\n",
       "    <tr style=\"text-align: right;\">\n",
       "      <th></th>\n",
       "      <th>0</th>\n",
       "      <th>1</th>\n",
       "      <th>2</th>\n",
       "      <th>3</th>\n",
       "      <th>4</th>\n",
       "      <th>5</th>\n",
       "      <th>6</th>\n",
       "      <th>7</th>\n",
       "      <th>8</th>\n",
       "      <th>9</th>\n",
       "      <th>...</th>\n",
       "      <th>4238</th>\n",
       "      <th>4239</th>\n",
       "      <th>4240</th>\n",
       "      <th>4241</th>\n",
       "      <th>4242</th>\n",
       "      <th>4243</th>\n",
       "      <th>4244</th>\n",
       "      <th>4245</th>\n",
       "      <th>4246</th>\n",
       "      <th>4247</th>\n",
       "    </tr>\n",
       "  </thead>\n",
       "  <tbody>\n",
       "    <tr>\n",
       "      <th>Pred_RL</th>\n",
       "      <td>291.745817</td>\n",
       "      <td>238.914096</td>\n",
       "      <td>325.170772</td>\n",
       "      <td>285.468876</td>\n",
       "      <td>231.598535</td>\n",
       "      <td>231.545074</td>\n",
       "      <td>277.827952</td>\n",
       "      <td>341.232337</td>\n",
       "      <td>325.170772</td>\n",
       "      <td>55.634553</td>\n",
       "      <td>...</td>\n",
       "      <td>169.081320</td>\n",
       "      <td>158.762729</td>\n",
       "      <td>138.647001</td>\n",
       "      <td>151.734811</td>\n",
       "      <td>165.254171</td>\n",
       "      <td>130.102014</td>\n",
       "      <td>124.356781</td>\n",
       "      <td>137.182964</td>\n",
       "      <td>151.734811</td>\n",
       "      <td>154.280829</td>\n",
       "    </tr>\n",
       "    <tr>\n",
       "      <th>Pred_DT</th>\n",
       "      <td>301.500000</td>\n",
       "      <td>225.000000</td>\n",
       "      <td>335.500000</td>\n",
       "      <td>298.500000</td>\n",
       "      <td>223.000000</td>\n",
       "      <td>223.000000</td>\n",
       "      <td>266.500000</td>\n",
       "      <td>323.500000</td>\n",
       "      <td>335.500000</td>\n",
       "      <td>51.000000</td>\n",
       "      <td>...</td>\n",
       "      <td>199.500000</td>\n",
       "      <td>167.000000</td>\n",
       "      <td>155.000000</td>\n",
       "      <td>155.000000</td>\n",
       "      <td>154.000000</td>\n",
       "      <td>113.000000</td>\n",
       "      <td>105.000000</td>\n",
       "      <td>135.500000</td>\n",
       "      <td>155.000000</td>\n",
       "      <td>153.000000</td>\n",
       "    </tr>\n",
       "    <tr>\n",
       "      <th>Pred_DG</th>\n",
       "      <td>297.005658</td>\n",
       "      <td>239.133137</td>\n",
       "      <td>330.154555</td>\n",
       "      <td>297.964060</td>\n",
       "      <td>239.133137</td>\n",
       "      <td>239.133137</td>\n",
       "      <td>284.510790</td>\n",
       "      <td>304.844866</td>\n",
       "      <td>330.154555</td>\n",
       "      <td>52.380009</td>\n",
       "      <td>...</td>\n",
       "      <td>190.418232</td>\n",
       "      <td>180.529700</td>\n",
       "      <td>155.916938</td>\n",
       "      <td>150.890168</td>\n",
       "      <td>155.427511</td>\n",
       "      <td>115.897379</td>\n",
       "      <td>118.918132</td>\n",
       "      <td>125.976276</td>\n",
       "      <td>150.890168</td>\n",
       "      <td>151.958093</td>\n",
       "    </tr>\n",
       "    <tr>\n",
       "      <th>Sales</th>\n",
       "      <td>292.000000</td>\n",
       "      <td>225.000000</td>\n",
       "      <td>325.000000</td>\n",
       "      <td>289.000000</td>\n",
       "      <td>223.000000</td>\n",
       "      <td>223.000000</td>\n",
       "      <td>275.000000</td>\n",
       "      <td>334.000000</td>\n",
       "      <td>346.000000</td>\n",
       "      <td>51.000000</td>\n",
       "      <td>...</td>\n",
       "      <td>206.000000</td>\n",
       "      <td>167.000000</td>\n",
       "      <td>160.000000</td>\n",
       "      <td>150.000000</td>\n",
       "      <td>154.000000</td>\n",
       "      <td>113.000000</td>\n",
       "      <td>105.000000</td>\n",
       "      <td>131.000000</td>\n",
       "      <td>160.000000</td>\n",
       "      <td>153.000000</td>\n",
       "    </tr>\n",
       "  </tbody>\n",
       "</table>\n",
       "<p>4 rows × 4248 columns</p>\n",
       "</div>"
      ],
      "text/plain": [
       "               0           1           2           3           4     \\\n",
       "Pred_RL  291.745817  238.914096  325.170772  285.468876  231.598535   \n",
       "Pred_DT  301.500000  225.000000  335.500000  298.500000  223.000000   \n",
       "Pred_DG  297.005658  239.133137  330.154555  297.964060  239.133137   \n",
       "Sales    292.000000  225.000000  325.000000  289.000000  223.000000   \n",
       "\n",
       "               5           6           7           8          9     ...  \\\n",
       "Pred_RL  231.545074  277.827952  341.232337  325.170772  55.634553  ...   \n",
       "Pred_DT  223.000000  266.500000  323.500000  335.500000  51.000000  ...   \n",
       "Pred_DG  239.133137  284.510790  304.844866  330.154555  52.380009  ...   \n",
       "Sales    223.000000  275.000000  334.000000  346.000000  51.000000  ...   \n",
       "\n",
       "               4238        4239        4240        4241        4242  \\\n",
       "Pred_RL  169.081320  158.762729  138.647001  151.734811  165.254171   \n",
       "Pred_DT  199.500000  167.000000  155.000000  155.000000  154.000000   \n",
       "Pred_DG  190.418232  180.529700  155.916938  150.890168  155.427511   \n",
       "Sales    206.000000  167.000000  160.000000  150.000000  154.000000   \n",
       "\n",
       "               4243        4244        4245        4246        4247  \n",
       "Pred_RL  130.102014  124.356781  137.182964  151.734811  154.280829  \n",
       "Pred_DT  113.000000  105.000000  135.500000  155.000000  153.000000  \n",
       "Pred_DG  115.897379  118.918132  125.976276  150.890168  151.958093  \n",
       "Sales    113.000000  105.000000  131.000000  160.000000  153.000000  \n",
       "\n",
       "[4 rows x 4248 columns]"
      ]
     },
     "execution_count": 45,
     "metadata": {},
     "output_type": "execute_result"
    }
   ],
   "source": [
    "Columns =df.Pred_RL,df.Pred_DT,df.Pred_DG, df.Sales\n",
    "rows = [\"Pred_RL\",\"Pred_DT\",\"Pred_DG\",\"Sales\"]\n",
    "data_p= pd.DataFrame(Columns,rows)\n",
    "data_p.head()"
   ]
  },
  {
   "cell_type": "markdown",
   "id": "a8daed3c",
   "metadata": {
    "papermill": {
     "duration": 0.021651,
     "end_time": "2022-12-22T17:01:43.799088",
     "exception": false,
     "start_time": "2022-12-22T17:01:43.777437",
     "status": "completed"
    },
    "tags": []
   },
   "source": [
    "<p><a name=\"compr\"></a></p>\n",
    "\n",
    "## Comparación de resultados"
   ]
  },
  {
   "cell_type": "code",
   "execution_count": 46,
   "id": "8169e816",
   "metadata": {
    "execution": {
     "iopub.execute_input": "2022-12-22T17:01:43.844657Z",
     "iopub.status.busy": "2022-12-22T17:01:43.844154Z",
     "iopub.status.idle": "2022-12-22T17:01:43.858632Z",
     "shell.execute_reply": "2022-12-22T17:01:43.857919Z"
    },
    "papermill": {
     "duration": 0.03986,
     "end_time": "2022-12-22T17:01:43.860911",
     "exception": false,
     "start_time": "2022-12-22T17:01:43.821051",
     "status": "completed"
    },
    "tags": []
   },
   "outputs": [],
   "source": [
    "score1=DT_model.score(X,y)\n",
    "score2=DG_model.score(X,y)\n",
    "score3=Reg_model.score(X,y)"
   ]
  },
  {
   "cell_type": "code",
   "execution_count": 47,
   "id": "e23602e2",
   "metadata": {
    "execution": {
     "iopub.execute_input": "2022-12-22T17:01:43.922640Z",
     "iopub.status.busy": "2022-12-22T17:01:43.922274Z",
     "iopub.status.idle": "2022-12-22T17:01:43.934614Z",
     "shell.execute_reply": "2022-12-22T17:01:43.933817Z"
    },
    "papermill": {
     "duration": 0.046788,
     "end_time": "2022-12-22T17:01:43.936667",
     "exception": false,
     "start_time": "2022-12-22T17:01:43.889879",
     "status": "completed"
    },
    "tags": []
   },
   "outputs": [
    {
     "data": {
      "text/html": [
       "<div>\n",
       "<style scoped>\n",
       "    .dataframe tbody tr th:only-of-type {\n",
       "        vertical-align: middle;\n",
       "    }\n",
       "\n",
       "    .dataframe tbody tr th {\n",
       "        vertical-align: top;\n",
       "    }\n",
       "\n",
       "    .dataframe thead th {\n",
       "        text-align: right;\n",
       "    }\n",
       "</style>\n",
       "<table border=\"1\" class=\"dataframe\">\n",
       "  <thead>\n",
       "    <tr style=\"text-align: right;\">\n",
       "      <th></th>\n",
       "      <th>0</th>\n",
       "    </tr>\n",
       "  </thead>\n",
       "  <tbody>\n",
       "    <tr>\n",
       "      <th>DT_model</th>\n",
       "      <td>99.851955</td>\n",
       "    </tr>\n",
       "    <tr>\n",
       "      <th>DG_model</th>\n",
       "      <td>98.770342</td>\n",
       "    </tr>\n",
       "    <tr>\n",
       "      <th>Reg_model</th>\n",
       "      <td>94.416039</td>\n",
       "    </tr>\n",
       "  </tbody>\n",
       "</table>\n",
       "</div>"
      ],
      "text/plain": [
       "                   0\n",
       "DT_model   99.851955\n",
       "DG_model   98.770342\n",
       "Reg_model  94.416039"
      ]
     },
     "execution_count": 47,
     "metadata": {},
     "output_type": "execute_result"
    }
   ],
   "source": [
    "Columns =score1*100,score2*100,score3*100, \n",
    "rows = [\"DT_model\",\"DG_model\",\"Reg_model\"]\n",
    "data_p= pd.DataFrame(Columns,rows)\n",
    "data_p"
   ]
  },
  {
   "cell_type": "markdown",
   "id": "1b0b2ba2",
   "metadata": {
    "papermill": {
     "duration": 0.024653,
     "end_time": "2022-12-22T17:01:43.990742",
     "exception": false,
     "start_time": "2022-12-22T17:01:43.966089",
     "status": "completed"
    },
    "tags": []
   },
   "source": [
    "<p><a name=\"conc\"></a></p>\n",
    "\n",
    "# Conclusiones"
   ]
  },
  {
   "cell_type": "markdown",
   "id": "e21588bf",
   "metadata": {
    "papermill": {
     "duration": 0.021847,
     "end_time": "2022-12-22T17:01:44.034852",
     "exception": false,
     "start_time": "2022-12-22T17:01:44.013005",
     "status": "completed"
    },
    "tags": []
   },
   "source": [
    "***Se elige el modelo de arbol de decisiones por tener un mejor resultado en el momento de aplicar los modelos de regresión,  para este caso nuestro modelo fue de 99.85%***"
   ]
  }
 ],
 "metadata": {
  "kernelspec": {
   "display_name": "Python 3",
   "language": "python",
   "name": "python3"
  },
  "language_info": {
   "codemirror_mode": {
    "name": "ipython",
    "version": 3
   },
   "file_extension": ".py",
   "mimetype": "text/x-python",
   "name": "python",
   "nbconvert_exporter": "python",
   "pygments_lexer": "ipython3",
   "version": "3.7.12"
  },
  "papermill": {
   "default_parameters": {},
   "duration": 19.745388,
   "end_time": "2022-12-22T17:01:44.780147",
   "environment_variables": {},
   "exception": null,
   "input_path": "__notebook__.ipynb",
   "output_path": "__notebook__.ipynb",
   "parameters": {},
   "start_time": "2022-12-22T17:01:25.034759",
   "version": "2.3.4"
  }
 },
 "nbformat": 4,
 "nbformat_minor": 5
}
